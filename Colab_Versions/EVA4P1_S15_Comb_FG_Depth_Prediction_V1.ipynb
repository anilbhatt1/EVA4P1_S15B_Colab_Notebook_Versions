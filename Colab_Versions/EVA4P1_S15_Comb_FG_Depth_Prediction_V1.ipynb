{
  "nbformat": 4,
  "nbformat_minor": 0,
  "metadata": {
    "colab": {
      "name": "EVA4P1_S15_Comb_FG_Depth_Prediction_V1.ipynb",
      "provenance": [],
      "collapsed_sections": []
    },
    "kernelspec": {
      "name": "python3",
      "display_name": "Python 3"
    },
    "accelerator": "GPU",
    "widgets": {
      "application/vnd.jupyter.widget-state+json": {
        "68825b1d93684524a5f2e76dd5fca98b": {
          "model_module": "@jupyter-widgets/controls",
          "model_name": "HBoxModel",
          "state": {
            "_view_name": "HBoxView",
            "_dom_classes": [],
            "_model_name": "HBoxModel",
            "_view_module": "@jupyter-widgets/controls",
            "_model_module_version": "1.5.0",
            "_view_count": null,
            "_view_module_version": "1.5.0",
            "box_style": "",
            "layout": "IPY_MODEL_86f22b19dac349de969dcfd8df4335c1",
            "_model_module": "@jupyter-widgets/controls",
            "children": [
              "IPY_MODEL_acb42a090a8c41f39b93194a088a2378",
              "IPY_MODEL_b3746614acff4bd083f232c5dd248823"
            ]
          }
        },
        "86f22b19dac349de969dcfd8df4335c1": {
          "model_module": "@jupyter-widgets/base",
          "model_name": "LayoutModel",
          "state": {
            "_view_name": "LayoutView",
            "grid_template_rows": null,
            "right": null,
            "justify_content": null,
            "_view_module": "@jupyter-widgets/base",
            "overflow": null,
            "_model_module_version": "1.2.0",
            "_view_count": null,
            "flex_flow": null,
            "width": null,
            "min_width": null,
            "border": null,
            "align_items": null,
            "bottom": null,
            "_model_module": "@jupyter-widgets/base",
            "top": null,
            "grid_column": null,
            "overflow_y": null,
            "overflow_x": null,
            "grid_auto_flow": null,
            "grid_area": null,
            "grid_template_columns": null,
            "flex": null,
            "_model_name": "LayoutModel",
            "justify_items": null,
            "grid_row": null,
            "max_height": null,
            "align_content": null,
            "visibility": null,
            "align_self": null,
            "height": null,
            "min_height": null,
            "padding": null,
            "grid_auto_rows": null,
            "grid_gap": null,
            "max_width": null,
            "order": null,
            "_view_module_version": "1.2.0",
            "grid_template_areas": null,
            "object_position": null,
            "object_fit": null,
            "grid_auto_columns": null,
            "margin": null,
            "display": null,
            "left": null
          }
        },
        "acb42a090a8c41f39b93194a088a2378": {
          "model_module": "@jupyter-widgets/controls",
          "model_name": "FloatProgressModel",
          "state": {
            "_view_name": "ProgressView",
            "style": "IPY_MODEL_ad5108365a7c412982c707d473410d30",
            "_dom_classes": [],
            "description": "loss=2.154700994491577 l1=0.7134878635406494 l2=0.7277252078056335: 100%",
            "_model_name": "FloatProgressModel",
            "bar_style": "success",
            "max": 800,
            "_view_module": "@jupyter-widgets/controls",
            "_model_module_version": "1.5.0",
            "value": 800,
            "_view_count": null,
            "_view_module_version": "1.5.0",
            "orientation": "horizontal",
            "min": 0,
            "description_tooltip": null,
            "_model_module": "@jupyter-widgets/controls",
            "layout": "IPY_MODEL_13e401e914824106a9c9afccb95624d1"
          }
        },
        "b3746614acff4bd083f232c5dd248823": {
          "model_module": "@jupyter-widgets/controls",
          "model_name": "HTMLModel",
          "state": {
            "_view_name": "HTMLView",
            "style": "IPY_MODEL_1926f5316aa24031a3574c68c85f0b74",
            "_dom_classes": [],
            "description": "",
            "_model_name": "HTMLModel",
            "placeholder": "​",
            "_view_module": "@jupyter-widgets/controls",
            "_model_module_version": "1.5.0",
            "value": " 800/800 [16:01&lt;00:00,  1.20s/it]",
            "_view_count": null,
            "_view_module_version": "1.5.0",
            "description_tooltip": null,
            "_model_module": "@jupyter-widgets/controls",
            "layout": "IPY_MODEL_3d611b7ecdb04c59a98cfe621b435bed"
          }
        },
        "ad5108365a7c412982c707d473410d30": {
          "model_module": "@jupyter-widgets/controls",
          "model_name": "ProgressStyleModel",
          "state": {
            "_view_name": "StyleView",
            "_model_name": "ProgressStyleModel",
            "description_width": "initial",
            "_view_module": "@jupyter-widgets/base",
            "_model_module_version": "1.5.0",
            "_view_count": null,
            "_view_module_version": "1.2.0",
            "bar_color": null,
            "_model_module": "@jupyter-widgets/controls"
          }
        },
        "13e401e914824106a9c9afccb95624d1": {
          "model_module": "@jupyter-widgets/base",
          "model_name": "LayoutModel",
          "state": {
            "_view_name": "LayoutView",
            "grid_template_rows": null,
            "right": null,
            "justify_content": null,
            "_view_module": "@jupyter-widgets/base",
            "overflow": null,
            "_model_module_version": "1.2.0",
            "_view_count": null,
            "flex_flow": null,
            "width": null,
            "min_width": null,
            "border": null,
            "align_items": null,
            "bottom": null,
            "_model_module": "@jupyter-widgets/base",
            "top": null,
            "grid_column": null,
            "overflow_y": null,
            "overflow_x": null,
            "grid_auto_flow": null,
            "grid_area": null,
            "grid_template_columns": null,
            "flex": null,
            "_model_name": "LayoutModel",
            "justify_items": null,
            "grid_row": null,
            "max_height": null,
            "align_content": null,
            "visibility": null,
            "align_self": null,
            "height": null,
            "min_height": null,
            "padding": null,
            "grid_auto_rows": null,
            "grid_gap": null,
            "max_width": null,
            "order": null,
            "_view_module_version": "1.2.0",
            "grid_template_areas": null,
            "object_position": null,
            "object_fit": null,
            "grid_auto_columns": null,
            "margin": null,
            "display": null,
            "left": null
          }
        },
        "1926f5316aa24031a3574c68c85f0b74": {
          "model_module": "@jupyter-widgets/controls",
          "model_name": "DescriptionStyleModel",
          "state": {
            "_view_name": "StyleView",
            "_model_name": "DescriptionStyleModel",
            "description_width": "",
            "_view_module": "@jupyter-widgets/base",
            "_model_module_version": "1.5.0",
            "_view_count": null,
            "_view_module_version": "1.2.0",
            "_model_module": "@jupyter-widgets/controls"
          }
        },
        "3d611b7ecdb04c59a98cfe621b435bed": {
          "model_module": "@jupyter-widgets/base",
          "model_name": "LayoutModel",
          "state": {
            "_view_name": "LayoutView",
            "grid_template_rows": null,
            "right": null,
            "justify_content": null,
            "_view_module": "@jupyter-widgets/base",
            "overflow": null,
            "_model_module_version": "1.2.0",
            "_view_count": null,
            "flex_flow": null,
            "width": null,
            "min_width": null,
            "border": null,
            "align_items": null,
            "bottom": null,
            "_model_module": "@jupyter-widgets/base",
            "top": null,
            "grid_column": null,
            "overflow_y": null,
            "overflow_x": null,
            "grid_auto_flow": null,
            "grid_area": null,
            "grid_template_columns": null,
            "flex": null,
            "_model_name": "LayoutModel",
            "justify_items": null,
            "grid_row": null,
            "max_height": null,
            "align_content": null,
            "visibility": null,
            "align_self": null,
            "height": null,
            "min_height": null,
            "padding": null,
            "grid_auto_rows": null,
            "grid_gap": null,
            "max_width": null,
            "order": null,
            "_view_module_version": "1.2.0",
            "grid_template_areas": null,
            "object_position": null,
            "object_fit": null,
            "grid_auto_columns": null,
            "margin": null,
            "display": null,
            "left": null
          }
        }
      }
    }
  },
  "cells": [
    {
      "cell_type": "code",
      "metadata": {
        "id": "apBxYAZbXG0F",
        "colab_type": "code",
        "outputId": "1e0720cb-141d-49f5-ef17-5dd5dfaecb11",
        "colab": {
          "base_uri": "https://localhost:8080/",
          "height": 312
        }
      },
      "source": [
        "! nvidia-smi"
      ],
      "execution_count": 0,
      "outputs": [
        {
          "output_type": "stream",
          "text": [
            "Wed May 20 08:20:29 2020       \n",
            "+-----------------------------------------------------------------------------+\n",
            "| NVIDIA-SMI 440.82       Driver Version: 418.67       CUDA Version: 10.1     |\n",
            "|-------------------------------+----------------------+----------------------+\n",
            "| GPU  Name        Persistence-M| Bus-Id        Disp.A | Volatile Uncorr. ECC |\n",
            "| Fan  Temp  Perf  Pwr:Usage/Cap|         Memory-Usage | GPU-Util  Compute M. |\n",
            "|===============================+======================+======================|\n",
            "|   0  Tesla K80           Off  | 00000000:00:04.0 Off |                    0 |\n",
            "| N/A   58C    P8    31W / 149W |      0MiB / 11441MiB |      0%      Default |\n",
            "+-------------------------------+----------------------+----------------------+\n",
            "                                                                               \n",
            "+-----------------------------------------------------------------------------+\n",
            "| Processes:                                                       GPU Memory |\n",
            "|  GPU       PID   Type   Process name                             Usage      |\n",
            "|=============================================================================|\n",
            "|  No running processes found                                                 |\n",
            "+-----------------------------------------------------------------------------+\n"
          ],
          "name": "stdout"
        }
      ]
    },
    {
      "cell_type": "code",
      "metadata": {
        "id": "BsX-oaLbXPrG",
        "colab_type": "code",
        "outputId": "6a8cef7e-c79b-4d7b-8ae3-33013596690a",
        "colab": {
          "base_uri": "https://localhost:8080/",
          "height": 124
        }
      },
      "source": [
        "from google.colab import drive\n",
        "drive.mount('/content/gdrive')"
      ],
      "execution_count": 0,
      "outputs": [
        {
          "output_type": "stream",
          "text": [
            "Go to this URL in a browser: https://accounts.google.com/o/oauth2/auth?client_id=947318989803-6bn6qk8qdgf4n4g3pfee6491hc0brc4i.apps.googleusercontent.com&redirect_uri=urn%3aietf%3awg%3aoauth%3a2.0%3aoob&response_type=code&scope=email%20https%3a%2f%2fwww.googleapis.com%2fauth%2fdocs.test%20https%3a%2f%2fwww.googleapis.com%2fauth%2fdrive%20https%3a%2f%2fwww.googleapis.com%2fauth%2fdrive.photos.readonly%20https%3a%2f%2fwww.googleapis.com%2fauth%2fpeopleapi.readonly\n",
            "\n",
            "Enter your authorization code:\n",
            "··········\n",
            "Mounted at /content/gdrive\n"
          ],
          "name": "stdout"
        }
      ]
    },
    {
      "cell_type": "code",
      "metadata": {
        "id": "ymD5LhUiXSlu",
        "colab_type": "code",
        "outputId": "e9b0d3f7-4bdf-4b7c-e0f1-e7cb3e126bda",
        "colab": {
          "base_uri": "https://localhost:8080/",
          "height": 1000
        }
      },
      "source": [
        "from __future__ import print_function\n",
        "import torch\n",
        "import torchvision\n",
        "from torchvision import transforms\n",
        "from torch.utils.data import DataLoader, Dataset\n",
        "import torch.nn as nn\n",
        "import torch.nn.functional as F\n",
        "import torch.optim as optim\n",
        "import numpy as np\n",
        "from tqdm import tqdm\n",
        "from PIL import Image\n",
        "from tqdm import tqdm_notebook\n",
        "import matplotlib.pyplot as plt\n",
        "import cv2\n",
        "import pkgutil\n",
        "import importlib\n",
        "import os\n",
        "%matplotlib inline\n",
        "%config IPCompleter.greedy=True\n",
        "%reload_ext autoreload\n",
        "import seaborn as sns\n",
        "import io\n",
        "import skimage\n",
        "from skimage.transform import resize\n",
        "from itertools import groupby\n",
        "from tqdm.auto import tqdm\n",
        "from pathlib import Path\n",
        "from time import time\n",
        "from datetime import datetime \n",
        "import gc\n",
        "sns.set()\n",
        "from zipfile import ZipFile\n",
        "import zipfile\n",
        "\n",
        "# install \"apex\" model for mixed precision training if required.. this is needed for LRFinder\n",
        "if pkgutil.find_loader(\"apex\") is None:\n",
        "   print(\"****apex module does not exist..hence installing*****\")\n",
        "   !pip install -U git+https://www.github.com/NVIDIA/apex --no-cache-dir\n",
        "\n",
        "import albumentations\n",
        "print(albumentations.__version__) # check version\n",
        "\n",
        "# This is to install and use albumentations latest package v0.4.5\n",
        "album_version_needed = \"0.4.5\"\n",
        "if albumentations.__version__ != album_version_needed:\n",
        "  !pip install albumentations==0.4.5   # 0.4.5 is the latest albumentation version\n",
        "print('Pytorch version:', torch.__version__)\n",
        "\n",
        "!pip install kornia\n",
        "from kornia.losses import SSIM"
      ],
      "execution_count": 0,
      "outputs": [
        {
          "output_type": "stream",
          "text": [
            "/usr/local/lib/python3.6/dist-packages/statsmodels/tools/_testing.py:19: FutureWarning: pandas.util.testing is deprecated. Use the functions in the public API at pandas.testing instead.\n",
            "  import pandas.util.testing as tm\n"
          ],
          "name": "stderr"
        },
        {
          "output_type": "stream",
          "text": [
            "****apex module does not exist..hence installing*****\n",
            "Collecting git+https://www.github.com/NVIDIA/apex\n",
            "  Cloning https://www.github.com/NVIDIA/apex to /tmp/pip-req-build-o_s9c_qa\n",
            "  Running command git clone -q https://www.github.com/NVIDIA/apex /tmp/pip-req-build-o_s9c_qa\n",
            "  Running command git submodule update --init --recursive -q\n",
            "Building wheels for collected packages: apex\n",
            "  Building wheel for apex (setup.py) ... \u001b[?25l\u001b[?25hdone\n",
            "  Created wheel for apex: filename=apex-0.1-cp36-none-any.whl size=177467 sha256=2e54a3ab5b1815f970c01c2f61a9484f6f62061f0e916571461f520ded3c1ebb\n",
            "  Stored in directory: /tmp/pip-ephem-wheel-cache-cd1a1p2e/wheels/08/3e/36/a75a9914e497fe42598f9dbe67496b2b300a8851f4d396a285\n",
            "Successfully built apex\n",
            "Installing collected packages: apex\n",
            "Successfully installed apex-0.1\n",
            "0.1.12\n",
            "Collecting albumentations==0.4.5\n",
            "\u001b[?25l  Downloading https://files.pythonhosted.org/packages/8d/40/a343ecacc7e22fe52ab9a16b84dc6165ba05ee17e3729adeb3e2ffa2b37b/albumentations-0.4.5.tar.gz (116kB)\n",
            "\u001b[K     |████████████████████████████████| 122kB 3.5MB/s \n",
            "\u001b[?25hRequirement already satisfied: numpy>=1.11.1 in /usr/local/lib/python3.6/dist-packages (from albumentations==0.4.5) (1.18.4)\n",
            "Requirement already satisfied: scipy in /usr/local/lib/python3.6/dist-packages (from albumentations==0.4.5) (1.4.1)\n",
            "Collecting imgaug<0.2.7,>=0.2.5\n",
            "\u001b[?25l  Downloading https://files.pythonhosted.org/packages/ad/2e/748dbb7bb52ec8667098bae9b585f448569ae520031932687761165419a2/imgaug-0.2.6.tar.gz (631kB)\n",
            "\u001b[K     |████████████████████████████████| 634kB 38.6MB/s \n",
            "\u001b[?25hRequirement already satisfied: PyYAML in /usr/local/lib/python3.6/dist-packages (from albumentations==0.4.5) (3.13)\n",
            "Requirement already satisfied: opencv-python>=4.1.1 in /usr/local/lib/python3.6/dist-packages (from albumentations==0.4.5) (4.1.2.30)\n",
            "Requirement already satisfied: scikit-image>=0.11.0 in /usr/local/lib/python3.6/dist-packages (from imgaug<0.2.7,>=0.2.5->albumentations==0.4.5) (0.16.2)\n",
            "Requirement already satisfied: six in /usr/local/lib/python3.6/dist-packages (from imgaug<0.2.7,>=0.2.5->albumentations==0.4.5) (1.12.0)\n",
            "Requirement already satisfied: networkx>=2.0 in /usr/local/lib/python3.6/dist-packages (from scikit-image>=0.11.0->imgaug<0.2.7,>=0.2.5->albumentations==0.4.5) (2.4)\n",
            "Requirement already satisfied: pillow>=4.3.0 in /usr/local/lib/python3.6/dist-packages (from scikit-image>=0.11.0->imgaug<0.2.7,>=0.2.5->albumentations==0.4.5) (7.0.0)\n",
            "Requirement already satisfied: matplotlib!=3.0.0,>=2.0.0 in /usr/local/lib/python3.6/dist-packages (from scikit-image>=0.11.0->imgaug<0.2.7,>=0.2.5->albumentations==0.4.5) (3.2.1)\n",
            "Requirement already satisfied: imageio>=2.3.0 in /usr/local/lib/python3.6/dist-packages (from scikit-image>=0.11.0->imgaug<0.2.7,>=0.2.5->albumentations==0.4.5) (2.4.1)\n",
            "Requirement already satisfied: PyWavelets>=0.4.0 in /usr/local/lib/python3.6/dist-packages (from scikit-image>=0.11.0->imgaug<0.2.7,>=0.2.5->albumentations==0.4.5) (1.1.1)\n",
            "Requirement already satisfied: decorator>=4.3.0 in /usr/local/lib/python3.6/dist-packages (from networkx>=2.0->scikit-image>=0.11.0->imgaug<0.2.7,>=0.2.5->albumentations==0.4.5) (4.4.2)\n",
            "Requirement already satisfied: pyparsing!=2.0.4,!=2.1.2,!=2.1.6,>=2.0.1 in /usr/local/lib/python3.6/dist-packages (from matplotlib!=3.0.0,>=2.0.0->scikit-image>=0.11.0->imgaug<0.2.7,>=0.2.5->albumentations==0.4.5) (2.4.7)\n",
            "Requirement already satisfied: python-dateutil>=2.1 in /usr/local/lib/python3.6/dist-packages (from matplotlib!=3.0.0,>=2.0.0->scikit-image>=0.11.0->imgaug<0.2.7,>=0.2.5->albumentations==0.4.5) (2.8.1)\n",
            "Requirement already satisfied: cycler>=0.10 in /usr/local/lib/python3.6/dist-packages (from matplotlib!=3.0.0,>=2.0.0->scikit-image>=0.11.0->imgaug<0.2.7,>=0.2.5->albumentations==0.4.5) (0.10.0)\n",
            "Requirement already satisfied: kiwisolver>=1.0.1 in /usr/local/lib/python3.6/dist-packages (from matplotlib!=3.0.0,>=2.0.0->scikit-image>=0.11.0->imgaug<0.2.7,>=0.2.5->albumentations==0.4.5) (1.2.0)\n",
            "Building wheels for collected packages: albumentations, imgaug\n",
            "  Building wheel for albumentations (setup.py) ... \u001b[?25l\u001b[?25hdone\n",
            "  Created wheel for albumentations: filename=albumentations-0.4.5-cp36-none-any.whl size=64378 sha256=a3e324c040227e0d56b08d6c7586fc384190fb4caf883d62a6b12514d520e6d6\n",
            "  Stored in directory: /root/.cache/pip/wheels/f0/a0/61/e50f93165a5ec7e7f5d65064e513239505bc4c06d2289557d3\n",
            "  Building wheel for imgaug (setup.py) ... \u001b[?25l\u001b[?25hdone\n",
            "  Created wheel for imgaug: filename=imgaug-0.2.6-cp36-none-any.whl size=654020 sha256=40f8659c776a2544c8dbb0fba96e33a0df331250a6736a1809ce662897326b1f\n",
            "  Stored in directory: /root/.cache/pip/wheels/97/ec/48/0d25896c417b715af6236dbcef8f0bed136a1a5e52972fc6d0\n",
            "Successfully built albumentations imgaug\n",
            "Installing collected packages: imgaug, albumentations\n",
            "  Found existing installation: imgaug 0.2.9\n",
            "    Uninstalling imgaug-0.2.9:\n",
            "      Successfully uninstalled imgaug-0.2.9\n",
            "  Found existing installation: albumentations 0.1.12\n",
            "    Uninstalling albumentations-0.1.12:\n",
            "      Successfully uninstalled albumentations-0.1.12\n",
            "Successfully installed albumentations-0.4.5 imgaug-0.2.6\n"
          ],
          "name": "stdout"
        },
        {
          "output_type": "display_data",
          "data": {
            "application/vnd.colab-display-data+json": {
              "pip_warning": {
                "packages": [
                  "albumentations",
                  "imgaug"
                ]
              }
            }
          },
          "metadata": {
            "tags": []
          }
        },
        {
          "output_type": "stream",
          "text": [
            "Pytorch version: 1.5.0+cu101\n",
            "Collecting kornia\n",
            "\u001b[?25l  Downloading https://files.pythonhosted.org/packages/c2/60/f0c174c4a2a40b10b04b37c43f5afee3701cc145b48441a2dc5cf9286c3c/kornia-0.3.1-py2.py3-none-any.whl (158kB)\n",
            "\u001b[K     |████████████████████████████████| 163kB 3.5MB/s \n",
            "\u001b[?25hRequirement already satisfied: numpy in /usr/local/lib/python3.6/dist-packages (from kornia) (1.18.4)\n",
            "Requirement already satisfied: torch==1.5.0 in /usr/local/lib/python3.6/dist-packages (from kornia) (1.5.0+cu101)\n",
            "Requirement already satisfied: future in /usr/local/lib/python3.6/dist-packages (from torch==1.5.0->kornia) (0.16.0)\n",
            "Installing collected packages: kornia\n",
            "Successfully installed kornia-0.3.1\n"
          ],
          "name": "stdout"
        }
      ]
    },
    {
      "cell_type": "code",
      "metadata": {
        "id": "GcUEtIwzXcfG",
        "colab_type": "code",
        "outputId": "bd86c5d7-a438-4873-f5f4-a0fb152e9ec3",
        "colab": {
          "base_uri": "https://localhost:8080/",
          "height": 139
        }
      },
      "source": [
        "os.mkdir('/content/sample_data/FG_BG')\n",
        "os.mkdir('/content/sample_data/Mask')\n",
        "os.mkdir('/content/sample_data/Depth')\n",
        "\n",
        "FG_BG_zip =  ZipFile(\"/content/gdrive/My Drive/EVA4P1_S15/FG_BG_Mask_Depth/FG_BG_400K.zip\", 'r')\n",
        "Mask_zip  = ZipFile(\"/content/gdrive/My Drive/EVA4P1_S15/FG_BG_Mask_Depth/FG_BG_Mask_400K.zip\", 'r')\n",
        "Depth_zip = ZipFile(\"/content/gdrive/My Drive/EVA4P1_S15/FG_BG_Mask_Depth/FG_BG_Depth_400K.zip\", 'r')\n",
        "all_files_FG_BG = [info.filename for info in FG_BG_zip.infolist() if not info.is_dir()]\n",
        "all_files_Mask  = [info.filename for info in Mask_zip.infolist() if not info.is_dir()]\n",
        "all_files_Depth = [info.filename for info in Depth_zip.infolist() if not info.is_dir()]\n",
        "print(len(all_files_FG_BG))\n",
        "print(len(all_files_Mask))\n",
        "print(len(all_files_Depth))\n",
        "\n",
        "path_fg_bg  = '/content/sample_data/FG_BG/'\n",
        "path_mask   = '/content/sample_data/Mask/' \n",
        "path_depth  = '/content/sample_data/Depth/'\n",
        "\n",
        "t1 = time()\n",
        "k = 0\n",
        "for img_file in all_files_FG_BG[0:20000]:\n",
        "    if img_file.endswith('jpg'):\n",
        "        imgdata = FG_BG_zip.read(img_file)\n",
        "        img = Image.open(io.BytesIO(imgdata))\n",
        "        file_name = img_file.split('/')[-1].split('.')[0] + '.jpg'\n",
        "        img.save(f'{path_fg_bg}{file_name}')\n",
        "        k += 1\n",
        "print('FG_BG Written:',k) \n",
        "\n",
        "k = 0\n",
        "for img_file in all_files_Mask[0:]:\n",
        "    if img_file.endswith('jpg'):\n",
        "        imgdata = Mask_zip.read(img_file)\n",
        "        img = Image.open(io.BytesIO(imgdata))\n",
        "        file_name = img_file.split('/')[-1].split('.')[0] + '.jpg'\n",
        "        img.save(f'{path_mask}{file_name}')\n",
        "        k += 1\n",
        "print('Masks Written:',k) \n",
        "\n",
        "k = 0\n",
        "for img_file in all_files_Depth[0:]:\n",
        "    if img_file.endswith('jpg'):\n",
        "        imgdata = Depth_zip.read(img_file)\n",
        "        img = Image.open(io.BytesIO(imgdata))\n",
        "        file_name = img_file.split('/')[-1].split('.')[0] + '.jpg'\n",
        "        img.save(f'{path_depth}{file_name}')\n",
        "        k += 1\n",
        "print('Depth Written:',k) \n",
        "\n",
        "!cp -r '/content/gdrive/My Drive/EVA4P1_S15/FG_BG_Mask_Depth/BG_and_Its_Flip' '/content/sample_data/'\n",
        "!cp '/content/gdrive/My Drive/EVA4P1_S15/FG_BG_Mask_Depth/FG_BG_Filename_withflip_Logs.txt' '/content/sample_data/'\n",
        "\n",
        "t2 = time()\n",
        "print(f'Copy took {(t2-t1)/60:.5f} minutes')"
      ],
      "execution_count": 0,
      "outputs": [
        {
          "output_type": "stream",
          "text": [
            "400000\n",
            "400000\n",
            "400000\n",
            "FG_BG Written: 20000\n",
            "Masks Written: 400000\n",
            "Depth Written: 400000\n",
            "Copy took 15.60730 minutes\n"
          ],
          "name": "stdout"
        }
      ]
    },
    {
      "cell_type": "code",
      "metadata": {
        "id": "bFopA0YBXg1G",
        "colab_type": "code",
        "outputId": "0e34128b-1e4f-449c-a51a-0e110eddefda",
        "colab": {
          "base_uri": "https://localhost:8080/",
          "height": 69
        }
      },
      "source": [
        "log_fg_bg = open('/content/sample_data/FG_BG_Filename_withflip_Logs.txt',\"r\")\n",
        "content_list = log_fg_bg.readlines()\n",
        "print('No: of records in log_fg_bg:',len(content_list))\n",
        "print(content_list[0])\n",
        "log_fg_bg.close()\n",
        "\n",
        "data_root = Path('/content/sample_data')\n",
        "f1, f2, f3, f4 = data_root/'FG_BG', data_root/'BG_and_Its_Flip', data_root/'Mask', data_root/'Depth'"
      ],
      "execution_count": 0,
      "outputs": [
        {
          "output_type": "stream",
          "text": [
            "No: of records in log_fg_bg: 400000\n",
            "Img_fg_bg_1.jpg,Img21.jpg,Image41.png,(192, 192, 108, 156, 51, 3, 159, 3, 51, 159, 159, 159)\n",
            "\n"
          ],
          "name": "stdout"
        }
      ]
    },
    {
      "cell_type": "code",
      "metadata": {
        "id": "VPglYPf5XqNX",
        "colab_type": "code",
        "outputId": "3bf587f2-8f23-4170-fd7f-7ae65be5684c",
        "colab": {
          "base_uri": "https://localhost:8080/",
          "height": 87
        }
      },
      "source": [
        "print(len(list(f1.iterdir())))\n",
        "print(len(list(f2.iterdir())))\n",
        "print(len(list(f3.iterdir())))\n",
        "print(len(list(f4.iterdir())))"
      ],
      "execution_count": 0,
      "outputs": [
        {
          "output_type": "stream",
          "text": [
            "20000\n",
            "210\n",
            "400000\n",
            "400000\n"
          ],
          "name": "stdout"
        }
      ]
    },
    {
      "cell_type": "code",
      "metadata": {
        "id": "gR5nA64cXxNq",
        "colab_type": "code",
        "colab": {}
      },
      "source": [
        "bs   = 25\n",
        "rows = 5\n",
        "size = 192\n",
        "prnt = 100\n",
        "drpout = 0.0"
      ],
      "execution_count": 0,
      "outputs": []
    },
    {
      "cell_type": "code",
      "metadata": {
        "id": "VW544V3yX9AY",
        "colab_type": "code",
        "colab": {}
      },
      "source": [
        "gt_transform = transforms.Compose([transforms.Resize((192,192)),\n",
        "                                      transforms.ToTensor(),])"
      ],
      "execution_count": 0,
      "outputs": []
    },
    {
      "cell_type": "code",
      "metadata": {
        "id": "0G9HlMniYL98",
        "colab_type": "code",
        "colab": {}
      },
      "source": [
        "bg_transform = transforms.Compose([#transforms.Resize((256,256)),\n",
        "                                       transforms.ColorJitter(brightness =0.05,contrast=0.05,saturation=0.05,hue=0.05),\n",
        "                                       transforms.ToTensor(),\n",
        "                                       ])"
      ],
      "execution_count": 0,
      "outputs": []
    },
    {
      "cell_type": "code",
      "metadata": {
        "id": "RszUyYg_Yb2e",
        "colab_type": "code",
        "colab": {}
      },
      "source": [
        "fg_bg_transform = transforms.Compose([#transforms.Resize((256,256)),\n",
        "                                       transforms.ColorJitter(brightness =0.05,contrast=0.05,saturation=0.05,hue=0.05),\n",
        "                                       transforms.ToTensor(),\n",
        "                                       ])"
      ],
      "execution_count": 0,
      "outputs": []
    },
    {
      "cell_type": "code",
      "metadata": {
        "id": "zhF8vNh6YoHg",
        "colab_type": "code",
        "colab": {}
      },
      "source": [
        "class MasterDataset(Dataset):\n",
        "  def __init__(self,data_root,content_list, do_transform=True):\n",
        "    self.f1_files     = list(f1.glob('*.jpg'))\n",
        "    self.content_list = content_list\n",
        "    self.do_transform    = do_transform\n",
        "\n",
        "  def __len__(self):\n",
        "    return len(self.f1_files)  \n",
        "\n",
        "  def __getitem__(self,index):\n",
        "    fg_bg_name   = self.f1_files[index].stem\n",
        "    fg_bg_idx    = fg_bg_name.split('_')[-1]\n",
        "    bg_name = '/content/sample_data/BG_and_Its_Flip/' + self.content_list[int(fg_bg_idx)-1].split(',')[1]\n",
        "    mask_name    = '/content/sample_data/Mask/' + 'Img_fg_bg_mask' + str(fg_bg_idx) + '.jpg'\n",
        "    depth_name   = '/content/sample_data/Depth/' + 'Img_fg_bg_' + str(fg_bg_idx) + '_depth.jpg'\n",
        "    f1_image = Image.open(self.f1_files[index])  \n",
        "    f2_image = Image.open(f'{bg_name}')\n",
        "    f3_image = Image.open(f'{mask_name}')\n",
        "    f4_image = Image.open(f'{depth_name}')\n",
        "\n",
        "    if self.do_transform:\n",
        "      f1_image = bg_transform(f1_image)\n",
        "      f2_image = fg_bg_transform(f2_image)\n",
        "      f3_image = (gt_transform(f3_image) > 0.8).float()\n",
        "      f4_image = gt_transform(f4_image)\n",
        "\n",
        "    return {'f1':f1_image, 'f2':f2_image, 'f3':f3_image, 'f4':f4_image}"
      ],
      "execution_count": 0,
      "outputs": []
    },
    {
      "cell_type": "code",
      "metadata": {
        "id": "PJjLTlX9ac9p",
        "colab_type": "code",
        "colab": {}
      },
      "source": [
        "train_ds = MasterDataset(data_root, content_list)"
      ],
      "execution_count": 0,
      "outputs": []
    },
    {
      "cell_type": "code",
      "metadata": {
        "id": "-CmqGkkxbbVR",
        "colab_type": "code",
        "outputId": "7db2169e-a94c-464f-e1bc-2b101a123041",
        "colab": {
          "base_uri": "https://localhost:8080/",
          "height": 87
        }
      },
      "source": [
        "[(k, v.shape) for k, v in train_ds[0].items() if k != 'index']"
      ],
      "execution_count": 0,
      "outputs": [
        {
          "output_type": "execute_result",
          "data": {
            "text/plain": [
              "[('f1', torch.Size([3, 192, 192])),\n",
              " ('f2', torch.Size([3, 192, 192])),\n",
              " ('f3', torch.Size([1, 192, 192])),\n",
              " ('f4', torch.Size([1, 192, 192]))]"
            ]
          },
          "metadata": {
            "tags": []
          },
          "execution_count": 13
        }
      ]
    },
    {
      "cell_type": "code",
      "metadata": {
        "id": "hdssp-SZbmtE",
        "colab_type": "code",
        "colab": {}
      },
      "source": [
        "train_dl = DataLoader(train_ds, batch_size = bs, shuffle = True, pin_memory = True)"
      ],
      "execution_count": 0,
      "outputs": []
    },
    {
      "cell_type": "code",
      "metadata": {
        "id": "grbsEvhubrWv",
        "colab_type": "code",
        "outputId": "2bc08183-9c1b-4610-e9ef-f4a79a7e994e",
        "colab": {
          "base_uri": "https://localhost:8080/",
          "height": 35
        }
      },
      "source": [
        "sample = next(iter(train_dl))\n",
        "type(sample)"
      ],
      "execution_count": 0,
      "outputs": [
        {
          "output_type": "execute_result",
          "data": {
            "text/plain": [
              "dict"
            ]
          },
          "metadata": {
            "tags": []
          },
          "execution_count": 15
        }
      ]
    },
    {
      "cell_type": "code",
      "metadata": {
        "id": "RSIEU7q0bvK3",
        "colab_type": "code",
        "outputId": "83ef261d-9858-46d9-c286-b85c6f291341",
        "colab": {
          "base_uri": "https://localhost:8080/",
          "height": 87
        }
      },
      "source": [
        "[(k, v.shape) for k, v in sample.items()]"
      ],
      "execution_count": 0,
      "outputs": [
        {
          "output_type": "execute_result",
          "data": {
            "text/plain": [
              "[('f1', torch.Size([25, 3, 192, 192])),\n",
              " ('f2', torch.Size([25, 3, 192, 192])),\n",
              " ('f3', torch.Size([25, 1, 192, 192])),\n",
              " ('f4', torch.Size([25, 1, 192, 192]))]"
            ]
          },
          "metadata": {
            "tags": []
          },
          "execution_count": 16
        }
      ]
    },
    {
      "cell_type": "code",
      "metadata": {
        "id": "2uvSA-w5b335",
        "colab_type": "code",
        "colab": {}
      },
      "source": [
        "imgs = sample['f4']"
      ],
      "execution_count": 0,
      "outputs": []
    },
    {
      "cell_type": "code",
      "metadata": {
        "id": "KzzRfXNab6wH",
        "colab_type": "code",
        "colab": {}
      },
      "source": [
        "def show(tensors, figsize= (10,10), *args, **kwargs):\n",
        "  grid_tensor = torchvision.utils.make_grid(tensors, *args, **kwargs)  \n",
        "  grid_image  = grid_tensor.permute(1, 2, 0)\n",
        "  plt.figure(figsize = figsize)\n",
        "  plt.imshow(grid_image)\n",
        "  plt.xticks([])  \n",
        "  plt.yticks([])\n",
        "  plt.show()"
      ],
      "execution_count": 0,
      "outputs": []
    },
    {
      "cell_type": "code",
      "metadata": {
        "id": "81an8vFrcHBH",
        "colab_type": "code",
        "colab": {}
      },
      "source": [
        "def show_pred(tensors, *args, **kwargs):\n",
        "  tensors = (tensors * std[None, : , None, None]) + mean[None, :, None, None]\n",
        "  show(tensors, *args, **kwargs)"
      ],
      "execution_count": 0,
      "outputs": []
    },
    {
      "cell_type": "code",
      "metadata": {
        "id": "iJ-r9ZjHcMnL",
        "colab_type": "code",
        "colab": {}
      },
      "source": [
        "def draw_and_save(tensors, name, figsize=(20,20), *args, **kwargs):\n",
        "  try:\n",
        "    tensors = tensors.detach().cpu()\n",
        "  except:\n",
        "    pass\n",
        "  grid_tensor = torchvision.utils.make_grid(tensors, *args, **kwargs)\n",
        "  grid_image  = grid_tensor.permute(1, 2, 0)\n",
        "  plt.figure(figsize = figsize)\n",
        "  plt.imshow(grid_image)\n",
        "  plt.xticks([])  \n",
        "  plt.yticks([])\n",
        "\n",
        "  plt.savefig(name, bbox_inches='tight')\n",
        "  plt.show()"
      ],
      "execution_count": 0,
      "outputs": []
    },
    {
      "cell_type": "code",
      "metadata": {
        "id": "DhJiayXIczhZ",
        "colab_type": "code",
        "outputId": "b7d71cb7-b9a6-4d99-c095-86146d458213",
        "colab": {
          "base_uri": "https://localhost:8080/",
          "height": 575
        }
      },
      "source": [
        "show(imgs, nrow=rows)"
      ],
      "execution_count": 0,
      "outputs": [
        {
          "output_type": "display_data",
          "data": {
            "image/png": "[encoded data removed]",
            "text/plain": [
              "<Figure size 720x720 with 1 Axes>"
            ]
          },
          "metadata": {
            "tags": []
          }
        }
      ]
    },
    {
      "cell_type": "code",
      "metadata": {
        "id": "RbBBY4gec8ZO",
        "colab_type": "code",
        "colab": {}
      },
      "source": [
        "class DownResNet(nn.Module):\n",
        "  def __init__(self,inchannels,outchannels):\n",
        "    super(DownResNet, self).__init__()\n",
        "    \n",
        "    #print('DR-Enter')\n",
        "    self.conv1  = nn.Conv2d(inchannels, outchannels, kernel_size=3, stride=2, padding=1, bias=False)\n",
        "    #print('DR-After-conv1')\n",
        "    self.conv12 = nn.Conv2d(outchannels, outchannels, kernel_size=1, stride=1, padding=0, bias=False)\n",
        "    #print('DR-After-conv12')\n",
        "    self.bn1 = nn.BatchNorm2d(outchannels)\n",
        "    self.relu = nn.ReLU(inplace=False)\n",
        "\n",
        "    self.conv2  = nn.Conv2d(outchannels, outchannels, kernel_size=3, stride=1, padding=1, bias=False)\n",
        "    #print('DR-After-conv2')\n",
        "    self.conv22 = nn.Conv2d(outchannels, outchannels, kernel_size=1, stride=1, padding=0, bias=False)\n",
        "    #print('DR-After-conv22')\n",
        "    self.bn2 = nn.BatchNorm2d(outchannels)\n",
        "\n",
        "    self.conv1x1down = nn.Conv2d(inchannels, outchannels,kernel_size=1, stride=2, padding=0, bias=False)\n",
        "    #print('DR-After-conv1x1down')\n",
        "\n",
        "  def forward(self,x):\n",
        "    print('Start DR')\n",
        "    identity = self.conv1x1down(x)\n",
        "    print('identity = self.conv1x1down(x)',identity.shape)\n",
        "    out = self.conv1(x)\n",
        "    print('out = self.conv1(x)',out.shape)\n",
        "    out = self.conv12(out)\n",
        "    print('out = self.conv12(out)',out.shape)\n",
        "    out = self.bn1(out)\n",
        "    out = self.relu(out)\n",
        "    out = self.conv2(out)\n",
        "    print('out = self.conv2(out)',out.shape)\n",
        "    out = self.conv22(out)\n",
        "    print('out = self.conv22(out)',out.shape)\n",
        "    out = self.bn2(out)\n",
        "\n",
        "    out += identity\n",
        "    print('out += identity',out.shape)\n",
        "    out = self.relu(out)\n",
        "\n",
        "    return out "
      ],
      "execution_count": 0,
      "outputs": []
    },
    {
      "cell_type": "code",
      "metadata": {
        "id": "PlH-jdV9j4Op",
        "colab_type": "code",
        "colab": {}
      },
      "source": [
        "class UpResNet(nn.Module):\n",
        "  def __init__(self, inchannels, outchannels):\n",
        "    super(UpResNet, self).__init__()\n",
        "\n",
        "    #print('UR-Enter')   \n",
        "    self.conv1 = nn.Conv2d(outchannels, outchannels, kernel_size=3, stride=1, padding=1, bias=False)\n",
        "    #print('UR-After-conv1')\n",
        "    self.conv12 = nn.Conv2d(outchannels, outchannels, kernel_size=1, stride=1, padding=0, bias=False)\n",
        "    #print('UR-After-conv12')\n",
        "    self.bn1 = nn.BatchNorm2d(outchannels)\n",
        "    self.relu = nn.ReLU(inplace = False)\n",
        "\n",
        "    self.conv2 = nn.Conv2d(outchannels, outchannels, kernel_size=3, stride=1, padding=1, bias=False)\n",
        "    #print('UR-After-conv2')\n",
        "    self.conv22 = nn.Conv2d(outchannels, outchannels, kernel_size=1, stride=1, padding=0, bias=False)\n",
        "    #print('UR-After-conv22')\n",
        "    self.bn2 = nn.BatchNorm2d(outchannels)\n",
        "\n",
        "    self.conv1x1down = nn.ConvTranspose2d(inchannels, outchannels, kernel_size=3, stride=1, padding=1, bias=False)\n",
        "    #print('UR-After-conv1x1down')\n",
        "\n",
        "  def forward(self, x):\n",
        "    print('Start UR')\n",
        "    identity = self.conv1x1down(x)\n",
        "    print('identity = self.conv1x1down(x)',identity.shape)\n",
        "    out = self.conv1(identity)\n",
        "    print('out = self.conv1(identity)',out.shape)\n",
        "    out = self.conv12(out)\n",
        "    print('out = self.conv12(out)',out.shape)\n",
        "    out = self.bn1(out)\n",
        "    out = self.relu(out)\n",
        "    out = self.conv2(out)\n",
        "    print('out = self.conv2(out)',out.shape)\n",
        "    out = self.conv22(out)\n",
        "    print('out = self.conv22(out)',out.shape)\n",
        "    out = self.bn2(out)\n",
        "\n",
        "  # out += x\n",
        "\n",
        "    out = self.relu(out)  \n",
        "    return out"
      ],
      "execution_count": 0,
      "outputs": []
    },
    {
      "cell_type": "code",
      "metadata": {
        "id": "Mwi46bmCnAaa",
        "colab_type": "code",
        "colab": {}
      },
      "source": [
        "class BGDPTH(nn.Module):\n",
        "  def __init__(self):\n",
        "    super(BGDPTH, self).__init__()\n",
        "\n",
        "    self.convFirst = nn.Sequential(nn.Conv2d(6,64,kernel_size=7,stride=2,padding=3,bias=False),\n",
        "                                   nn.BatchNorm2d(64),\n",
        "                                   nn.ReLU(inplace=False))\n",
        "    \n",
        "    self.maxpool = nn.MaxPool2d(3, stride = 2, padding =1)\n",
        "\n",
        "    self.rb1 = DownResNet(64,128)\n",
        "    self.rb2 = DownResNet(128,256)\n",
        "    self.rb3 = DownResNet(256,512)\n",
        "\n",
        "    self.rb4 = UpResNet(512, 256)\n",
        "    self.rb5 = UpResNet(256, 128)\n",
        "    self.rb6 = UpResNet(128, 64)\n",
        "\n",
        "    self.rb7 = UpResNet(64,64)\n",
        "\n",
        "    self.rb8 = UpResNet(64,32)\n",
        "\n",
        "    self.convLast = nn.Sequential(nn.Conv2d(32, 1, kernel_size=1, stride=1, padding=0, bias=False),)\n",
        "\n",
        "    self.rb4D = UpResNet(512, 256)\n",
        "    self.rb5D = UpResNet(256, 128) \n",
        "    self.rb6D = UpResNet(128, 64)\n",
        "\n",
        "    self.rb7D = UpResNet(64, 64)\n",
        "\n",
        "    self.rb8D = UpResNet(64, 32)\n",
        "\n",
        "    self.convLastD = nn.Sequential(nn.Conv2d(32, 1, kernel_size=1, stride=1, padding=0, bias=False),)\n",
        "\n",
        "  def forward(self, y):\n",
        "    #f11 = sample['f1']\n",
        "    #f22 = sample['f2']\n",
        "    print('Start BGDPTH')\n",
        "    f11  = y\n",
        "    f22  = y\n",
        "    f   = torch.cat([f11,f22], dim=1)\n",
        "    print('f   = torch.cat([f11,f22], dim=1)',f.shape)\n",
        "\n",
        "    out0 = self.convFirst(f)\n",
        "    print('out0 = self.convFirst(f)',out0.shape)\n",
        "    out1 = self.maxpool(out0)\n",
        "    print('out1 = self.maxpool(out0)',out1.shape)\n",
        "    out2 = self.rb1(out1)\n",
        "    print('out2 = self.rb1(out1)',out2.shape)\n",
        "    out3 = self.rb2(out2)\n",
        "    print('out3 = self.rb2(out2)',out3.shape)\n",
        "    out4 = self.rb3(out3)\n",
        "    print('out4 = self.rb3(out3)',out4.shape)\n",
        "\n",
        "    out4 = nn.functional.interpolate(out4, scale_factor=2, mode='bilinear')\n",
        "    print(\"out4 = nn.functional.interpolate(out4, scale_factor=2, mode='bilinear')\",out4.shape)\n",
        "\n",
        "    out5 = self.rb4(out4)\n",
        "    print('out5 = self.rb4(out4)',out5.shape)\n",
        "    out5 += out3\n",
        "    print('out5 += out3',out5.shape)\n",
        "    out5 = nn.functional.interpolate(out5, scale_factor=2, mode='bilinear')\n",
        "    print(\"out5 = nn.functional.interpolate(out5, scale_factor=2, mode='bilinear')\",out5.shape)\n",
        "    out6 = self.rb5(out5)\n",
        "    print('out6 = self.rb5(out5)',out6.shape)\n",
        "    out6 += out2 \n",
        "    print('out6 += out2',out6.shape)\n",
        "    out6 = nn.functional.interpolate(out6, scale_factor=2, mode='bilinear')\n",
        "    print(\"out6 = nn.functional.interpolate(out6, scale_factor=2, mode='bilinear')\",out6.shape)\n",
        "    out7 = self.rb6(out6)\n",
        "    print('out7 = self.rb6(out6)',out7.shape)\n",
        "    out7 += out1\n",
        "    print('out7 += out1',out7.shape)\n",
        "    out7 = nn.functional.interpolate(out7, scale_factor=2, mode='bilinear')\n",
        "    print(\"out7 = nn.functional.interpolate(out7, scale_factor=2, mode='bilinear')\",out7.shape)\n",
        "    out8 = self.rb7(out7)\n",
        "    print('out8 = self.rb7(out7)',out8.shape)\n",
        "    out8 += out0\n",
        "    print('out8 += out0',out8.shape)\n",
        "\n",
        "    out9 = nn.functional.interpolate(out8, scale_factor=2, mode='bilinear')\n",
        "    print(\"out9 = nn.functional.interpolate(out8, scale_factor=2, mode='bilinear')\",out9.shape)\n",
        "    out9 = self.rb8(out9)\n",
        "    print('out9 = self.rb8(out9)',out9.shape)\n",
        "\n",
        "    outB = self.convLast(out9)\n",
        "    print('outB = self.convLast(out9)',outB.shape)\n",
        "\n",
        "    out5D = self.rb4D(out4)\n",
        "    print('out5D = self.rb4D(out4)',out5D.shape)\n",
        "    out5D += out3\n",
        "    print('out5D += out3',out5D.shape)\n",
        "    out5D = nn.functional.interpolate(out5D, scale_factor=2, mode='bilinear')\n",
        "    print(\"out5D = nn.functional.interpolate(out5D, scale_factor=2, mode='bilinear')\",out5D.shape)\n",
        "    out6D = self.rb5D(out5D)\n",
        "    print('out6D = self.rb5D(out5D)',out6D.shape)\n",
        "    out6D += out2\n",
        "    print('out6D += out2',out6D.shape)\n",
        "    out6D = nn.functional.interpolate(out6D, scale_factor=2, mode='bilinear')\n",
        "    print(\"out6D = nn.functional.interpolate(out6D, scale_factor=2, mode='bilinear')\",out6D.shape)\n",
        "    out7D = self.rb6D(out6D)\n",
        "    print('out7D = self.rb6D(out6D)',out7D.shape)\n",
        "    out7D += out1\n",
        "    print('out7D += out1',out7D.shape)\n",
        "    out7D = nn.functional.interpolate(out7D, scale_factor=2, mode='bilinear')\n",
        "    print(\"out7D = nn.functional.interpolate(out7D, scale_factor=2, mode='bilinear')\",out7D.shape)\n",
        "    out8D = self.rb7D(out7D)\n",
        "    print('out8D = self.rb7D(out7D)',out8D.shape)\n",
        "    out8D += out0\n",
        "    print('out8D += out0',out8D.shape)\n",
        "\n",
        "    out9D = nn.functional.interpolate(out8D, scale_factor=2, mode='bilinear')\n",
        "    print(\"out9D = nn.functional.interpolate(out8D, scale_factor=2, mode='bilinear')\",out9D.shape)\n",
        "    out9D = self.rb8D(out9D)\n",
        "    print('out9D = self.rb8D(out9D)',out9D.shape)\n",
        "\n",
        "    outD  = self.convLastD(out9D)\n",
        "    print('outD  = self.convLastD(out9D)',outD.shape)\n",
        "\n",
        "    return outB, outD"
      ],
      "execution_count": 0,
      "outputs": []
    },
    {
      "cell_type": "code",
      "metadata": {
        "id": "uifoKkfgwmJa",
        "colab_type": "code",
        "colab": {}
      },
      "source": [
        "def weights_init(ms):\n",
        "  for m in ms.modules():\n",
        "    classname = m.__class__.__name__\n",
        "    if classname.find('Conv2d') != -1:\n",
        "      m.weight.data = m.init.kaiming_normal_(m.weight.data, mode='fan_out',nonlinearity='relu')\n",
        "    elif classname.find('ConvTranspose2d') != -1:\n",
        "      m.weight.data = m.init.kaiming_normal_(m.weight.data, mode='fan_out',nonlinearity='relu')\n",
        "    elif isinstance(m, nn.BatchNorm2d):\n",
        "      nn.init.constant_(m.weight, 1)\n",
        "      nn.init.constant_(m.bias,0)"
      ],
      "execution_count": 0,
      "outputs": []
    },
    {
      "cell_type": "code",
      "metadata": {
        "id": "tRB2v5Fdx9mo",
        "colab_type": "code",
        "colab": {}
      },
      "source": [
        "#kernel_size = 3\n",
        "#criterion = SSIM(kernel_size, reduction = 'mean)\n",
        "criterion = nn.BCEWithLogitsLoss()"
      ],
      "execution_count": 0,
      "outputs": []
    },
    {
      "cell_type": "code",
      "metadata": {
        "id": "Nzp6AcVdyBwL",
        "colab_type": "code",
        "outputId": "23a6abe6-2be3-4bb7-9025-5c478256559a",
        "colab": {
          "base_uri": "https://localhost:8080/",
          "height": 1000
        }
      },
      "source": [
        "model    = BGDPTH()\n",
        "use_cuda = torch.cuda.is_available()\n",
        "model.device = torch.device(\"cuda\" if use_cuda else \"cpu\")\n",
        "model.to(model.device)"
      ],
      "execution_count": 0,
      "outputs": [
        {
          "output_type": "execute_result",
          "data": {
            "text/plain": [
              "BGDPTH(\n",
              "  (convFirst): Sequential(\n",
              "    (0): Conv2d(6, 64, kernel_size=(7, 7), stride=(2, 2), padding=(3, 3), bias=False)\n",
              "    (1): BatchNorm2d(64, eps=1e-05, momentum=0.1, affine=True, track_running_stats=True)\n",
              "    (2): ReLU()\n",
              "  )\n",
              "  (maxpool): MaxPool2d(kernel_size=3, stride=2, padding=1, dilation=1, ceil_mode=False)\n",
              "  (rb1): DownResNet(\n",
              "    (conv1): Conv2d(64, 128, kernel_size=(3, 3), stride=(2, 2), padding=(1, 1), bias=False)\n",
              "    (conv12): Conv2d(128, 128, kernel_size=(1, 1), stride=(1, 1), bias=False)\n",
              "    (bn1): BatchNorm2d(128, eps=1e-05, momentum=0.1, affine=True, track_running_stats=True)\n",
              "    (relu): ReLU()\n",
              "    (conv2): Conv2d(128, 128, kernel_size=(3, 3), stride=(1, 1), padding=(1, 1), bias=False)\n",
              "    (conv22): Conv2d(128, 128, kernel_size=(1, 1), stride=(1, 1), bias=False)\n",
              "    (bn2): BatchNorm2d(128, eps=1e-05, momentum=0.1, affine=True, track_running_stats=True)\n",
              "    (conv1x1down): Conv2d(64, 128, kernel_size=(1, 1), stride=(2, 2), bias=False)\n",
              "  )\n",
              "  (rb2): DownResNet(\n",
              "    (conv1): Conv2d(128, 256, kernel_size=(3, 3), stride=(2, 2), padding=(1, 1), bias=False)\n",
              "    (conv12): Conv2d(256, 256, kernel_size=(1, 1), stride=(1, 1), bias=False)\n",
              "    (bn1): BatchNorm2d(256, eps=1e-05, momentum=0.1, affine=True, track_running_stats=True)\n",
              "    (relu): ReLU()\n",
              "    (conv2): Conv2d(256, 256, kernel_size=(3, 3), stride=(1, 1), padding=(1, 1), bias=False)\n",
              "    (conv22): Conv2d(256, 256, kernel_size=(1, 1), stride=(1, 1), bias=False)\n",
              "    (bn2): BatchNorm2d(256, eps=1e-05, momentum=0.1, affine=True, track_running_stats=True)\n",
              "    (conv1x1down): Conv2d(128, 256, kernel_size=(1, 1), stride=(2, 2), bias=False)\n",
              "  )\n",
              "  (rb3): DownResNet(\n",
              "    (conv1): Conv2d(256, 512, kernel_size=(3, 3), stride=(2, 2), padding=(1, 1), bias=False)\n",
              "    (conv12): Conv2d(512, 512, kernel_size=(1, 1), stride=(1, 1), bias=False)\n",
              "    (bn1): BatchNorm2d(512, eps=1e-05, momentum=0.1, affine=True, track_running_stats=True)\n",
              "    (relu): ReLU()\n",
              "    (conv2): Conv2d(512, 512, kernel_size=(3, 3), stride=(1, 1), padding=(1, 1), bias=False)\n",
              "    (conv22): Conv2d(512, 512, kernel_size=(1, 1), stride=(1, 1), bias=False)\n",
              "    (bn2): BatchNorm2d(512, eps=1e-05, momentum=0.1, affine=True, track_running_stats=True)\n",
              "    (conv1x1down): Conv2d(256, 512, kernel_size=(1, 1), stride=(2, 2), bias=False)\n",
              "  )\n",
              "  (rb4): UpResNet(\n",
              "    (conv1): Conv2d(256, 256, kernel_size=(3, 3), stride=(1, 1), padding=(1, 1), bias=False)\n",
              "    (conv12): Conv2d(256, 256, kernel_size=(1, 1), stride=(1, 1), bias=False)\n",
              "    (bn1): BatchNorm2d(256, eps=1e-05, momentum=0.1, affine=True, track_running_stats=True)\n",
              "    (relu): ReLU()\n",
              "    (conv2): Conv2d(256, 256, kernel_size=(3, 3), stride=(1, 1), padding=(1, 1), bias=False)\n",
              "    (conv22): Conv2d(256, 256, kernel_size=(1, 1), stride=(1, 1), bias=False)\n",
              "    (bn2): BatchNorm2d(256, eps=1e-05, momentum=0.1, affine=True, track_running_stats=True)\n",
              "    (conv1x1down): ConvTranspose2d(512, 256, kernel_size=(3, 3), stride=(1, 1), padding=(1, 1), bias=False)\n",
              "  )\n",
              "  (rb5): UpResNet(\n",
              "    (conv1): Conv2d(128, 128, kernel_size=(3, 3), stride=(1, 1), padding=(1, 1), bias=False)\n",
              "    (conv12): Conv2d(128, 128, kernel_size=(1, 1), stride=(1, 1), bias=False)\n",
              "    (bn1): BatchNorm2d(128, eps=1e-05, momentum=0.1, affine=True, track_running_stats=True)\n",
              "    (relu): ReLU()\n",
              "    (conv2): Conv2d(128, 128, kernel_size=(3, 3), stride=(1, 1), padding=(1, 1), bias=False)\n",
              "    (conv22): Conv2d(128, 128, kernel_size=(1, 1), stride=(1, 1), bias=False)\n",
              "    (bn2): BatchNorm2d(128, eps=1e-05, momentum=0.1, affine=True, track_running_stats=True)\n",
              "    (conv1x1down): ConvTranspose2d(256, 128, kernel_size=(3, 3), stride=(1, 1), padding=(1, 1), bias=False)\n",
              "  )\n",
              "  (rb6): UpResNet(\n",
              "    (conv1): Conv2d(64, 64, kernel_size=(3, 3), stride=(1, 1), padding=(1, 1), bias=False)\n",
              "    (conv12): Conv2d(64, 64, kernel_size=(1, 1), stride=(1, 1), bias=False)\n",
              "    (bn1): BatchNorm2d(64, eps=1e-05, momentum=0.1, affine=True, track_running_stats=True)\n",
              "    (relu): ReLU()\n",
              "    (conv2): Conv2d(64, 64, kernel_size=(3, 3), stride=(1, 1), padding=(1, 1), bias=False)\n",
              "    (conv22): Conv2d(64, 64, kernel_size=(1, 1), stride=(1, 1), bias=False)\n",
              "    (bn2): BatchNorm2d(64, eps=1e-05, momentum=0.1, affine=True, track_running_stats=True)\n",
              "    (conv1x1down): ConvTranspose2d(128, 64, kernel_size=(3, 3), stride=(1, 1), padding=(1, 1), bias=False)\n",
              "  )\n",
              "  (rb7): UpResNet(\n",
              "    (conv1): Conv2d(64, 64, kernel_size=(3, 3), stride=(1, 1), padding=(1, 1), bias=False)\n",
              "    (conv12): Conv2d(64, 64, kernel_size=(1, 1), stride=(1, 1), bias=False)\n",
              "    (bn1): BatchNorm2d(64, eps=1e-05, momentum=0.1, affine=True, track_running_stats=True)\n",
              "    (relu): ReLU()\n",
              "    (conv2): Conv2d(64, 64, kernel_size=(3, 3), stride=(1, 1), padding=(1, 1), bias=False)\n",
              "    (conv22): Conv2d(64, 64, kernel_size=(1, 1), stride=(1, 1), bias=False)\n",
              "    (bn2): BatchNorm2d(64, eps=1e-05, momentum=0.1, affine=True, track_running_stats=True)\n",
              "    (conv1x1down): ConvTranspose2d(64, 64, kernel_size=(3, 3), stride=(1, 1), padding=(1, 1), bias=False)\n",
              "  )\n",
              "  (rb8): UpResNet(\n",
              "    (conv1): Conv2d(32, 32, kernel_size=(3, 3), stride=(1, 1), padding=(1, 1), bias=False)\n",
              "    (conv12): Conv2d(32, 32, kernel_size=(1, 1), stride=(1, 1), bias=False)\n",
              "    (bn1): BatchNorm2d(32, eps=1e-05, momentum=0.1, affine=True, track_running_stats=True)\n",
              "    (relu): ReLU()\n",
              "    (conv2): Conv2d(32, 32, kernel_size=(3, 3), stride=(1, 1), padding=(1, 1), bias=False)\n",
              "    (conv22): Conv2d(32, 32, kernel_size=(1, 1), stride=(1, 1), bias=False)\n",
              "    (bn2): BatchNorm2d(32, eps=1e-05, momentum=0.1, affine=True, track_running_stats=True)\n",
              "    (conv1x1down): ConvTranspose2d(64, 32, kernel_size=(3, 3), stride=(1, 1), padding=(1, 1), bias=False)\n",
              "  )\n",
              "  (convLast): Sequential(\n",
              "    (0): Conv2d(32, 1, kernel_size=(1, 1), stride=(1, 1), bias=False)\n",
              "  )\n",
              "  (rb4D): UpResNet(\n",
              "    (conv1): Conv2d(256, 256, kernel_size=(3, 3), stride=(1, 1), padding=(1, 1), bias=False)\n",
              "    (conv12): Conv2d(256, 256, kernel_size=(1, 1), stride=(1, 1), bias=False)\n",
              "    (bn1): BatchNorm2d(256, eps=1e-05, momentum=0.1, affine=True, track_running_stats=True)\n",
              "    (relu): ReLU()\n",
              "    (conv2): Conv2d(256, 256, kernel_size=(3, 3), stride=(1, 1), padding=(1, 1), bias=False)\n",
              "    (conv22): Conv2d(256, 256, kernel_size=(1, 1), stride=(1, 1), bias=False)\n",
              "    (bn2): BatchNorm2d(256, eps=1e-05, momentum=0.1, affine=True, track_running_stats=True)\n",
              "    (conv1x1down): ConvTranspose2d(512, 256, kernel_size=(3, 3), stride=(1, 1), padding=(1, 1), bias=False)\n",
              "  )\n",
              "  (rb5D): UpResNet(\n",
              "    (conv1): Conv2d(128, 128, kernel_size=(3, 3), stride=(1, 1), padding=(1, 1), bias=False)\n",
              "    (conv12): Conv2d(128, 128, kernel_size=(1, 1), stride=(1, 1), bias=False)\n",
              "    (bn1): BatchNorm2d(128, eps=1e-05, momentum=0.1, affine=True, track_running_stats=True)\n",
              "    (relu): ReLU()\n",
              "    (conv2): Conv2d(128, 128, kernel_size=(3, 3), stride=(1, 1), padding=(1, 1), bias=False)\n",
              "    (conv22): Conv2d(128, 128, kernel_size=(1, 1), stride=(1, 1), bias=False)\n",
              "    (bn2): BatchNorm2d(128, eps=1e-05, momentum=0.1, affine=True, track_running_stats=True)\n",
              "    (conv1x1down): ConvTranspose2d(256, 128, kernel_size=(3, 3), stride=(1, 1), padding=(1, 1), bias=False)\n",
              "  )\n",
              "  (rb6D): UpResNet(\n",
              "    (conv1): Conv2d(64, 64, kernel_size=(3, 3), stride=(1, 1), padding=(1, 1), bias=False)\n",
              "    (conv12): Conv2d(64, 64, kernel_size=(1, 1), stride=(1, 1), bias=False)\n",
              "    (bn1): BatchNorm2d(64, eps=1e-05, momentum=0.1, affine=True, track_running_stats=True)\n",
              "    (relu): ReLU()\n",
              "    (conv2): Conv2d(64, 64, kernel_size=(3, 3), stride=(1, 1), padding=(1, 1), bias=False)\n",
              "    (conv22): Conv2d(64, 64, kernel_size=(1, 1), stride=(1, 1), bias=False)\n",
              "    (bn2): BatchNorm2d(64, eps=1e-05, momentum=0.1, affine=True, track_running_stats=True)\n",
              "    (conv1x1down): ConvTranspose2d(128, 64, kernel_size=(3, 3), stride=(1, 1), padding=(1, 1), bias=False)\n",
              "  )\n",
              "  (rb7D): UpResNet(\n",
              "    (conv1): Conv2d(64, 64, kernel_size=(3, 3), stride=(1, 1), padding=(1, 1), bias=False)\n",
              "    (conv12): Conv2d(64, 64, kernel_size=(1, 1), stride=(1, 1), bias=False)\n",
              "    (bn1): BatchNorm2d(64, eps=1e-05, momentum=0.1, affine=True, track_running_stats=True)\n",
              "    (relu): ReLU()\n",
              "    (conv2): Conv2d(64, 64, kernel_size=(3, 3), stride=(1, 1), padding=(1, 1), bias=False)\n",
              "    (conv22): Conv2d(64, 64, kernel_size=(1, 1), stride=(1, 1), bias=False)\n",
              "    (bn2): BatchNorm2d(64, eps=1e-05, momentum=0.1, affine=True, track_running_stats=True)\n",
              "    (conv1x1down): ConvTranspose2d(64, 64, kernel_size=(3, 3), stride=(1, 1), padding=(1, 1), bias=False)\n",
              "  )\n",
              "  (rb8D): UpResNet(\n",
              "    (conv1): Conv2d(32, 32, kernel_size=(3, 3), stride=(1, 1), padding=(1, 1), bias=False)\n",
              "    (conv12): Conv2d(32, 32, kernel_size=(1, 1), stride=(1, 1), bias=False)\n",
              "    (bn1): BatchNorm2d(32, eps=1e-05, momentum=0.1, affine=True, track_running_stats=True)\n",
              "    (relu): ReLU()\n",
              "    (conv2): Conv2d(32, 32, kernel_size=(3, 3), stride=(1, 1), padding=(1, 1), bias=False)\n",
              "    (conv22): Conv2d(32, 32, kernel_size=(1, 1), stride=(1, 1), bias=False)\n",
              "    (bn2): BatchNorm2d(32, eps=1e-05, momentum=0.1, affine=True, track_running_stats=True)\n",
              "    (conv1x1down): ConvTranspose2d(64, 32, kernel_size=(3, 3), stride=(1, 1), padding=(1, 1), bias=False)\n",
              "  )\n",
              "  (convLastD): Sequential(\n",
              "    (0): Conv2d(32, 1, kernel_size=(1, 1), stride=(1, 1), bias=False)\n",
              "  )\n",
              ")"
            ]
          },
          "metadata": {
            "tags": []
          },
          "execution_count": 38
        }
      ]
    },
    {
      "cell_type": "code",
      "metadata": {
        "id": "9fgGPrATyZhT",
        "colab_type": "code",
        "outputId": "2ae4da05-6a92-4917-f009-1e7364d940ec",
        "colab": {
          "base_uri": "https://localhost:8080/",
          "height": 1000
        }
      },
      "source": [
        "from torchsummary import summary\n",
        "summary(model, input_size=(3,192,192))"
      ],
      "execution_count": 0,
      "outputs": [
        {
          "output_type": "stream",
          "text": [
            "Start BGDPTH\n",
            "f   = torch.cat([f11,f22], dim=1) torch.Size([2, 6, 192, 192])\n",
            "out0 = self.convFirst(f) torch.Size([2, 64, 96, 96])\n",
            "out1 = self.maxpool(out0) torch.Size([2, 64, 48, 48])\n",
            "Start DR\n",
            "identity = self.conv1x1down(x) torch.Size([2, 128, 24, 24])\n",
            "out = self.conv1(x) torch.Size([2, 128, 24, 24])\n",
            "out = self.conv12(out) torch.Size([2, 128, 24, 24])\n",
            "out = self.conv2(out) torch.Size([2, 128, 24, 24])\n",
            "out = self.conv22(out) torch.Size([2, 128, 24, 24])\n",
            "out += identity torch.Size([2, 128, 24, 24])\n",
            "out2 = self.rb1(out1) torch.Size([2, 128, 24, 24])\n",
            "Start DR\n",
            "identity = self.conv1x1down(x) torch.Size([2, 256, 12, 12])\n",
            "out = self.conv1(x) torch.Size([2, 256, 12, 12])\n",
            "out = self.conv12(out) torch.Size([2, 256, 12, 12])\n",
            "out = self.conv2(out) torch.Size([2, 256, 12, 12])\n",
            "out = self.conv22(out) torch.Size([2, 256, 12, 12])\n",
            "out += identity torch.Size([2, 256, 12, 12])\n",
            "out3 = self.rb2(out2) torch.Size([2, 256, 12, 12])\n",
            "Start DR\n",
            "identity = self.conv1x1down(x) torch.Size([2, 512, 6, 6])\n",
            "out = self.conv1(x) torch.Size([2, 512, 6, 6])\n",
            "out = self.conv12(out) torch.Size([2, 512, 6, 6])\n",
            "out = self.conv2(out) torch.Size([2, 512, 6, 6])\n",
            "out = self.conv22(out) torch.Size([2, 512, 6, 6])\n",
            "out += identity torch.Size([2, 512, 6, 6])\n",
            "out4 = self.rb3(out3) torch.Size([2, 512, 6, 6])\n",
            "out4 = nn.functional.interpolate(out4, scale_factor=2, mode='bilinear') torch.Size([2, 512, 12, 12])\n",
            "Start UR\n",
            "identity = self.conv1x1down(x) torch.Size([2, 256, 12, 12])\n",
            "out = self.conv1(identity) torch.Size([2, 256, 12, 12])\n",
            "out = self.conv12(out) torch.Size([2, 256, 12, 12])\n",
            "out = self.conv2(out) torch.Size([2, 256, 12, 12])\n",
            "out = self.conv22(out) torch.Size([2, 256, 12, 12])\n",
            "out5 = self.rb4(out4) torch.Size([2, 256, 12, 12])\n",
            "out5 += out3 torch.Size([2, 256, 12, 12])\n",
            "out5 = nn.functional.interpolate(out5, scale_factor=2, mode='bilinear') torch.Size([2, 256, 24, 24])\n",
            "Start UR\n",
            "identity = self.conv1x1down(x) torch.Size([2, 128, 24, 24])\n",
            "out = self.conv1(identity) torch.Size([2, 128, 24, 24])\n",
            "out = self.conv12(out) torch.Size([2, 128, 24, 24])\n",
            "out = self.conv2(out) torch.Size([2, 128, 24, 24])\n",
            "out = self.conv22(out) torch.Size([2, 128, 24, 24])\n",
            "out6 = self.rb5(out5) torch.Size([2, 128, 24, 24])\n",
            "out6 += out2 torch.Size([2, 128, 24, 24])\n",
            "out6 = nn.functional.interpolate(out6, scale_factor=2, mode='bilinear') torch.Size([2, 128, 48, 48])\n",
            "Start UR\n",
            "identity = self.conv1x1down(x) torch.Size([2, 64, 48, 48])\n",
            "out = self.conv1(identity) torch.Size([2, 64, 48, 48])\n",
            "out = self.conv12(out) torch.Size([2, 64, 48, 48])\n",
            "out = self.conv2(out) torch.Size([2, 64, 48, 48])\n",
            "out = self.conv22(out) torch.Size([2, 64, 48, 48])\n",
            "out7 = self.rb6(out6) torch.Size([2, 64, 48, 48])\n",
            "out7 += out1 torch.Size([2, 64, 48, 48])\n",
            "out7 = nn.functional.interpolate(out7, scale_factor=2, mode='bilinear') torch.Size([2, 64, 96, 96])\n",
            "Start UR\n",
            "identity = self.conv1x1down(x) torch.Size([2, 64, 96, 96])\n",
            "out = self.conv1(identity) torch.Size([2, 64, 96, 96])\n",
            "out = self.conv12(out) torch.Size([2, 64, 96, 96])\n",
            "out = self.conv2(out) torch.Size([2, 64, 96, 96])\n",
            "out = self.conv22(out) torch.Size([2, 64, 96, 96])\n",
            "out8 = self.rb7(out7) torch.Size([2, 64, 96, 96])\n",
            "out8 += out0 torch.Size([2, 64, 96, 96])\n",
            "out9 = nn.functional.interpolate(out8, scale_factor=2, mode='bilinear') torch.Size([2, 64, 192, 192])\n",
            "Start UR\n",
            "identity = self.conv1x1down(x) torch.Size([2, 32, 192, 192])\n",
            "out = self.conv1(identity) torch.Size([2, 32, 192, 192])\n",
            "out = self.conv12(out) torch.Size([2, 32, 192, 192])\n",
            "out = self.conv2(out) torch.Size([2, 32, 192, 192])\n",
            "out = self.conv22(out) torch.Size([2, 32, 192, 192])\n",
            "out9 = self.rb8(out9) torch.Size([2, 32, 192, 192])\n",
            "outB = self.convLast(out9) torch.Size([2, 1, 192, 192])\n",
            "Start UR\n",
            "identity = self.conv1x1down(x) torch.Size([2, 256, 12, 12])\n",
            "out = self.conv1(identity) torch.Size([2, 256, 12, 12])\n",
            "out = self.conv12(out) torch.Size([2, 256, 12, 12])\n",
            "out = self.conv2(out) torch.Size([2, 256, 12, 12])\n",
            "out = self.conv22(out) torch.Size([2, 256, 12, 12])\n",
            "out5D = self.rb4D(out4) torch.Size([2, 256, 12, 12])\n",
            "out5D += out3 torch.Size([2, 256, 12, 12])\n",
            "out5D = nn.functional.interpolate(out5D, scale_factor=2, mode='bilinear') torch.Size([2, 256, 24, 24])\n",
            "Start UR\n",
            "identity = self.conv1x1down(x) torch.Size([2, 128, 24, 24])\n",
            "out = self.conv1(identity) torch.Size([2, 128, 24, 24])\n",
            "out = self.conv12(out) torch.Size([2, 128, 24, 24])\n",
            "out = self.conv2(out) torch.Size([2, 128, 24, 24])\n",
            "out = self.conv22(out) torch.Size([2, 128, 24, 24])\n",
            "out6D = self.rb5D(out5D) torch.Size([2, 128, 24, 24])\n",
            "out6D += out2 torch.Size([2, 128, 24, 24])\n",
            "out6D = nn.functional.interpolate(out6D, scale_factor=2, mode='bilinear') torch.Size([2, 128, 48, 48])\n",
            "Start UR\n",
            "identity = self.conv1x1down(x) torch.Size([2, 64, 48, 48])\n",
            "out = self.conv1(identity) torch.Size([2, 64, 48, 48])\n",
            "out = self.conv12(out) torch.Size([2, 64, 48, 48])\n",
            "out = self.conv2(out) torch.Size([2, 64, 48, 48])\n",
            "out = self.conv22(out) torch.Size([2, 64, 48, 48])\n",
            "out7D = self.rb6D(out6D) torch.Size([2, 64, 48, 48])\n",
            "out7D += out1 torch.Size([2, 64, 48, 48])\n",
            "out7D = nn.functional.interpolate(out7D, scale_factor=2, mode='bilinear') torch.Size([2, 64, 96, 96])\n",
            "Start UR\n",
            "identity = self.conv1x1down(x) torch.Size([2, 64, 96, 96])\n",
            "out = self.conv1(identity) torch.Size([2, 64, 96, 96])\n",
            "out = self.conv12(out) torch.Size([2, 64, 96, 96])\n",
            "out = self.conv2(out) torch.Size([2, 64, 96, 96])\n",
            "out = self.conv22(out) torch.Size([2, 64, 96, 96])\n",
            "out8D = self.rb7D(out7D) torch.Size([2, 64, 96, 96])\n",
            "out8D += out0 torch.Size([2, 64, 96, 96])\n",
            "out9D = nn.functional.interpolate(out8D, scale_factor=2, mode='bilinear') torch.Size([2, 64, 192, 192])\n",
            "Start UR\n",
            "identity = self.conv1x1down(x) torch.Size([2, 32, 192, 192])\n",
            "out = self.conv1(identity) torch.Size([2, 32, 192, 192])\n",
            "out = self.conv12(out) torch.Size([2, 32, 192, 192])\n",
            "out = self.conv2(out) torch.Size([2, 32, 192, 192])\n",
            "out = self.conv22(out) torch.Size([2, 32, 192, 192])\n",
            "out9D = self.rb8D(out9D) torch.Size([2, 32, 192, 192])\n",
            "outD  = self.convLastD(out9D) torch.Size([2, 1, 192, 192])\n",
            "----------------------------------------------------------------\n",
            "        Layer (type)               Output Shape         Param #\n",
            "================================================================\n",
            "            Conv2d-1           [-1, 64, 96, 96]          18,816\n",
            "       BatchNorm2d-2           [-1, 64, 96, 96]             128\n",
            "              ReLU-3           [-1, 64, 96, 96]               0\n",
            "         MaxPool2d-4           [-1, 64, 48, 48]               0\n",
            "            Conv2d-5          [-1, 128, 24, 24]           8,192\n",
            "            Conv2d-6          [-1, 128, 24, 24]          73,728\n",
            "            Conv2d-7          [-1, 128, 24, 24]          16,384\n",
            "       BatchNorm2d-8          [-1, 128, 24, 24]             256\n",
            "              ReLU-9          [-1, 128, 24, 24]               0\n",
            "           Conv2d-10          [-1, 128, 24, 24]         147,456\n",
            "           Conv2d-11          [-1, 128, 24, 24]          16,384\n",
            "      BatchNorm2d-12          [-1, 128, 24, 24]             256\n",
            "             ReLU-13          [-1, 128, 24, 24]               0\n",
            "       DownResNet-14          [-1, 128, 24, 24]               0\n",
            "           Conv2d-15          [-1, 256, 12, 12]          32,768\n",
            "           Conv2d-16          [-1, 256, 12, 12]         294,912\n",
            "           Conv2d-17          [-1, 256, 12, 12]          65,536\n",
            "      BatchNorm2d-18          [-1, 256, 12, 12]             512\n",
            "             ReLU-19          [-1, 256, 12, 12]               0\n",
            "           Conv2d-20          [-1, 256, 12, 12]         589,824\n",
            "           Conv2d-21          [-1, 256, 12, 12]          65,536\n",
            "      BatchNorm2d-22          [-1, 256, 12, 12]             512\n",
            "             ReLU-23          [-1, 256, 12, 12]               0\n",
            "       DownResNet-24          [-1, 256, 12, 12]               0\n",
            "           Conv2d-25            [-1, 512, 6, 6]         131,072\n",
            "           Conv2d-26            [-1, 512, 6, 6]       1,179,648\n",
            "           Conv2d-27            [-1, 512, 6, 6]         262,144\n",
            "      BatchNorm2d-28            [-1, 512, 6, 6]           1,024\n",
            "             ReLU-29            [-1, 512, 6, 6]               0\n",
            "           Conv2d-30            [-1, 512, 6, 6]       2,359,296\n",
            "           Conv2d-31            [-1, 512, 6, 6]         262,144\n",
            "      BatchNorm2d-32            [-1, 512, 6, 6]           1,024\n",
            "             ReLU-33            [-1, 512, 6, 6]               0\n",
            "       DownResNet-34            [-1, 512, 6, 6]               0\n",
            "  ConvTranspose2d-35          [-1, 256, 12, 12]       1,179,648\n",
            "           Conv2d-36          [-1, 256, 12, 12]         589,824\n",
            "           Conv2d-37          [-1, 256, 12, 12]          65,536\n",
            "      BatchNorm2d-38          [-1, 256, 12, 12]             512\n",
            "             ReLU-39          [-1, 256, 12, 12]               0\n",
            "           Conv2d-40          [-1, 256, 12, 12]         589,824\n",
            "           Conv2d-41          [-1, 256, 12, 12]          65,536\n",
            "      BatchNorm2d-42          [-1, 256, 12, 12]             512\n",
            "             ReLU-43          [-1, 256, 12, 12]               0\n",
            "         UpResNet-44          [-1, 256, 12, 12]               0\n",
            "  ConvTranspose2d-45          [-1, 128, 24, 24]         294,912\n",
            "           Conv2d-46          [-1, 128, 24, 24]         147,456\n",
            "           Conv2d-47          [-1, 128, 24, 24]          16,384\n",
            "      BatchNorm2d-48          [-1, 128, 24, 24]             256\n",
            "             ReLU-49          [-1, 128, 24, 24]               0\n",
            "           Conv2d-50          [-1, 128, 24, 24]         147,456\n",
            "           Conv2d-51          [-1, 128, 24, 24]          16,384\n",
            "      BatchNorm2d-52          [-1, 128, 24, 24]             256\n",
            "             ReLU-53          [-1, 128, 24, 24]               0\n",
            "         UpResNet-54          [-1, 128, 24, 24]               0\n",
            "  ConvTranspose2d-55           [-1, 64, 48, 48]          73,728\n",
            "           Conv2d-56           [-1, 64, 48, 48]          36,864\n",
            "           Conv2d-57           [-1, 64, 48, 48]           4,096\n",
            "      BatchNorm2d-58           [-1, 64, 48, 48]             128\n",
            "             ReLU-59           [-1, 64, 48, 48]               0\n",
            "           Conv2d-60           [-1, 64, 48, 48]          36,864\n",
            "           Conv2d-61           [-1, 64, 48, 48]           4,096\n",
            "      BatchNorm2d-62           [-1, 64, 48, 48]             128\n",
            "             ReLU-63           [-1, 64, 48, 48]               0\n",
            "         UpResNet-64           [-1, 64, 48, 48]               0\n",
            "  ConvTranspose2d-65           [-1, 64, 96, 96]          36,864\n",
            "           Conv2d-66           [-1, 64, 96, 96]          36,864\n",
            "           Conv2d-67           [-1, 64, 96, 96]           4,096\n",
            "      BatchNorm2d-68           [-1, 64, 96, 96]             128\n",
            "             ReLU-69           [-1, 64, 96, 96]               0\n",
            "           Conv2d-70           [-1, 64, 96, 96]          36,864\n",
            "           Conv2d-71           [-1, 64, 96, 96]           4,096\n",
            "      BatchNorm2d-72           [-1, 64, 96, 96]             128\n",
            "             ReLU-73           [-1, 64, 96, 96]               0\n",
            "         UpResNet-74           [-1, 64, 96, 96]               0\n",
            "  ConvTranspose2d-75         [-1, 32, 192, 192]          18,432\n",
            "           Conv2d-76         [-1, 32, 192, 192]           9,216\n",
            "           Conv2d-77         [-1, 32, 192, 192]           1,024\n",
            "      BatchNorm2d-78         [-1, 32, 192, 192]              64\n",
            "             ReLU-79         [-1, 32, 192, 192]               0\n",
            "           Conv2d-80         [-1, 32, 192, 192]           9,216\n",
            "           Conv2d-81         [-1, 32, 192, 192]           1,024\n",
            "      BatchNorm2d-82         [-1, 32, 192, 192]              64\n",
            "             ReLU-83         [-1, 32, 192, 192]               0\n",
            "         UpResNet-84         [-1, 32, 192, 192]               0\n",
            "           Conv2d-85          [-1, 1, 192, 192]              32\n",
            "  ConvTranspose2d-86          [-1, 256, 12, 12]       1,179,648\n",
            "           Conv2d-87          [-1, 256, 12, 12]         589,824\n",
            "           Conv2d-88          [-1, 256, 12, 12]          65,536\n",
            "      BatchNorm2d-89          [-1, 256, 12, 12]             512\n",
            "             ReLU-90          [-1, 256, 12, 12]               0\n",
            "           Conv2d-91          [-1, 256, 12, 12]         589,824\n",
            "           Conv2d-92          [-1, 256, 12, 12]          65,536\n",
            "      BatchNorm2d-93          [-1, 256, 12, 12]             512\n",
            "             ReLU-94          [-1, 256, 12, 12]               0\n",
            "         UpResNet-95          [-1, 256, 12, 12]               0\n",
            "  ConvTranspose2d-96          [-1, 128, 24, 24]         294,912\n",
            "           Conv2d-97          [-1, 128, 24, 24]         147,456\n",
            "           Conv2d-98          [-1, 128, 24, 24]          16,384\n",
            "      BatchNorm2d-99          [-1, 128, 24, 24]             256\n",
            "            ReLU-100          [-1, 128, 24, 24]               0\n",
            "          Conv2d-101          [-1, 128, 24, 24]         147,456\n",
            "          Conv2d-102          [-1, 128, 24, 24]          16,384\n",
            "     BatchNorm2d-103          [-1, 128, 24, 24]             256\n",
            "            ReLU-104          [-1, 128, 24, 24]               0\n",
            "        UpResNet-105          [-1, 128, 24, 24]               0\n",
            " ConvTranspose2d-106           [-1, 64, 48, 48]          73,728\n",
            "          Conv2d-107           [-1, 64, 48, 48]          36,864\n",
            "          Conv2d-108           [-1, 64, 48, 48]           4,096\n",
            "     BatchNorm2d-109           [-1, 64, 48, 48]             128\n",
            "            ReLU-110           [-1, 64, 48, 48]               0\n",
            "          Conv2d-111           [-1, 64, 48, 48]          36,864\n",
            "          Conv2d-112           [-1, 64, 48, 48]           4,096\n",
            "     BatchNorm2d-113           [-1, 64, 48, 48]             128\n",
            "            ReLU-114           [-1, 64, 48, 48]               0\n",
            "        UpResNet-115           [-1, 64, 48, 48]               0\n",
            " ConvTranspose2d-116           [-1, 64, 96, 96]          36,864\n",
            "          Conv2d-117           [-1, 64, 96, 96]          36,864\n",
            "          Conv2d-118           [-1, 64, 96, 96]           4,096\n",
            "     BatchNorm2d-119           [-1, 64, 96, 96]             128\n",
            "            ReLU-120           [-1, 64, 96, 96]               0\n",
            "          Conv2d-121           [-1, 64, 96, 96]          36,864\n",
            "          Conv2d-122           [-1, 64, 96, 96]           4,096\n",
            "     BatchNorm2d-123           [-1, 64, 96, 96]             128\n",
            "            ReLU-124           [-1, 64, 96, 96]               0\n",
            "        UpResNet-125           [-1, 64, 96, 96]               0\n",
            " ConvTranspose2d-126         [-1, 32, 192, 192]          18,432\n",
            "          Conv2d-127         [-1, 32, 192, 192]           9,216\n",
            "          Conv2d-128         [-1, 32, 192, 192]           1,024\n",
            "     BatchNorm2d-129         [-1, 32, 192, 192]              64\n",
            "            ReLU-130         [-1, 32, 192, 192]               0\n",
            "          Conv2d-131         [-1, 32, 192, 192]           9,216\n",
            "          Conv2d-132         [-1, 32, 192, 192]           1,024\n",
            "     BatchNorm2d-133         [-1, 32, 192, 192]              64\n",
            "            ReLU-134         [-1, 32, 192, 192]               0\n",
            "        UpResNet-135         [-1, 32, 192, 192]               0\n",
            "          Conv2d-136          [-1, 1, 192, 192]              32\n",
            "================================================================\n",
            "Total params: 12,384,576\n",
            "Trainable params: 12,384,576\n",
            "Non-trainable params: 0\n",
            "----------------------------------------------------------------\n",
            "Input size (MB): 0.42\n",
            "Forward/backward pass size (MB): 334.41\n",
            "Params size (MB): 47.24\n",
            "Estimated Total Size (MB): 382.07\n",
            "----------------------------------------------------------------\n"
          ],
          "name": "stdout"
        },
        {
          "output_type": "stream",
          "text": [
            "/usr/local/lib/python3.6/dist-packages/torch/nn/functional.py:2973: UserWarning: Default upsampling behavior when mode=bilinear is changed to align_corners=False since 0.4.0. Please specify align_corners=True if the old behavior is desired. See the documentation of nn.Upsample for details.\n",
            "  \"See the documentation of nn.Upsample for details.\".format(mode))\n"
          ],
          "name": "stderr"
        }
      ]
    },
    {
      "cell_type": "code",
      "metadata": {
        "id": "OEgzOZ2xybla",
        "colab_type": "code",
        "colab": {}
      },
      "source": [
        "optim = torch.optim.SGD(model.parameters(),lr=0.001, momentum = 0.9, weight_decay = 1e-5)"
      ],
      "execution_count": 0,
      "outputs": []
    },
    {
      "cell_type": "code",
      "metadata": {
        "id": "0thKIHDYy6RA",
        "colab_type": "code",
        "colab": {}
      },
      "source": [
        "def train(model, criterion, device, train_loader, optimizer, epoch):\n",
        "  model.train()\n",
        "  pbar = tqdm(train_loader)\n",
        "  for batch_idx, data in enumerate(pbar):\n",
        "    data['f1'] = data['f1'].to(device)\n",
        "    data['f2'] = data['f2'].to(device)\n",
        "    data['f3'] = data['f3'].to(device)\n",
        "    data['f4'] = data['f4'].to(device)    \n",
        "\n",
        "    optimizer.zero_grad()\n",
        "    output = model(data)\n",
        "\n",
        " # breakpoint()\n",
        "\n",
        "    loss1 = criterion(output[0], data['f3'])\n",
        "    loss2 = criterion(output[1], data['f4'])\n",
        "    loss  = 2*loss1 + loss2\n",
        "\n",
        "    pbar.set_description(desc = f'loss={loss.item()} l1={loss1.item()} l2={loss2.item()}')   \n",
        "    loss.backward()\n",
        "    optimizer.step()\n",
        "\n",
        "    if batch_idx % prnt == 0:\n",
        "      #show_pred(output.detach().cpu(), nrow =2) # nrow = sqrt-bs\n",
        "      draw_and_save(output[0].detach().cpu(), f'/content/sample_data/plots/{epoch}_{batch_idx}_BR_{loss1.item()}.jpg')\n",
        "      draw_and_save(output[1].detach().cpu(), f'/content/sample_data/plots/{epoch}_{batch_idx}_DR_{loss2.item()}.jpg')\n",
        "      draw_and_save(data['f3'].detach().cpu(), f'/content/sample_data/plots/{epoch}_{batch_idx}_BG_{loss.item()}.jpg')\n",
        "      draw_and_save(data['f4'].detach().cpu(), f'/content/sample_data/plots/{epoch}_{batch_idx}_DG_{loss.item()}.jpg')\n",
        "      draw_and_save(data['f2'].detach().cpu(), f'/content/sample_data/plots/{epoch}_{batch_idx}_IN_{loss.item()}.jpg')\n",
        "\n",
        "      #show(data['f2'].detach().cpu(), nrow=5)\n",
        "\n",
        "    #if batch_idx % 650 == 0:\n",
        "    #  torch.save(model.state_dict(),PATH/f'{epoch}_{batch_idx}_{loss.item()}.pth')"
      ],
      "execution_count": 0,
      "outputs": []
    },
    {
      "cell_type": "code",
      "metadata": {
        "id": "Axb3qffm1eRb",
        "colab_type": "code",
        "colab": {}
      },
      "source": [
        "from torch.optim.lr_scheduler import StepLR\n",
        "scheduler = StepLR(optim, step_size=2, gamma=0.1)"
      ],
      "execution_count": 0,
      "outputs": []
    },
    {
      "cell_type": "code",
      "metadata": {
        "id": "RrXMgQFP4AHU",
        "colab_type": "code",
        "outputId": "823f2ba3-8069-43e8-84c0-55b9cb5e11b2",
        "colab": {
          "base_uri": "https://localhost:8080/",
          "height": 1000,
          "referenced_widgets": [
            "68825b1d93684524a5f2e76dd5fca98b",
            "86f22b19dac349de969dcfd8df4335c1",
            "acb42a090a8c41f39b93194a088a2378",
            "b3746614acff4bd083f232c5dd248823",
            "ad5108365a7c412982c707d473410d30",
            "13e401e914824106a9c9afccb95624d1",
            "1926f5316aa24031a3574c68c85f0b74",
            "3d611b7ecdb04c59a98cfe621b435bed"
          ]
        }
      },
      "source": [
        "for epoch in range(1,2):\n",
        "  train(model, criterion,model.device, train_dl, optim, epoch)\n",
        "  #test(model, device, test_loader)\n",
        "  scheduler.step()"
      ],
      "execution_count": 0,
      "outputs": []
    },
    {
      "cell_type": "code",
      "metadata": {
        "id": "QV7QlZujqy3a",
        "colab_type": "code",
        "colab": {}
      },
      "source": [
        ""
      ],
      "execution_count": 0,
      "outputs": []
    }
  ]
}