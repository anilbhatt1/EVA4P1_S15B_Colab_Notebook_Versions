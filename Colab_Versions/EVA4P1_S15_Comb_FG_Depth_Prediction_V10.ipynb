{
  "nbformat": 4,
  "nbformat_minor": 0,
  "metadata": {
    "colab": {
      "name": "EVA4P1_S15_Comb_FG_Depth_Prediction_V10.ipynb",
      "provenance": [],
      "collapsed_sections": []
    },
    "kernelspec": {
      "name": "python3",
      "display_name": "Python 3"
    },
    "accelerator": "GPU"
  },
  "cells": [
    {
      "cell_type": "code",
      "metadata": {
        "id": "wlGk2nuq4ZCr",
        "colab_type": "code",
        "outputId": "43055b7c-e91d-47c2-9135-1968925c3354",
        "colab": {
          "base_uri": "https://localhost:8080/",
          "height": 312
        }
      },
      "source": [
        "! nvidia-smi"
      ],
      "execution_count": 0,
      "outputs": [
        {
          "output_type": "stream",
          "text": [
            "Wed May 27 06:24:40 2020       \n",
            "+-----------------------------------------------------------------------------+\n",
            "| NVIDIA-SMI 440.82       Driver Version: 418.67       CUDA Version: 10.1     |\n",
            "|-------------------------------+----------------------+----------------------+\n",
            "| GPU  Name        Persistence-M| Bus-Id        Disp.A | Volatile Uncorr. ECC |\n",
            "| Fan  Temp  Perf  Pwr:Usage/Cap|         Memory-Usage | GPU-Util  Compute M. |\n",
            "|===============================+======================+======================|\n",
            "|   0  Tesla K80           Off  | 00000000:00:04.0 Off |                    0 |\n",
            "| N/A   47C    P8    33W / 149W |      0MiB / 11441MiB |      0%      Default |\n",
            "+-------------------------------+----------------------+----------------------+\n",
            "                                                                               \n",
            "+-----------------------------------------------------------------------------+\n",
            "| Processes:                                                       GPU Memory |\n",
            "|  GPU       PID   Type   Process name                             Usage      |\n",
            "|=============================================================================|\n",
            "|  No running processes found                                                 |\n",
            "+-----------------------------------------------------------------------------+\n"
          ],
          "name": "stdout"
        }
      ]
    },
    {
      "cell_type": "code",
      "metadata": {
        "id": "95gzlYvniAPz",
        "colab_type": "code",
        "outputId": "19978af9-3696-463a-8137-e4782b52ea56",
        "colab": {
          "base_uri": "https://localhost:8080/",
          "height": 124
        }
      },
      "source": [
        "from google.colab import drive\n",
        "drive.mount('/content/gdrive')"
      ],
      "execution_count": 0,
      "outputs": [
        {
          "output_type": "stream",
          "text": [
            "Go to this URL in a browser: https://accounts.google.com/o/oauth2/auth?client_id=947318989803-6bn6qk8qdgf4n4g3pfee6491hc0brc4i.apps.googleusercontent.com&redirect_uri=urn%3aietf%3awg%3aoauth%3a2.0%3aoob&response_type=code&scope=email%20https%3a%2f%2fwww.googleapis.com%2fauth%2fdocs.test%20https%3a%2f%2fwww.googleapis.com%2fauth%2fdrive%20https%3a%2f%2fwww.googleapis.com%2fauth%2fdrive.photos.readonly%20https%3a%2f%2fwww.googleapis.com%2fauth%2fpeopleapi.readonly\n",
            "\n",
            "Enter your authorization code:\n",
            "··········\n",
            "Mounted at /content/gdrive\n"
          ],
          "name": "stdout"
        }
      ]
    },
    {
      "cell_type": "code",
      "metadata": {
        "id": "XI2GDvrhiULr",
        "colab_type": "code",
        "outputId": "d26497de-6697-4ac7-bb38-c9cb45e03f4b",
        "colab": {
          "base_uri": "https://localhost:8080/",
          "height": 104
        }
      },
      "source": [
        "import warnings\n",
        "warnings.filterwarnings('ignore')\n",
        "import zipfile\n",
        "from zipfile import ZipFile\n",
        "from pathlib import Path\n",
        "from time import time\n",
        "from datetime import datetime \n",
        "from __future__ import print_function\n",
        "import torch\n",
        "import torchvision\n",
        "from torchvision import transforms\n",
        "from torch.utils.data import DataLoader, Dataset\n",
        "import torch.nn as nn\n",
        "import torch.nn.functional as F\n",
        "import torch.optim as optim\n",
        "import numpy as np\n",
        "from tqdm import tqdm\n",
        "from PIL import Image\n",
        "from tqdm import tqdm_notebook\n",
        "import matplotlib.pyplot as plt\n",
        "import cv2\n",
        "import pkgutil\n",
        "import importlib\n",
        "import os\n",
        "%matplotlib inline\n",
        "%config IPCompleter.greedy=True\n",
        "%reload_ext autoreload\n",
        "import seaborn as sns\n",
        "import io\n",
        "import skimage\n",
        "from skimage.transform import resize\n",
        "from itertools import groupby\n",
        "from tqdm.auto import tqdm\n",
        "import gc\n",
        "sns.set()\n",
        "\n",
        "#import albumentations\n",
        "#print(albumentations.__version__) # check version\n",
        "\n",
        "# This is to install and use albumentations latest package v0.4.5\n",
        "#album_version_needed = \"0.4.5\"\n",
        "#if albumentations.__version__ != album_version_needed:\n",
        "#  !pip install albumentations==0.4.5   # 0.4.5 is the latest albumentation version\n",
        "print('Pytorch version:', torch.__version__)\n",
        "\n",
        "!pip install kornia\n",
        "from kornia.losses import SSIM\n",
        "from kornia.losses import DiceLoss"
      ],
      "execution_count": 0,
      "outputs": [
        {
          "output_type": "stream",
          "text": [
            "Pytorch version: 1.5.0+cu101\n",
            "Requirement already satisfied: kornia in /usr/local/lib/python3.6/dist-packages (0.3.1)\n",
            "Requirement already satisfied: torch==1.5.0 in /usr/local/lib/python3.6/dist-packages (from kornia) (1.5.0+cu101)\n",
            "Requirement already satisfied: numpy in /usr/local/lib/python3.6/dist-packages (from kornia) (1.18.4)\n",
            "Requirement already satisfied: future in /usr/local/lib/python3.6/dist-packages (from torch==1.5.0->kornia) (0.16.0)\n"
          ],
          "name": "stdout"
        }
      ]
    },
    {
      "cell_type": "code",
      "metadata": {
        "id": "w284mZobFQU_",
        "colab_type": "code",
        "outputId": "e08c5fed-f585-4dbe-f206-37802e6904ea",
        "colab": {
          "base_uri": "https://localhost:8080/",
          "height": 35
        }
      },
      "source": [
        "t1 = time()\n",
        "!unzip -q \"/content/gdrive/My Drive/EVA4P1_S15/FG_BG_Mask_Depth/FG_BG_400K.zip\"\n",
        "!unzip -q \"/content/gdrive/My Drive/EVA4P1_S15/FG_BG_Mask_Depth/FG_BG_Mask_400K.zip\"\n",
        "!unzip -q \"/content/gdrive/My Drive/EVA4P1_S15/FG_BG_Mask_Depth/FG_BG_Depth_400K.zip\"\n",
        "!unzip -q \"/content/gdrive/My Drive/EVA4P1_S15/FG_BG_Mask_Depth/BG_and_Its_Flip.zip\"\n",
        "t2 = time()\n",
        "print(f'FG_BG, Mask & Depth Copy took {(t2-t1)/60:.5f} minutes')"
      ],
      "execution_count": 0,
      "outputs": [
        {
          "output_type": "stream",
          "text": [
            "FG_BG, Mask & Depth Copy took 5.67373 minutes\n"
          ],
          "name": "stdout"
        }
      ]
    },
    {
      "cell_type": "code",
      "metadata": {
        "id": "Vj-zanqlGs8G",
        "colab_type": "code",
        "outputId": "54adeb95-889b-4a32-e891-aacd3541ab35",
        "colab": {
          "base_uri": "https://localhost:8080/",
          "height": 35
        }
      },
      "source": [
        "if os.path.exists('/content/FG_BG_Filename_withflip_Logs.txt'):\n",
        "    print('Log file exists')    \n",
        "else:  \n",
        "    !cp '/content/gdrive/My Drive/EVA4P1_S15/FG_BG_Mask_Depth/FG_BG_Filename_withflip_Logs.txt' '/content/'\n",
        "    print('Copied Log File')"
      ],
      "execution_count": 0,
      "outputs": [
        {
          "output_type": "stream",
          "text": [
            "Log file exists\n"
          ],
          "name": "stdout"
        }
      ]
    },
    {
      "cell_type": "code",
      "metadata": {
        "id": "y6mOh2wnG0mu",
        "colab_type": "code",
        "outputId": "571ace11-e2a7-494a-8624-25a9b195520f",
        "colab": {
          "base_uri": "https://localhost:8080/",
          "height": 35
        }
      },
      "source": [
        "# Copying the code from github to colab\n",
        "os.chdir('/content/')\n",
        "!git clone https://github.com/anilbhatt1/EVA4P1_S15B_Depth_FG_Detection"
      ],
      "execution_count": 0,
      "outputs": [
        {
          "output_type": "stream",
          "text": [
            "fatal: destination path 'EVA4P1_S15B_Depth_FG_Detection' already exists and is not an empty directory.\n"
          ],
          "name": "stdout"
        }
      ]
    },
    {
      "cell_type": "code",
      "metadata": {
        "id": "SLLAdPbbqltd",
        "colab_type": "code",
        "outputId": "ab59c4f2-47a6-4f92-c72e-d1de42783774",
        "colab": {
          "base_uri": "https://localhost:8080/",
          "height": 52
        }
      },
      "source": [
        "%cd '/content/EVA4P1_S15B_Depth_FG_Detection/src'\n",
        "! ls"
      ],
      "execution_count": 0,
      "outputs": [
        {
          "output_type": "stream",
          "text": [
            "/content/EVA4P1_S15B_Depth_FG_Detection/src\n",
            "dataset  __init__.py  losses  models\n"
          ],
          "name": "stdout"
        }
      ]
    },
    {
      "cell_type": "code",
      "metadata": {
        "id": "jRW2Lzi6GpqQ",
        "colab_type": "code",
        "outputId": "6439514b-6c92-45fb-c1fa-48a929ab2507",
        "colab": {
          "base_uri": "https://localhost:8080/",
          "height": 69
        }
      },
      "source": [
        "log_fg_bg = open('/content/FG_BG_Filename_withflip_Logs.txt',\"r\")\n",
        "content_list = log_fg_bg.readlines()\n",
        "print('No: of records in log_fg_bg:',len(content_list))\n",
        "print(content_list[0])\n",
        "log_fg_bg.close()\n",
        "\n",
        "data_root = Path('/content')\n",
        "f1, f2, f3, f4 = data_root/'FG_BG_400K', data_root/'BG_and_Its_Flip', data_root/'FG_BG_Mask_400K',  \\\n",
        "                 data_root/'FG_BG_Depth_0_400K'"
      ],
      "execution_count": 0,
      "outputs": [
        {
          "output_type": "stream",
          "text": [
            "No: of records in log_fg_bg: 400000\n",
            "Img_fg_bg_1.jpg,Img21.jpg,Image41.png,(192, 192, 108, 156, 51, 3, 159, 3, 51, 159, 159, 159)\n",
            "\n"
          ],
          "name": "stdout"
        }
      ]
    },
    {
      "cell_type": "markdown",
      "metadata": {
        "id": "JLCodWhCTmAD",
        "colab_type": "text"
      },
      "source": [
        "### Importing modules from github folders"
      ]
    },
    {
      "cell_type": "code",
      "metadata": {
        "id": "p_kBJ7QOjF_C",
        "colab_type": "code",
        "colab": {}
      },
      "source": [
        "os.chdir('/content/EVA4P1_S15B_Depth_FG_Detection/')\n",
        "import src\n",
        "from src.dataset import datatransforms as dtf\n",
        "from src.dataset import makedata as md\n",
        "from src.models  import S15_FGDepth_models as ntwk\n",
        "from src.losses  import Train as Train\n",
        "from src.losses  import Test  as Test\n",
        "from src.utils   import Freeze_Layers as Freeze"
      ],
      "execution_count": 0,
      "outputs": []
    },
    {
      "cell_type": "code",
      "metadata": {
        "id": "yar-2aZJojrl",
        "colab_type": "code",
        "colab": {}
      },
      "source": [
        "bs       = 96\n",
        "rows = 5\n",
        "img_save, model_save = 1500, 500\n",
        "t0, t10k, t380k, t390k = 0, 10000, 380000, 390000"
      ],
      "execution_count": 0,
      "outputs": []
    },
    {
      "cell_type": "markdown",
      "metadata": {
        "id": "Y0HEygaOTsN5",
        "colab_type": "text"
      },
      "source": [
        "### Creating transforms. We are resizing images for faster training"
      ]
    },
    {
      "cell_type": "code",
      "metadata": {
        "id": "JcEcho0ral_7",
        "colab_type": "code",
        "colab": {}
      },
      "source": [
        "transform_instance   = dtf.Transforms_custom()\n",
        "before_norm_list     = [transforms.ColorJitter(brightness=0.1, contrast=0.1, saturation=0.1, hue=0.1)]\n",
        "\n",
        "transform_mini     = transform_instance.data_transforms(64, 64, before_norm_list)\n",
        "transform_test     = transform_instance.test_transforms(64,64)"
      ],
      "execution_count": 0,
      "outputs": []
    },
    {
      "cell_type": "markdown",
      "metadata": {
        "id": "WbY7yN0jT1VD",
        "colab_type": "text"
      },
      "source": [
        "### Creating dataloader for each size of images (resized using transforms)."
      ]
    },
    {
      "cell_type": "code",
      "metadata": {
        "id": "HwLxCslvwiV3",
        "colab_type": "code",
        "colab": {}
      },
      "source": [
        "train_ds_mini  = md.Makedata(f1, content_list, t0, t10k, transform_mini)\n",
        "test_ds        = md.Makedata(f1, content_list, t380k, t390k, transform_test)"
      ],
      "execution_count": 0,
      "outputs": []
    },
    {
      "cell_type": "code",
      "metadata": {
        "id": "Lhdfio_HzR0o",
        "colab_type": "code",
        "colab": {}
      },
      "source": [
        "train_dl_mini  = DataLoader(train_ds_mini, batch_size = bs, shuffle = True, pin_memory = True)\n",
        "test_dl        = DataLoader(test_ds, batch_size = bs, shuffle = True, pin_memory = True)"
      ],
      "execution_count": 0,
      "outputs": []
    },
    {
      "cell_type": "markdown",
      "metadata": {
        "id": "aGrM27FCTYl3",
        "colab_type": "text"
      },
      "source": [
        "### Doing a quick check if tensor shapes are as expected"
      ]
    },
    {
      "cell_type": "code",
      "metadata": {
        "id": "_-TYfdJF2POf",
        "colab_type": "code",
        "outputId": "fa59fccd-23eb-4651-8399-9b3e08466df4",
        "colab": {
          "base_uri": "https://localhost:8080/",
          "height": 72
        }
      },
      "source": [
        "images_mini  = next(iter(train_dl_mini))\n",
        "images_test  = next(iter(test_dl))\n",
        "print('Mini:',[(k, v.shape) for k, v in images_mini.items()])\n",
        "print('Test:',[(k, v.shape) for k, v in images_test.items()])"
      ],
      "execution_count": 0,
      "outputs": [
        {
          "output_type": "stream",
          "text": [
            "Mini: [('f1', torch.Size([96, 3, 64, 64])), ('f2', torch.Size([96, 3, 64, 64])), ('f3', torch.Size([96, 1, 64, 64])), ('f4', torch.Size([96, 1, 64, 64]))]\n",
            "Test: [('f1', torch.Size([96, 3, 64, 64])), ('f2', torch.Size([96, 3, 64, 64])), ('f3', torch.Size([96, 1, 64, 64])), ('f4', torch.Size([96, 1, 64, 64]))]\n"
          ],
          "name": "stdout"
        }
      ]
    },
    {
      "cell_type": "code",
      "metadata": {
        "id": "0P5VDcO72Zm8",
        "colab_type": "code",
        "colab": {}
      },
      "source": [
        "imgs = images_mini['f1']"
      ],
      "execution_count": 0,
      "outputs": []
    },
    {
      "cell_type": "markdown",
      "metadata": {
        "id": "tCu5BA-yTe8k",
        "colab_type": "text"
      },
      "source": [
        "### Displaying images to see if images are coming out as expected"
      ]
    },
    {
      "cell_type": "code",
      "metadata": {
        "id": "bMM8a8gB2f4o",
        "colab_type": "code",
        "colab": {}
      },
      "source": [
        "def show(tensors, figsize= (10,10), *args, **kwargs):\n",
        "  grid_tensor = torchvision.utils.make_grid(tensors, *args, **kwargs)  \n",
        "  grid_image  = grid_tensor.permute(1, 2, 0)\n",
        "  plt.figure(figsize = figsize)\n",
        "  plt.imshow(grid_image)\n",
        "  plt.xticks([])  \n",
        "  plt.yticks([])\n",
        "  plt.show()"
      ],
      "execution_count": 0,
      "outputs": []
    },
    {
      "cell_type": "code",
      "metadata": {
        "id": "9L20xnFi2gYu",
        "colab_type": "code",
        "colab": {}
      },
      "source": [
        "show(imgs, nrow=rows)"
      ],
      "execution_count": 0,
      "outputs": []
    },
    {
      "cell_type": "code",
      "metadata": {
        "id": "iqPWPliZsVQZ",
        "colab_type": "code",
        "outputId": "29a5bbee-e813-4d5d-f79f-d095f0a85c7c",
        "colab": {
          "base_uri": "https://localhost:8080/",
          "height": 1000
        }
      },
      "source": [
        "model = ntwk.FGDepth()\n",
        "use_cuda = torch.cuda.is_available()\n",
        "model.device = torch.device(\"cuda\" if use_cuda else \"cpu\")\n",
        "model.to(model.device)"
      ],
      "execution_count": 0,
      "outputs": [
        {
          "output_type": "execute_result",
          "data": {
            "text/plain": [
              "FGDepth(\n",
              "  (convA): Sequential(\n",
              "    (0): Conv2d(6, 32, kernel_size=(3, 3), stride=(1, 1), padding=(1, 1), bias=False)\n",
              "    (1): BatchNorm2d(32, eps=1e-05, momentum=0.1, affine=True, track_running_stats=True)\n",
              "    (2): ReLU()\n",
              "  )\n",
              "  (convB): Sequential(\n",
              "    (0): Conv2d(32, 32, kernel_size=(3, 3), stride=(1, 1), padding=(1, 1), groups=32, bias=False)\n",
              "    (1): Conv2d(32, 64, kernel_size=(1, 1), stride=(1, 1), bias=False)\n",
              "    (2): BatchNorm2d(64, eps=1e-05, momentum=0.1, affine=True, track_running_stats=True)\n",
              "    (3): ReLU()\n",
              "  )\n",
              "  (convC): Sequential(\n",
              "    (0): Conv2d(64, 128, kernel_size=(3, 3), stride=(1, 1), padding=(1, 1), bias=False)\n",
              "    (1): BatchNorm2d(128, eps=1e-05, momentum=0.1, affine=True, track_running_stats=True)\n",
              "    (2): ReLU()\n",
              "  )\n",
              "  (convD): Sequential(\n",
              "    (0): Conv2d(128, 64, kernel_size=(3, 3), stride=(1, 1), padding=(1, 1), bias=False)\n",
              "  )\n",
              "  (convE): Sequential(\n",
              "    (0): Conv2d(64, 1, kernel_size=(3, 3), stride=(1, 1), padding=(1, 1), bias=False)\n",
              "  )\n",
              "  (blck1): DownSize(\n",
              "    (conv1): Conv2d(64, 128, kernel_size=(3, 3), stride=(2, 2), padding=(1, 1), bias=False)\n",
              "    (conv12): Conv2d(128, 128, kernel_size=(1, 1), stride=(1, 1), bias=False)\n",
              "    (bn1): BatchNorm2d(128, eps=1e-05, momentum=0.1, affine=True, track_running_stats=True)\n",
              "    (relu): ReLU()\n",
              "    (conv2): Conv2d(128, 128, kernel_size=(3, 3), stride=(1, 1), padding=(1, 1), bias=False)\n",
              "    (conv22): Conv2d(128, 128, kernel_size=(1, 1), stride=(1, 1), bias=False)\n",
              "    (bn2): BatchNorm2d(128, eps=1e-05, momentum=0.1, affine=True, track_running_stats=True)\n",
              "    (conv1x1down): Conv2d(64, 128, kernel_size=(1, 1), stride=(2, 2), bias=False)\n",
              "  )\n",
              "  (blck2): DownSize(\n",
              "    (conv1): Conv2d(128, 256, kernel_size=(3, 3), stride=(2, 2), padding=(1, 1), bias=False)\n",
              "    (conv12): Conv2d(256, 256, kernel_size=(1, 1), stride=(1, 1), bias=False)\n",
              "    (bn1): BatchNorm2d(256, eps=1e-05, momentum=0.1, affine=True, track_running_stats=True)\n",
              "    (relu): ReLU()\n",
              "    (conv2): Conv2d(256, 256, kernel_size=(3, 3), stride=(1, 1), padding=(1, 1), bias=False)\n",
              "    (conv22): Conv2d(256, 256, kernel_size=(1, 1), stride=(1, 1), bias=False)\n",
              "    (bn2): BatchNorm2d(256, eps=1e-05, momentum=0.1, affine=True, track_running_stats=True)\n",
              "    (conv1x1down): Conv2d(128, 256, kernel_size=(1, 1), stride=(2, 2), bias=False)\n",
              "  )\n",
              "  (blck3): DownSize(\n",
              "    (conv1): Conv2d(256, 256, kernel_size=(3, 3), stride=(2, 2), padding=(1, 1), bias=False)\n",
              "    (conv12): Conv2d(256, 256, kernel_size=(1, 1), stride=(1, 1), bias=False)\n",
              "    (bn1): BatchNorm2d(256, eps=1e-05, momentum=0.1, affine=True, track_running_stats=True)\n",
              "    (relu): ReLU()\n",
              "    (conv2): Conv2d(256, 256, kernel_size=(3, 3), stride=(1, 1), padding=(1, 1), bias=False)\n",
              "    (conv22): Conv2d(256, 256, kernel_size=(1, 1), stride=(1, 1), bias=False)\n",
              "    (bn2): BatchNorm2d(256, eps=1e-05, momentum=0.1, affine=True, track_running_stats=True)\n",
              "    (conv1x1down): Conv2d(256, 256, kernel_size=(1, 1), stride=(2, 2), bias=False)\n",
              "  )\n",
              "  (blck4): DownSize(\n",
              "    (conv1): Conv2d(256, 256, kernel_size=(3, 3), stride=(2, 2), padding=(1, 1), bias=False)\n",
              "    (conv12): Conv2d(256, 256, kernel_size=(1, 1), stride=(1, 1), bias=False)\n",
              "    (bn1): BatchNorm2d(256, eps=1e-05, momentum=0.1, affine=True, track_running_stats=True)\n",
              "    (relu): ReLU()\n",
              "    (conv2): Conv2d(256, 256, kernel_size=(3, 3), stride=(1, 1), padding=(1, 1), bias=False)\n",
              "    (conv22): Conv2d(256, 256, kernel_size=(1, 1), stride=(1, 1), bias=False)\n",
              "    (bn2): BatchNorm2d(256, eps=1e-05, momentum=0.1, affine=True, track_running_stats=True)\n",
              "    (conv1x1down): Conv2d(256, 256, kernel_size=(1, 1), stride=(2, 2), bias=False)\n",
              "  )\n",
              "  (blck5): UpSize(\n",
              "    (conv1): Conv2d(256, 256, kernel_size=(3, 3), stride=(1, 1), padding=(1, 1), bias=False)\n",
              "    (conv12): Conv2d(256, 256, kernel_size=(1, 1), stride=(1, 1), bias=False)\n",
              "    (bn1): BatchNorm2d(256, eps=1e-05, momentum=0.1, affine=True, track_running_stats=True)\n",
              "    (relu): ReLU()\n",
              "    (conv2): Conv2d(256, 256, kernel_size=(3, 3), stride=(1, 1), padding=(1, 1), bias=False)\n",
              "    (conv22): Conv2d(256, 256, kernel_size=(1, 1), stride=(1, 1), bias=False)\n",
              "    (bn2): BatchNorm2d(256, eps=1e-05, momentum=0.1, affine=True, track_running_stats=True)\n",
              "    (conv1x1down): ConvTranspose2d(256, 256, kernel_size=(3, 3), stride=(1, 1), padding=(1, 1), bias=False)\n",
              "  )\n",
              "  (blck6): UpSize(\n",
              "    (conv1): Conv2d(256, 256, kernel_size=(3, 3), stride=(1, 1), padding=(1, 1), bias=False)\n",
              "    (conv12): Conv2d(256, 256, kernel_size=(1, 1), stride=(1, 1), bias=False)\n",
              "    (bn1): BatchNorm2d(256, eps=1e-05, momentum=0.1, affine=True, track_running_stats=True)\n",
              "    (relu): ReLU()\n",
              "    (conv2): Conv2d(256, 256, kernel_size=(3, 3), stride=(1, 1), padding=(1, 1), bias=False)\n",
              "    (conv22): Conv2d(256, 256, kernel_size=(1, 1), stride=(1, 1), bias=False)\n",
              "    (bn2): BatchNorm2d(256, eps=1e-05, momentum=0.1, affine=True, track_running_stats=True)\n",
              "    (conv1x1down): ConvTranspose2d(256, 256, kernel_size=(3, 3), stride=(1, 1), padding=(1, 1), bias=False)\n",
              "  )\n",
              "  (blck7): UpSize(\n",
              "    (conv1): Conv2d(128, 128, kernel_size=(3, 3), stride=(1, 1), padding=(1, 1), bias=False)\n",
              "    (conv12): Conv2d(128, 128, kernel_size=(1, 1), stride=(1, 1), bias=False)\n",
              "    (bn1): BatchNorm2d(128, eps=1e-05, momentum=0.1, affine=True, track_running_stats=True)\n",
              "    (relu): ReLU()\n",
              "    (conv2): Conv2d(128, 128, kernel_size=(3, 3), stride=(1, 1), padding=(1, 1), bias=False)\n",
              "    (conv22): Conv2d(128, 128, kernel_size=(1, 1), stride=(1, 1), bias=False)\n",
              "    (bn2): BatchNorm2d(128, eps=1e-05, momentum=0.1, affine=True, track_running_stats=True)\n",
              "    (conv1x1down): ConvTranspose2d(256, 128, kernel_size=(3, 3), stride=(1, 1), padding=(1, 1), bias=False)\n",
              "  )\n",
              "  (blck8): UpSize(\n",
              "    (conv1): Conv2d(64, 64, kernel_size=(3, 3), stride=(1, 1), padding=(1, 1), bias=False)\n",
              "    (conv12): Conv2d(64, 64, kernel_size=(1, 1), stride=(1, 1), bias=False)\n",
              "    (bn1): BatchNorm2d(64, eps=1e-05, momentum=0.1, affine=True, track_running_stats=True)\n",
              "    (relu): ReLU()\n",
              "    (conv2): Conv2d(64, 64, kernel_size=(3, 3), stride=(1, 1), padding=(1, 1), bias=False)\n",
              "    (conv22): Conv2d(64, 64, kernel_size=(1, 1), stride=(1, 1), bias=False)\n",
              "    (bn2): BatchNorm2d(64, eps=1e-05, momentum=0.1, affine=True, track_running_stats=True)\n",
              "    (conv1x1down): ConvTranspose2d(128, 64, kernel_size=(3, 3), stride=(1, 1), padding=(1, 1), bias=False)\n",
              "  )\n",
              "  (convLast): Sequential(\n",
              "    (0): Conv2d(64, 1, kernel_size=(1, 1), stride=(1, 1), bias=False)\n",
              "  )\n",
              ")"
            ]
          },
          "metadata": {
            "tags": []
          },
          "execution_count": 10
        }
      ]
    },
    {
      "cell_type": "code",
      "metadata": {
        "id": "Oc_NqQotxNe8",
        "colab_type": "code",
        "colab": {}
      },
      "source": [
        "freezer = Freeze.Freezer()"
      ],
      "execution_count": 0,
      "outputs": []
    },
    {
      "cell_type": "code",
      "metadata": {
        "id": "M4sgrCs3v3Es",
        "colab_type": "code",
        "colab": {}
      },
      "source": [
        "#criterion  = nn.BCEWithLogitsLoss()\n",
        "criterion1  = DiceLoss()\n",
        "kernel_size = 3\n",
        "criterion2  = SSIM(kernel_size, reduction = 'mean')\n",
        "\n",
        "optim = torch.optim.SGD(model.parameters(), lr=0.01, momentum = 0.9, weight_decay = 1e-5)\n",
        "\n",
        "from torch.optim.lr_scheduler import StepLR\n",
        "scheduler = StepLR(optim, step_size=2, gamma=0.1)"
      ],
      "execution_count": 0,
      "outputs": []
    },
    {
      "cell_type": "code",
      "metadata": {
        "id": "-xxvWCfTx8_P",
        "colab_type": "code",
        "colab": {}
      },
      "source": [
        "train_loss_fn = Train.Training_loss()\n",
        "test_loss_fn  = Test.Testing_loss()"
      ],
      "execution_count": 0,
      "outputs": []
    },
    {
      "cell_type": "code",
      "metadata": {
        "id": "tYkbu5yniyko",
        "colab_type": "code",
        "outputId": "38140089-f587-4eae-9979-dca33967393d",
        "colab": {
          "base_uri": "https://localhost:8080/",
          "height": 35
        }
      },
      "source": [
        "path = f'/content/gdrive/My Drive/FG_Depth_Prediction_0526V10_Test.pt'\n",
        "model.load_state_dict(torch.load(path))"
      ],
      "execution_count": 0,
      "outputs": [
        {
          "output_type": "execute_result",
          "data": {
            "text/plain": [
              "<All keys matched successfully>"
            ]
          },
          "metadata": {
            "tags": []
          },
          "execution_count": 14
        }
      ]
    },
    {
      "cell_type": "code",
      "metadata": {
        "id": "Vmx_mhuiiwgY",
        "colab_type": "code",
        "colab": {}
      },
      "source": [
        "path_name       = '/content/gdrive/My Drive/plots_0526_V10_Test/'\n",
        "path_model_save = f'/content/gdrive/My Drive/FG_Depth_Prediction_0526V10_Test.pt'"
      ],
      "execution_count": 0,
      "outputs": []
    },
    {
      "cell_type": "code",
      "metadata": {
        "id": "zFqDuaZiik2C",
        "colab_type": "code",
        "outputId": "a5f41202-9b8b-401d-97db-65dcbcd3e866",
        "colab": {
          "base_uri": "https://localhost:8080/",
          "height": 644
        }
      },
      "source": [
        "train_loss_all, train_mask_loss_all, train_depth_loss_all, train_mask_iou_all, train_depth_iou_all = [], [], [], [], []\n",
        "test_loss_all,  test_mask_loss_all,  test_depth_loss_all,  test_mask_iou_all,  test_depth_iou_all  = [], [], [], [], []\n",
        "\n",
        "for epoch in range(1,3):\n",
        "  train_loss, train_mask_loss, train_depth_loss, train_mask_iou, train_depth_iou = 0, 0, 0, 0, 0\n",
        "  test_loss,  test_mask_loss,  test_depth_loss,  test_mask_iou,  test_depth_iou  = 0, 0, 0, 0, 0\n",
        "  if epoch < 2:\n",
        "     batch_size = bs\n",
        "     freezer.freeze_mask_layers(model)\n",
        "     train_loss, train_mask_loss, train_depth_loss, train_mask_iou, train_depth_iou = train_loss_fn.train_loss_calc( \\\n",
        "                                                           model, model.device,train_dl_mini,\\\n",
        "                                                           optim, epoch, criterion1, criterion2, batch_size, path_name, \\\n",
        "                                                           path_model_save, scheduler, model_save, img_save)\n",
        "  elif epoch < 3:\n",
        "     batch_size = bs\n",
        "     freezer.freeze_depth_layers(model)  \n",
        "     train_loss, train_mask_loss, train_depth_loss, train_mask_iou, train_depth_iou = train_loss_fn.train_loss_calc(    \\\n",
        "                                                           model, model.device,train_dl_mini,                          \\\n",
        "                                                           optim, epoch, criterion1, criterion2, batch_size, path_name, \\\n",
        "                                                           path_model_save, scheduler, model_save, img_save)             \n",
        "\n",
        "  batch_size = bs\n",
        "  test_loss, test_mask_loss, test_depth_loss, test_mask_iou, test_depth_iou = test_loss_fn.test_loss_calc(              \\\n",
        "                                                         model, model.device, test_dl, optim,                           \\\n",
        "                                                         epoch, criterion1, criterion2, batch_size, path_name,           \\\n",
        "                                                         scheduler, img_save)\n",
        "  scheduler.step()\n",
        "\n",
        "  train_loss_all.append(train_loss.item()), train_mask_loss_all.append(train_mask_loss.item()), train_depth_loss_all.append(train_depth_loss.item())\n",
        "  test_loss_all.append(test_loss.item()),   test_mask_loss_all.append(test_mask_loss.item()),   test_depth_loss_all.append(test_depth_loss.item())\n",
        "  train_mask_iou_all.append(train_mask_iou), train_depth_iou_all.append(train_depth_iou)\n",
        "  test_mask_iou_all.append(test_mask_iou),   test_depth_iou_all.append(test_depth_iou)\n",
        "\n",
        "  gc.collect()"
      ],
      "execution_count": 0,
      "outputs": [
        {
          "output_type": "stream",
          "text": [
            "\r  0%|          | 0/105 [00:00<?, ?it/s]"
          ],
          "name": "stderr"
        },
        {
          "output_type": "stream",
          "text": [
            "Freezing Mask Layers\n",
            "XYZ\n",
            "XYZ\n",
            "XYZ\n"
          ],
          "name": "stdout"
        },
        {
          "output_type": "stream",
          "text": [
            "\rTR1|0|0.039|0.142|0.279|0.519:   0%|          | 0/105 [00:00<?, ?it/s]Clipping input data to the valid range for imshow with RGB data ([0..1] for floats or [0..255] for integers).\n"
          ],
          "name": "stderr"
        },
        {
          "output_type": "stream",
          "text": [
            "Train Epoch:1 Batch_ID: 0 [0/10000 (0%)]\tLoss:0.22097 Mask_Loss:0.03928 Dpth_Loss:0.14241 Mask_IOU:0.27851 Dpth_IOU: 0.51931\n"
          ],
          "name": "stdout"
        },
        {
          "output_type": "stream",
          "text": [
            "Clipping input data to the valid range for imshow with RGB data ([0..1] for floats or [0..255] for integers).\n",
            "TR1|0|0.039|0.142|0.279|0.519:   1%|          | 1/105 [00:03<05:17,  3.05s/it]"
          ],
          "name": "stderr"
        },
        {
          "output_type": "stream",
          "text": [
            "MODEL SAVED: /content/gdrive/My Drive/FG_Depth_Prediction_0526V10_Test.pt Epoch & Batch-ID: 1 0\n"
          ],
          "name": "stdout"
        },
        {
          "output_type": "stream",
          "text": [
            "TR1|103|0.032|0.121|0.198|0.541:  98%|█████████▊| 103/105 [01:40<00:01,  1.06it/s]Clipping input data to the valid range for imshow with RGB data ([0..1] for floats or [0..255] for integers).\n"
          ],
          "name": "stderr"
        },
        {
          "output_type": "stream",
          "text": [
            "Train Epoch:1 Batch_ID: 103 [9888/10000 (98%)]\tLoss:0.18468 Mask_Loss:0.03174 Dpth_Loss:0.12121 Mask_IOU:0.19841 Dpth_IOU: 0.54107\n"
          ],
          "name": "stdout"
        },
        {
          "output_type": "stream",
          "text": [
            "Clipping input data to the valid range for imshow with RGB data ([0..1] for floats or [0..255] for integers).\n",
            "TR1|104|0.040|0.132|0.232|0.666: 100%|██████████| 105/105 [01:42<00:00,  1.03it/s]\n",
            "TS1|0|0.066|0.161|0.564|0.592:   0%|          | 0/105 [00:00<?, ?it/s]Clipping input data to the valid range for imshow with RGB data ([0..1] for floats or [0..255] for integers).\n"
          ],
          "name": "stderr"
        },
        {
          "output_type": "stream",
          "text": [
            "Test Epoch: 1 [0/10000 (0%)]\tTest_Loss: 0.292099 Mask_Loss: 0.06554 Dpth_Loss: 0.16101 Mask_IOU: 0.56401 Dpth_IOU: 0.59181\n"
          ],
          "name": "stdout"
        },
        {
          "output_type": "stream",
          "text": [
            "Clipping input data to the valid range for imshow with RGB data ([0..1] for floats or [0..255] for integers).\n",
            "TS1|103|0.066|0.161|0.574|0.580:  98%|█████████▊| 103/105 [01:12<00:01,  1.47it/s]Clipping input data to the valid range for imshow with RGB data ([0..1] for floats or [0..255] for integers).\n"
          ],
          "name": "stderr"
        },
        {
          "output_type": "stream",
          "text": [
            "Test Epoch: 1 [515/10000 (98%)]\tTest_Loss: 0.292630 Mask_Loss: 0.06559 Dpth_Loss: 0.16144 Mask_IOU: 0.57443 Dpth_IOU: 0.58011\n"
          ],
          "name": "stdout"
        },
        {
          "output_type": "stream",
          "text": [
            "Clipping input data to the valid range for imshow with RGB data ([0..1] for floats or [0..255] for integers).\n",
            "TS1|104|0.075|0.151|0.626|0.600: 100%|██████████| 105/105 [01:13<00:00,  1.43it/s]\n",
            "  0%|          | 0/105 [00:00<?, ?it/s]"
          ],
          "name": "stderr"
        },
        {
          "output_type": "stream",
          "text": [
            "Freezing Depth Layers\n",
            "ABCD\n",
            "ABCD\n",
            "ABCD\n"
          ],
          "name": "stdout"
        },
        {
          "output_type": "stream",
          "text": [
            "\rTR2|0|0.031|0.125|0.228|0.554:   0%|          | 0/105 [00:00<?, ?it/s]Clipping input data to the valid range for imshow with RGB data ([0..1] for floats or [0..255] for integers).\n"
          ],
          "name": "stderr"
        },
        {
          "output_type": "stream",
          "text": [
            "Train Epoch:2 Batch_ID: 0 [0/10000 (0%)]\tLoss:0.18639 Mask_Loss:0.03091 Dpth_Loss:0.12457 Mask_IOU:0.22800 Dpth_IOU: 0.55356\n"
          ],
          "name": "stdout"
        },
        {
          "output_type": "stream",
          "text": [
            "Clipping input data to the valid range for imshow with RGB data ([0..1] for floats or [0..255] for integers).\n",
            "TR2|0|0.031|0.125|0.228|0.554:   1%|          | 1/105 [00:02<04:59,  2.88s/it]"
          ],
          "name": "stderr"
        },
        {
          "output_type": "stream",
          "text": [
            "MODEL SAVED: /content/gdrive/My Drive/FG_Depth_Prediction_0526V10_Test.pt Epoch & Batch-ID: 2 0\n"
          ],
          "name": "stdout"
        },
        {
          "output_type": "stream",
          "text": [
            "TR2|103|0.033|0.128|0.235|0.547:  98%|█████████▊| 103/105 [01:39<00:01,  1.08it/s]Clipping input data to the valid range for imshow with RGB data ([0..1] for floats or [0..255] for integers).\n"
          ],
          "name": "stderr"
        },
        {
          "output_type": "stream",
          "text": [
            "Train Epoch:2 Batch_ID: 103 [9888/10000 (98%)]\tLoss:0.19458 Mask_Loss:0.03320 Dpth_Loss:0.12819 Mask_IOU:0.23512 Dpth_IOU: 0.54730\n"
          ],
          "name": "stdout"
        },
        {
          "output_type": "stream",
          "text": [
            "TR2|104|0.073|0.125|0.420|0.526: 100%|██████████| 105/105 [01:41<00:00,  1.04it/s]\n",
            "TS2|0|0.059|0.115|0.588|0.591:   0%|          | 0/105 [00:00<?, ?it/s]Clipping input data to the valid range for imshow with RGB data ([0..1] for floats or [0..255] for integers).\n"
          ],
          "name": "stderr"
        },
        {
          "output_type": "stream",
          "text": [
            "Test Epoch: 2 [0/10000 (0%)]\tTest_Loss: 0.233457 Mask_Loss: 0.05938 Dpth_Loss: 0.11470 Mask_IOU: 0.58796 Dpth_IOU: 0.59081\n"
          ],
          "name": "stdout"
        },
        {
          "output_type": "stream",
          "text": [
            "TS2|103|0.059|0.116|0.585|0.571:  98%|█████████▊| 103/105 [01:11<00:01,  1.49it/s]Clipping input data to the valid range for imshow with RGB data ([0..1] for floats or [0..255] for integers).\n"
          ],
          "name": "stderr"
        },
        {
          "output_type": "stream",
          "text": [
            "Test Epoch: 2 [515/10000 (98%)]\tTest_Loss: 0.233840 Mask_Loss: 0.05880 Dpth_Loss: 0.11625 Mask_IOU: 0.58486 Dpth_IOU: 0.57103\n"
          ],
          "name": "stdout"
        },
        {
          "output_type": "stream",
          "text": [
            "TS2|104|0.080|0.119|0.624|0.622: 100%|██████████| 105/105 [01:13<00:00,  1.43it/s]\n"
          ],
          "name": "stderr"
        }
      ]
    },
    {
      "cell_type": "code",
      "metadata": {
        "id": "u-Z0syX02tY3",
        "colab_type": "code",
        "colab": {}
      },
      "source": [
        ""
      ],
      "execution_count": 0,
      "outputs": []
    }
  ]
}