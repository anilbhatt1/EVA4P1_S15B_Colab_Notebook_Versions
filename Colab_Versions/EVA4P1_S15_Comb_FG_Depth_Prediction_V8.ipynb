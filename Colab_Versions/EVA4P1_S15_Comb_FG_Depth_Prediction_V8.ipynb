{
  "nbformat": 4,
  "nbformat_minor": 0,
  "metadata": {
    "colab": {
      "name": "EVA4P1_S15_Comb_FG_Depth_Prediction_V8.ipynb",
      "provenance": [],
      "collapsed_sections": []
    },
    "kernelspec": {
      "name": "python3",
      "display_name": "Python 3"
    },
    "accelerator": "GPU",
    "widgets": {
      "application/vnd.jupyter.widget-state+json": {
        "17ea58e7d4824793b7ca764bf0733490": {
          "model_module": "@jupyter-widgets/controls",
          "model_name": "HBoxModel",
          "state": {
            "_view_name": "HBoxView",
            "_dom_classes": [],
            "_model_name": "HBoxModel",
            "_view_module": "@jupyter-widgets/controls",
            "_model_module_version": "1.5.0",
            "_view_count": null,
            "_view_module_version": "1.5.0",
            "box_style": "",
            "layout": "IPY_MODEL_8be7f7179a5d46bb88033191f28bfe71",
            "_model_module": "@jupyter-widgets/controls",
            "children": [
              "IPY_MODEL_ddb0062ff38b4512995d9d1f306c37fd",
              "IPY_MODEL_3017c04933a64e4da5f44953c5a11f94"
            ]
          }
        },
        "8be7f7179a5d46bb88033191f28bfe71": {
          "model_module": "@jupyter-widgets/base",
          "model_name": "LayoutModel",
          "state": {
            "_view_name": "LayoutView",
            "grid_template_rows": null,
            "right": null,
            "justify_content": null,
            "_view_module": "@jupyter-widgets/base",
            "overflow": null,
            "_model_module_version": "1.2.0",
            "_view_count": null,
            "flex_flow": null,
            "width": null,
            "min_width": null,
            "border": null,
            "align_items": null,
            "bottom": null,
            "_model_module": "@jupyter-widgets/base",
            "top": null,
            "grid_column": null,
            "overflow_y": null,
            "overflow_x": null,
            "grid_auto_flow": null,
            "grid_area": null,
            "grid_template_columns": null,
            "flex": null,
            "_model_name": "LayoutModel",
            "justify_items": null,
            "grid_row": null,
            "max_height": null,
            "align_content": null,
            "visibility": null,
            "align_self": null,
            "height": null,
            "min_height": null,
            "padding": null,
            "grid_auto_rows": null,
            "grid_gap": null,
            "max_width": null,
            "order": null,
            "_view_module_version": "1.2.0",
            "grid_template_areas": null,
            "object_position": null,
            "object_fit": null,
            "grid_auto_columns": null,
            "margin": null,
            "display": null,
            "left": null
          }
        },
        "ddb0062ff38b4512995d9d1f306c37fd": {
          "model_module": "@jupyter-widgets/controls",
          "model_name": "FloatProgressModel",
          "state": {
            "_view_name": "ProgressView",
            "style": "IPY_MODEL_8b04081e77a44c42827fd22005269144",
            "_dom_classes": [],
            "description": "1 2916 l=1.7943 l1=0.65503 l2=0.48427: 100%",
            "_model_name": "FloatProgressModel",
            "bar_style": "success",
            "max": 2917,
            "_view_module": "@jupyter-widgets/controls",
            "_model_module_version": "1.5.0",
            "value": 2917,
            "_view_count": null,
            "_view_module_version": "1.5.0",
            "orientation": "horizontal",
            "min": 0,
            "description_tooltip": null,
            "_model_module": "@jupyter-widgets/controls",
            "layout": "IPY_MODEL_bb7f57b7ebd24fe88d07dae4b23fa3eb"
          }
        },
        "3017c04933a64e4da5f44953c5a11f94": {
          "model_module": "@jupyter-widgets/controls",
          "model_name": "HTMLModel",
          "state": {
            "_view_name": "HTMLView",
            "style": "IPY_MODEL_7b5a4f2ae3fb4df49ae59d63a50f92d9",
            "_dom_classes": [],
            "description": "",
            "_model_name": "HTMLModel",
            "placeholder": "​",
            "_view_module": "@jupyter-widgets/controls",
            "_model_module_version": "1.5.0",
            "value": " 2917/2917 [59:05&lt;00:00,  1.22s/it]",
            "_view_count": null,
            "_view_module_version": "1.5.0",
            "description_tooltip": null,
            "_model_module": "@jupyter-widgets/controls",
            "layout": "IPY_MODEL_c358c0fe3e104c2fbd3b400a7419d2d6"
          }
        },
        "8b04081e77a44c42827fd22005269144": {
          "model_module": "@jupyter-widgets/controls",
          "model_name": "ProgressStyleModel",
          "state": {
            "_view_name": "StyleView",
            "_model_name": "ProgressStyleModel",
            "description_width": "initial",
            "_view_module": "@jupyter-widgets/base",
            "_model_module_version": "1.5.0",
            "_view_count": null,
            "_view_module_version": "1.2.0",
            "bar_color": null,
            "_model_module": "@jupyter-widgets/controls"
          }
        },
        "bb7f57b7ebd24fe88d07dae4b23fa3eb": {
          "model_module": "@jupyter-widgets/base",
          "model_name": "LayoutModel",
          "state": {
            "_view_name": "LayoutView",
            "grid_template_rows": null,
            "right": null,
            "justify_content": null,
            "_view_module": "@jupyter-widgets/base",
            "overflow": null,
            "_model_module_version": "1.2.0",
            "_view_count": null,
            "flex_flow": null,
            "width": null,
            "min_width": null,
            "border": null,
            "align_items": null,
            "bottom": null,
            "_model_module": "@jupyter-widgets/base",
            "top": null,
            "grid_column": null,
            "overflow_y": null,
            "overflow_x": null,
            "grid_auto_flow": null,
            "grid_area": null,
            "grid_template_columns": null,
            "flex": null,
            "_model_name": "LayoutModel",
            "justify_items": null,
            "grid_row": null,
            "max_height": null,
            "align_content": null,
            "visibility": null,
            "align_self": null,
            "height": null,
            "min_height": null,
            "padding": null,
            "grid_auto_rows": null,
            "grid_gap": null,
            "max_width": null,
            "order": null,
            "_view_module_version": "1.2.0",
            "grid_template_areas": null,
            "object_position": null,
            "object_fit": null,
            "grid_auto_columns": null,
            "margin": null,
            "display": null,
            "left": null
          }
        },
        "7b5a4f2ae3fb4df49ae59d63a50f92d9": {
          "model_module": "@jupyter-widgets/controls",
          "model_name": "DescriptionStyleModel",
          "state": {
            "_view_name": "StyleView",
            "_model_name": "DescriptionStyleModel",
            "description_width": "",
            "_view_module": "@jupyter-widgets/base",
            "_model_module_version": "1.5.0",
            "_view_count": null,
            "_view_module_version": "1.2.0",
            "_model_module": "@jupyter-widgets/controls"
          }
        },
        "c358c0fe3e104c2fbd3b400a7419d2d6": {
          "model_module": "@jupyter-widgets/base",
          "model_name": "LayoutModel",
          "state": {
            "_view_name": "LayoutView",
            "grid_template_rows": null,
            "right": null,
            "justify_content": null,
            "_view_module": "@jupyter-widgets/base",
            "overflow": null,
            "_model_module_version": "1.2.0",
            "_view_count": null,
            "flex_flow": null,
            "width": null,
            "min_width": null,
            "border": null,
            "align_items": null,
            "bottom": null,
            "_model_module": "@jupyter-widgets/base",
            "top": null,
            "grid_column": null,
            "overflow_y": null,
            "overflow_x": null,
            "grid_auto_flow": null,
            "grid_area": null,
            "grid_template_columns": null,
            "flex": null,
            "_model_name": "LayoutModel",
            "justify_items": null,
            "grid_row": null,
            "max_height": null,
            "align_content": null,
            "visibility": null,
            "align_self": null,
            "height": null,
            "min_height": null,
            "padding": null,
            "grid_auto_rows": null,
            "grid_gap": null,
            "max_width": null,
            "order": null,
            "_view_module_version": "1.2.0",
            "grid_template_areas": null,
            "object_position": null,
            "object_fit": null,
            "grid_auto_columns": null,
            "margin": null,
            "display": null,
            "left": null
          }
        },
        "45e80387b8c44ae4b3ec53dbb0e4234f": {
          "model_module": "@jupyter-widgets/controls",
          "model_name": "HBoxModel",
          "state": {
            "_view_name": "HBoxView",
            "_dom_classes": [],
            "_model_name": "HBoxModel",
            "_view_module": "@jupyter-widgets/controls",
            "_model_module_version": "1.5.0",
            "_view_count": null,
            "_view_module_version": "1.5.0",
            "box_style": "",
            "layout": "IPY_MODEL_7f95cdd738be445ba6094cde96f2b818",
            "_model_module": "@jupyter-widgets/controls",
            "children": [
              "IPY_MODEL_38248fe1917f4f58a2b1b9c8a620d82f",
              "IPY_MODEL_60dd5b7083df4466814cdabc3a3d3ad8"
            ]
          }
        },
        "7f95cdd738be445ba6094cde96f2b818": {
          "model_module": "@jupyter-widgets/base",
          "model_name": "LayoutModel",
          "state": {
            "_view_name": "LayoutView",
            "grid_template_rows": null,
            "right": null,
            "justify_content": null,
            "_view_module": "@jupyter-widgets/base",
            "overflow": null,
            "_model_module_version": "1.2.0",
            "_view_count": null,
            "flex_flow": null,
            "width": null,
            "min_width": null,
            "border": null,
            "align_items": null,
            "bottom": null,
            "_model_module": "@jupyter-widgets/base",
            "top": null,
            "grid_column": null,
            "overflow_y": null,
            "overflow_x": null,
            "grid_auto_flow": null,
            "grid_area": null,
            "grid_template_columns": null,
            "flex": null,
            "_model_name": "LayoutModel",
            "justify_items": null,
            "grid_row": null,
            "max_height": null,
            "align_content": null,
            "visibility": null,
            "align_self": null,
            "height": null,
            "min_height": null,
            "padding": null,
            "grid_auto_rows": null,
            "grid_gap": null,
            "max_width": null,
            "order": null,
            "_view_module_version": "1.2.0",
            "grid_template_areas": null,
            "object_position": null,
            "object_fit": null,
            "grid_auto_columns": null,
            "margin": null,
            "display": null,
            "left": null
          }
        },
        "38248fe1917f4f58a2b1b9c8a620d82f": {
          "model_module": "@jupyter-widgets/controls",
          "model_name": "FloatProgressModel",
          "state": {
            "_view_name": "ProgressView",
            "style": "IPY_MODEL_b6db496d5a3b4470af6ed63e2ddb852c",
            "_dom_classes": [],
            "description": "2 2916 l=1.7944 l1=0.65558 l2=0.48325: 100%",
            "_model_name": "FloatProgressModel",
            "bar_style": "success",
            "max": 2917,
            "_view_module": "@jupyter-widgets/controls",
            "_model_module_version": "1.5.0",
            "value": 2917,
            "_view_count": null,
            "_view_module_version": "1.5.0",
            "orientation": "horizontal",
            "min": 0,
            "description_tooltip": null,
            "_model_module": "@jupyter-widgets/controls",
            "layout": "IPY_MODEL_5ac9c536b3dd40049f1aceb4f532cc38"
          }
        },
        "60dd5b7083df4466814cdabc3a3d3ad8": {
          "model_module": "@jupyter-widgets/controls",
          "model_name": "HTMLModel",
          "state": {
            "_view_name": "HTMLView",
            "style": "IPY_MODEL_94202e175f4d4e41955e6060b9960b06",
            "_dom_classes": [],
            "description": "",
            "_model_name": "HTMLModel",
            "placeholder": "​",
            "_view_module": "@jupyter-widgets/controls",
            "_model_module_version": "1.5.0",
            "value": " 2917/2917 [55:51&lt;00:00,  1.15s/it]",
            "_view_count": null,
            "_view_module_version": "1.5.0",
            "description_tooltip": null,
            "_model_module": "@jupyter-widgets/controls",
            "layout": "IPY_MODEL_a3cd83944a384756b9cc2200360092aa"
          }
        },
        "b6db496d5a3b4470af6ed63e2ddb852c": {
          "model_module": "@jupyter-widgets/controls",
          "model_name": "ProgressStyleModel",
          "state": {
            "_view_name": "StyleView",
            "_model_name": "ProgressStyleModel",
            "description_width": "initial",
            "_view_module": "@jupyter-widgets/base",
            "_model_module_version": "1.5.0",
            "_view_count": null,
            "_view_module_version": "1.2.0",
            "bar_color": null,
            "_model_module": "@jupyter-widgets/controls"
          }
        },
        "5ac9c536b3dd40049f1aceb4f532cc38": {
          "model_module": "@jupyter-widgets/base",
          "model_name": "LayoutModel",
          "state": {
            "_view_name": "LayoutView",
            "grid_template_rows": null,
            "right": null,
            "justify_content": null,
            "_view_module": "@jupyter-widgets/base",
            "overflow": null,
            "_model_module_version": "1.2.0",
            "_view_count": null,
            "flex_flow": null,
            "width": null,
            "min_width": null,
            "border": null,
            "align_items": null,
            "bottom": null,
            "_model_module": "@jupyter-widgets/base",
            "top": null,
            "grid_column": null,
            "overflow_y": null,
            "overflow_x": null,
            "grid_auto_flow": null,
            "grid_area": null,
            "grid_template_columns": null,
            "flex": null,
            "_model_name": "LayoutModel",
            "justify_items": null,
            "grid_row": null,
            "max_height": null,
            "align_content": null,
            "visibility": null,
            "align_self": null,
            "height": null,
            "min_height": null,
            "padding": null,
            "grid_auto_rows": null,
            "grid_gap": null,
            "max_width": null,
            "order": null,
            "_view_module_version": "1.2.0",
            "grid_template_areas": null,
            "object_position": null,
            "object_fit": null,
            "grid_auto_columns": null,
            "margin": null,
            "display": null,
            "left": null
          }
        },
        "94202e175f4d4e41955e6060b9960b06": {
          "model_module": "@jupyter-widgets/controls",
          "model_name": "DescriptionStyleModel",
          "state": {
            "_view_name": "StyleView",
            "_model_name": "DescriptionStyleModel",
            "description_width": "",
            "_view_module": "@jupyter-widgets/base",
            "_model_module_version": "1.5.0",
            "_view_count": null,
            "_view_module_version": "1.2.0",
            "_model_module": "@jupyter-widgets/controls"
          }
        },
        "a3cd83944a384756b9cc2200360092aa": {
          "model_module": "@jupyter-widgets/base",
          "model_name": "LayoutModel",
          "state": {
            "_view_name": "LayoutView",
            "grid_template_rows": null,
            "right": null,
            "justify_content": null,
            "_view_module": "@jupyter-widgets/base",
            "overflow": null,
            "_model_module_version": "1.2.0",
            "_view_count": null,
            "flex_flow": null,
            "width": null,
            "min_width": null,
            "border": null,
            "align_items": null,
            "bottom": null,
            "_model_module": "@jupyter-widgets/base",
            "top": null,
            "grid_column": null,
            "overflow_y": null,
            "overflow_x": null,
            "grid_auto_flow": null,
            "grid_area": null,
            "grid_template_columns": null,
            "flex": null,
            "_model_name": "LayoutModel",
            "justify_items": null,
            "grid_row": null,
            "max_height": null,
            "align_content": null,
            "visibility": null,
            "align_self": null,
            "height": null,
            "min_height": null,
            "padding": null,
            "grid_auto_rows": null,
            "grid_gap": null,
            "max_width": null,
            "order": null,
            "_view_module_version": "1.2.0",
            "grid_template_areas": null,
            "object_position": null,
            "object_fit": null,
            "grid_auto_columns": null,
            "margin": null,
            "display": null,
            "left": null
          }
        },
        "5ebb8d17299145afa203dd52e325553b": {
          "model_module": "@jupyter-widgets/controls",
          "model_name": "HBoxModel",
          "state": {
            "_view_name": "HBoxView",
            "_dom_classes": [],
            "_model_name": "HBoxModel",
            "_view_module": "@jupyter-widgets/controls",
            "_model_module_version": "1.5.0",
            "_view_count": null,
            "_view_module_version": "1.5.0",
            "box_style": "",
            "layout": "IPY_MODEL_587615e96a4e4aaeaa3bf221d38bd8c8",
            "_model_module": "@jupyter-widgets/controls",
            "children": [
              "IPY_MODEL_80aacda6108049568758a47cc77fb538",
              "IPY_MODEL_fb6a81288e694ede8db59c57ae94f1d6"
            ]
          }
        },
        "587615e96a4e4aaeaa3bf221d38bd8c8": {
          "model_module": "@jupyter-widgets/base",
          "model_name": "LayoutModel",
          "state": {
            "_view_name": "LayoutView",
            "grid_template_rows": null,
            "right": null,
            "justify_content": null,
            "_view_module": "@jupyter-widgets/base",
            "overflow": null,
            "_model_module_version": "1.2.0",
            "_view_count": null,
            "flex_flow": null,
            "width": null,
            "min_width": null,
            "border": null,
            "align_items": null,
            "bottom": null,
            "_model_module": "@jupyter-widgets/base",
            "top": null,
            "grid_column": null,
            "overflow_y": null,
            "overflow_x": null,
            "grid_auto_flow": null,
            "grid_area": null,
            "grid_template_columns": null,
            "flex": null,
            "_model_name": "LayoutModel",
            "justify_items": null,
            "grid_row": null,
            "max_height": null,
            "align_content": null,
            "visibility": null,
            "align_self": null,
            "height": null,
            "min_height": null,
            "padding": null,
            "grid_auto_rows": null,
            "grid_gap": null,
            "max_width": null,
            "order": null,
            "_view_module_version": "1.2.0",
            "grid_template_areas": null,
            "object_position": null,
            "object_fit": null,
            "grid_auto_columns": null,
            "margin": null,
            "display": null,
            "left": null
          }
        },
        "80aacda6108049568758a47cc77fb538": {
          "model_module": "@jupyter-widgets/controls",
          "model_name": "FloatProgressModel",
          "state": {
            "_view_name": "ProgressView",
            "style": "IPY_MODEL_35b7ec00f77e48ffbac08d4efb168b88",
            "_dom_classes": [],
            "description": "3 2916 l=1.7991 l1=0.65752 l2=0.48401: 100%",
            "_model_name": "FloatProgressModel",
            "bar_style": "success",
            "max": 2917,
            "_view_module": "@jupyter-widgets/controls",
            "_model_module_version": "1.5.0",
            "value": 2917,
            "_view_count": null,
            "_view_module_version": "1.5.0",
            "orientation": "horizontal",
            "min": 0,
            "description_tooltip": null,
            "_model_module": "@jupyter-widgets/controls",
            "layout": "IPY_MODEL_440c78d97e2e406980a398adc72705ed"
          }
        },
        "fb6a81288e694ede8db59c57ae94f1d6": {
          "model_module": "@jupyter-widgets/controls",
          "model_name": "HTMLModel",
          "state": {
            "_view_name": "HTMLView",
            "style": "IPY_MODEL_22f9f55c13a84456b7a501d89f1061f3",
            "_dom_classes": [],
            "description": "",
            "_model_name": "HTMLModel",
            "placeholder": "​",
            "_view_module": "@jupyter-widgets/controls",
            "_model_module_version": "1.5.0",
            "value": " 2917/2917 [54:50&lt;00:00,  1.13s/it]",
            "_view_count": null,
            "_view_module_version": "1.5.0",
            "description_tooltip": null,
            "_model_module": "@jupyter-widgets/controls",
            "layout": "IPY_MODEL_c1457a4c57d9478a83bac718cfa4e21b"
          }
        },
        "35b7ec00f77e48ffbac08d4efb168b88": {
          "model_module": "@jupyter-widgets/controls",
          "model_name": "ProgressStyleModel",
          "state": {
            "_view_name": "StyleView",
            "_model_name": "ProgressStyleModel",
            "description_width": "initial",
            "_view_module": "@jupyter-widgets/base",
            "_model_module_version": "1.5.0",
            "_view_count": null,
            "_view_module_version": "1.2.0",
            "bar_color": null,
            "_model_module": "@jupyter-widgets/controls"
          }
        },
        "440c78d97e2e406980a398adc72705ed": {
          "model_module": "@jupyter-widgets/base",
          "model_name": "LayoutModel",
          "state": {
            "_view_name": "LayoutView",
            "grid_template_rows": null,
            "right": null,
            "justify_content": null,
            "_view_module": "@jupyter-widgets/base",
            "overflow": null,
            "_model_module_version": "1.2.0",
            "_view_count": null,
            "flex_flow": null,
            "width": null,
            "min_width": null,
            "border": null,
            "align_items": null,
            "bottom": null,
            "_model_module": "@jupyter-widgets/base",
            "top": null,
            "grid_column": null,
            "overflow_y": null,
            "overflow_x": null,
            "grid_auto_flow": null,
            "grid_area": null,
            "grid_template_columns": null,
            "flex": null,
            "_model_name": "LayoutModel",
            "justify_items": null,
            "grid_row": null,
            "max_height": null,
            "align_content": null,
            "visibility": null,
            "align_self": null,
            "height": null,
            "min_height": null,
            "padding": null,
            "grid_auto_rows": null,
            "grid_gap": null,
            "max_width": null,
            "order": null,
            "_view_module_version": "1.2.0",
            "grid_template_areas": null,
            "object_position": null,
            "object_fit": null,
            "grid_auto_columns": null,
            "margin": null,
            "display": null,
            "left": null
          }
        },
        "22f9f55c13a84456b7a501d89f1061f3": {
          "model_module": "@jupyter-widgets/controls",
          "model_name": "DescriptionStyleModel",
          "state": {
            "_view_name": "StyleView",
            "_model_name": "DescriptionStyleModel",
            "description_width": "",
            "_view_module": "@jupyter-widgets/base",
            "_model_module_version": "1.5.0",
            "_view_count": null,
            "_view_module_version": "1.2.0",
            "_model_module": "@jupyter-widgets/controls"
          }
        },
        "c1457a4c57d9478a83bac718cfa4e21b": {
          "model_module": "@jupyter-widgets/base",
          "model_name": "LayoutModel",
          "state": {
            "_view_name": "LayoutView",
            "grid_template_rows": null,
            "right": null,
            "justify_content": null,
            "_view_module": "@jupyter-widgets/base",
            "overflow": null,
            "_model_module_version": "1.2.0",
            "_view_count": null,
            "flex_flow": null,
            "width": null,
            "min_width": null,
            "border": null,
            "align_items": null,
            "bottom": null,
            "_model_module": "@jupyter-widgets/base",
            "top": null,
            "grid_column": null,
            "overflow_y": null,
            "overflow_x": null,
            "grid_auto_flow": null,
            "grid_area": null,
            "grid_template_columns": null,
            "flex": null,
            "_model_name": "LayoutModel",
            "justify_items": null,
            "grid_row": null,
            "max_height": null,
            "align_content": null,
            "visibility": null,
            "align_self": null,
            "height": null,
            "min_height": null,
            "padding": null,
            "grid_auto_rows": null,
            "grid_gap": null,
            "max_width": null,
            "order": null,
            "_view_module_version": "1.2.0",
            "grid_template_areas": null,
            "object_position": null,
            "object_fit": null,
            "grid_auto_columns": null,
            "margin": null,
            "display": null,
            "left": null
          }
        },
        "dddd95bbd03e4d07955ff52bba158b9c": {
          "model_module": "@jupyter-widgets/controls",
          "model_name": "HBoxModel",
          "state": {
            "_view_name": "HBoxView",
            "_dom_classes": [],
            "_model_name": "HBoxModel",
            "_view_module": "@jupyter-widgets/controls",
            "_model_module_version": "1.5.0",
            "_view_count": null,
            "_view_module_version": "1.5.0",
            "box_style": "",
            "layout": "IPY_MODEL_23d21e75885b4ba1b4e221c535cabc9e",
            "_model_module": "@jupyter-widgets/controls",
            "children": [
              "IPY_MODEL_7efc77ce61764a2fa709b9fa2ac8bad9",
              "IPY_MODEL_a00fa152b79742db856e85fe2101d360"
            ]
          }
        },
        "23d21e75885b4ba1b4e221c535cabc9e": {
          "model_module": "@jupyter-widgets/base",
          "model_name": "LayoutModel",
          "state": {
            "_view_name": "LayoutView",
            "grid_template_rows": null,
            "right": null,
            "justify_content": null,
            "_view_module": "@jupyter-widgets/base",
            "overflow": null,
            "_model_module_version": "1.2.0",
            "_view_count": null,
            "flex_flow": null,
            "width": null,
            "min_width": null,
            "border": null,
            "align_items": null,
            "bottom": null,
            "_model_module": "@jupyter-widgets/base",
            "top": null,
            "grid_column": null,
            "overflow_y": null,
            "overflow_x": null,
            "grid_auto_flow": null,
            "grid_area": null,
            "grid_template_columns": null,
            "flex": null,
            "_model_name": "LayoutModel",
            "justify_items": null,
            "grid_row": null,
            "max_height": null,
            "align_content": null,
            "visibility": null,
            "align_self": null,
            "height": null,
            "min_height": null,
            "padding": null,
            "grid_auto_rows": null,
            "grid_gap": null,
            "max_width": null,
            "order": null,
            "_view_module_version": "1.2.0",
            "grid_template_areas": null,
            "object_position": null,
            "object_fit": null,
            "grid_auto_columns": null,
            "margin": null,
            "display": null,
            "left": null
          }
        },
        "7efc77ce61764a2fa709b9fa2ac8bad9": {
          "model_module": "@jupyter-widgets/controls",
          "model_name": "FloatProgressModel",
          "state": {
            "_view_name": "ProgressView",
            "style": "IPY_MODEL_26f4ec8d532e4f84b4a34acfd1bf2cff",
            "_dom_classes": [],
            "description": "4 2916 l=1.8020 l1=0.65929 l2=0.48341: 100%",
            "_model_name": "FloatProgressModel",
            "bar_style": "success",
            "max": 2917,
            "_view_module": "@jupyter-widgets/controls",
            "_model_module_version": "1.5.0",
            "value": 2917,
            "_view_count": null,
            "_view_module_version": "1.5.0",
            "orientation": "horizontal",
            "min": 0,
            "description_tooltip": null,
            "_model_module": "@jupyter-widgets/controls",
            "layout": "IPY_MODEL_42afccc1359b4ebeb3f9f9f149540a75"
          }
        },
        "a00fa152b79742db856e85fe2101d360": {
          "model_module": "@jupyter-widgets/controls",
          "model_name": "HTMLModel",
          "state": {
            "_view_name": "HTMLView",
            "style": "IPY_MODEL_76250a80873b4733bf1f0210bc642088",
            "_dom_classes": [],
            "description": "",
            "_model_name": "HTMLModel",
            "placeholder": "​",
            "_view_module": "@jupyter-widgets/controls",
            "_model_module_version": "1.5.0",
            "value": " 2917/2917 [55:15&lt;00:00,  1.14s/it]",
            "_view_count": null,
            "_view_module_version": "1.5.0",
            "description_tooltip": null,
            "_model_module": "@jupyter-widgets/controls",
            "layout": "IPY_MODEL_9f146dd4ae1447209cf7d01442ae31ce"
          }
        },
        "26f4ec8d532e4f84b4a34acfd1bf2cff": {
          "model_module": "@jupyter-widgets/controls",
          "model_name": "ProgressStyleModel",
          "state": {
            "_view_name": "StyleView",
            "_model_name": "ProgressStyleModel",
            "description_width": "initial",
            "_view_module": "@jupyter-widgets/base",
            "_model_module_version": "1.5.0",
            "_view_count": null,
            "_view_module_version": "1.2.0",
            "bar_color": null,
            "_model_module": "@jupyter-widgets/controls"
          }
        },
        "42afccc1359b4ebeb3f9f9f149540a75": {
          "model_module": "@jupyter-widgets/base",
          "model_name": "LayoutModel",
          "state": {
            "_view_name": "LayoutView",
            "grid_template_rows": null,
            "right": null,
            "justify_content": null,
            "_view_module": "@jupyter-widgets/base",
            "overflow": null,
            "_model_module_version": "1.2.0",
            "_view_count": null,
            "flex_flow": null,
            "width": null,
            "min_width": null,
            "border": null,
            "align_items": null,
            "bottom": null,
            "_model_module": "@jupyter-widgets/base",
            "top": null,
            "grid_column": null,
            "overflow_y": null,
            "overflow_x": null,
            "grid_auto_flow": null,
            "grid_area": null,
            "grid_template_columns": null,
            "flex": null,
            "_model_name": "LayoutModel",
            "justify_items": null,
            "grid_row": null,
            "max_height": null,
            "align_content": null,
            "visibility": null,
            "align_self": null,
            "height": null,
            "min_height": null,
            "padding": null,
            "grid_auto_rows": null,
            "grid_gap": null,
            "max_width": null,
            "order": null,
            "_view_module_version": "1.2.0",
            "grid_template_areas": null,
            "object_position": null,
            "object_fit": null,
            "grid_auto_columns": null,
            "margin": null,
            "display": null,
            "left": null
          }
        },
        "76250a80873b4733bf1f0210bc642088": {
          "model_module": "@jupyter-widgets/controls",
          "model_name": "DescriptionStyleModel",
          "state": {
            "_view_name": "StyleView",
            "_model_name": "DescriptionStyleModel",
            "description_width": "",
            "_view_module": "@jupyter-widgets/base",
            "_model_module_version": "1.5.0",
            "_view_count": null,
            "_view_module_version": "1.2.0",
            "_model_module": "@jupyter-widgets/controls"
          }
        },
        "9f146dd4ae1447209cf7d01442ae31ce": {
          "model_module": "@jupyter-widgets/base",
          "model_name": "LayoutModel",
          "state": {
            "_view_name": "LayoutView",
            "grid_template_rows": null,
            "right": null,
            "justify_content": null,
            "_view_module": "@jupyter-widgets/base",
            "overflow": null,
            "_model_module_version": "1.2.0",
            "_view_count": null,
            "flex_flow": null,
            "width": null,
            "min_width": null,
            "border": null,
            "align_items": null,
            "bottom": null,
            "_model_module": "@jupyter-widgets/base",
            "top": null,
            "grid_column": null,
            "overflow_y": null,
            "overflow_x": null,
            "grid_auto_flow": null,
            "grid_area": null,
            "grid_template_columns": null,
            "flex": null,
            "_model_name": "LayoutModel",
            "justify_items": null,
            "grid_row": null,
            "max_height": null,
            "align_content": null,
            "visibility": null,
            "align_self": null,
            "height": null,
            "min_height": null,
            "padding": null,
            "grid_auto_rows": null,
            "grid_gap": null,
            "max_width": null,
            "order": null,
            "_view_module_version": "1.2.0",
            "grid_template_areas": null,
            "object_position": null,
            "object_fit": null,
            "grid_auto_columns": null,
            "margin": null,
            "display": null,
            "left": null
          }
        },
        "5a109b8c0306423e83d080a128551665": {
          "model_module": "@jupyter-widgets/controls",
          "model_name": "HBoxModel",
          "state": {
            "_view_name": "HBoxView",
            "_dom_classes": [],
            "_model_name": "HBoxModel",
            "_view_module": "@jupyter-widgets/controls",
            "_model_module_version": "1.5.0",
            "_view_count": null,
            "_view_module_version": "1.5.0",
            "box_style": "",
            "layout": "IPY_MODEL_1feef2688365431eb119b22948c231a9",
            "_model_module": "@jupyter-widgets/controls",
            "children": [
              "IPY_MODEL_ed5fdf0b0cd942ca92ea523873dfef3e",
              "IPY_MODEL_e2870c6787e9402a97d8c5c3ebf3cfad"
            ]
          }
        },
        "1feef2688365431eb119b22948c231a9": {
          "model_module": "@jupyter-widgets/base",
          "model_name": "LayoutModel",
          "state": {
            "_view_name": "LayoutView",
            "grid_template_rows": null,
            "right": null,
            "justify_content": null,
            "_view_module": "@jupyter-widgets/base",
            "overflow": null,
            "_model_module_version": "1.2.0",
            "_view_count": null,
            "flex_flow": null,
            "width": null,
            "min_width": null,
            "border": null,
            "align_items": null,
            "bottom": null,
            "_model_module": "@jupyter-widgets/base",
            "top": null,
            "grid_column": null,
            "overflow_y": null,
            "overflow_x": null,
            "grid_auto_flow": null,
            "grid_area": null,
            "grid_template_columns": null,
            "flex": null,
            "_model_name": "LayoutModel",
            "justify_items": null,
            "grid_row": null,
            "max_height": null,
            "align_content": null,
            "visibility": null,
            "align_self": null,
            "height": null,
            "min_height": null,
            "padding": null,
            "grid_auto_rows": null,
            "grid_gap": null,
            "max_width": null,
            "order": null,
            "_view_module_version": "1.2.0",
            "grid_template_areas": null,
            "object_position": null,
            "object_fit": null,
            "grid_auto_columns": null,
            "margin": null,
            "display": null,
            "left": null
          }
        },
        "ed5fdf0b0cd942ca92ea523873dfef3e": {
          "model_module": "@jupyter-widgets/controls",
          "model_name": "FloatProgressModel",
          "state": {
            "_view_name": "ProgressView",
            "style": "IPY_MODEL_b0a3f5442c054eb49e23705d80aa1e48",
            "_dom_classes": [],
            "description": "  0%",
            "_model_name": "FloatProgressModel",
            "bar_style": "danger",
            "max": 2917,
            "_view_module": "@jupyter-widgets/controls",
            "_model_module_version": "1.5.0",
            "value": 0,
            "_view_count": null,
            "_view_module_version": "1.5.0",
            "orientation": "horizontal",
            "min": 0,
            "description_tooltip": null,
            "_model_module": "@jupyter-widgets/controls",
            "layout": "IPY_MODEL_fa8f4e6a6a904857b0fbadcf51ecf8c5"
          }
        },
        "e2870c6787e9402a97d8c5c3ebf3cfad": {
          "model_module": "@jupyter-widgets/controls",
          "model_name": "HTMLModel",
          "state": {
            "_view_name": "HTMLView",
            "style": "IPY_MODEL_331b794488b74b89b42599d362f5d4ae",
            "_dom_classes": [],
            "description": "",
            "_model_name": "HTMLModel",
            "placeholder": "​",
            "_view_module": "@jupyter-widgets/controls",
            "_model_module_version": "1.5.0",
            "value": " 0/2917 [00:02&lt;?, ?it/s]",
            "_view_count": null,
            "_view_module_version": "1.5.0",
            "description_tooltip": null,
            "_model_module": "@jupyter-widgets/controls",
            "layout": "IPY_MODEL_5a13697026fd4b368aea8970a2795a6e"
          }
        },
        "b0a3f5442c054eb49e23705d80aa1e48": {
          "model_module": "@jupyter-widgets/controls",
          "model_name": "ProgressStyleModel",
          "state": {
            "_view_name": "StyleView",
            "_model_name": "ProgressStyleModel",
            "description_width": "initial",
            "_view_module": "@jupyter-widgets/base",
            "_model_module_version": "1.5.0",
            "_view_count": null,
            "_view_module_version": "1.2.0",
            "bar_color": null,
            "_model_module": "@jupyter-widgets/controls"
          }
        },
        "fa8f4e6a6a904857b0fbadcf51ecf8c5": {
          "model_module": "@jupyter-widgets/base",
          "model_name": "LayoutModel",
          "state": {
            "_view_name": "LayoutView",
            "grid_template_rows": null,
            "right": null,
            "justify_content": null,
            "_view_module": "@jupyter-widgets/base",
            "overflow": null,
            "_model_module_version": "1.2.0",
            "_view_count": null,
            "flex_flow": null,
            "width": null,
            "min_width": null,
            "border": null,
            "align_items": null,
            "bottom": null,
            "_model_module": "@jupyter-widgets/base",
            "top": null,
            "grid_column": null,
            "overflow_y": null,
            "overflow_x": null,
            "grid_auto_flow": null,
            "grid_area": null,
            "grid_template_columns": null,
            "flex": null,
            "_model_name": "LayoutModel",
            "justify_items": null,
            "grid_row": null,
            "max_height": null,
            "align_content": null,
            "visibility": null,
            "align_self": null,
            "height": null,
            "min_height": null,
            "padding": null,
            "grid_auto_rows": null,
            "grid_gap": null,
            "max_width": null,
            "order": null,
            "_view_module_version": "1.2.0",
            "grid_template_areas": null,
            "object_position": null,
            "object_fit": null,
            "grid_auto_columns": null,
            "margin": null,
            "display": null,
            "left": null
          }
        },
        "331b794488b74b89b42599d362f5d4ae": {
          "model_module": "@jupyter-widgets/controls",
          "model_name": "DescriptionStyleModel",
          "state": {
            "_view_name": "StyleView",
            "_model_name": "DescriptionStyleModel",
            "description_width": "",
            "_view_module": "@jupyter-widgets/base",
            "_model_module_version": "1.5.0",
            "_view_count": null,
            "_view_module_version": "1.2.0",
            "_model_module": "@jupyter-widgets/controls"
          }
        },
        "5a13697026fd4b368aea8970a2795a6e": {
          "model_module": "@jupyter-widgets/base",
          "model_name": "LayoutModel",
          "state": {
            "_view_name": "LayoutView",
            "grid_template_rows": null,
            "right": null,
            "justify_content": null,
            "_view_module": "@jupyter-widgets/base",
            "overflow": null,
            "_model_module_version": "1.2.0",
            "_view_count": null,
            "flex_flow": null,
            "width": null,
            "min_width": null,
            "border": null,
            "align_items": null,
            "bottom": null,
            "_model_module": "@jupyter-widgets/base",
            "top": null,
            "grid_column": null,
            "overflow_y": null,
            "overflow_x": null,
            "grid_auto_flow": null,
            "grid_area": null,
            "grid_template_columns": null,
            "flex": null,
            "_model_name": "LayoutModel",
            "justify_items": null,
            "grid_row": null,
            "max_height": null,
            "align_content": null,
            "visibility": null,
            "align_self": null,
            "height": null,
            "min_height": null,
            "padding": null,
            "grid_auto_rows": null,
            "grid_gap": null,
            "max_width": null,
            "order": null,
            "_view_module_version": "1.2.0",
            "grid_template_areas": null,
            "object_position": null,
            "object_fit": null,
            "grid_auto_columns": null,
            "margin": null,
            "display": null,
            "left": null
          }
        }
      }
    }
  },
  "cells": [
    {
      "cell_type": "code",
      "metadata": {
        "id": "apBxYAZbXG0F",
        "colab_type": "code",
        "outputId": "c3e84078-1c87-4f16-8786-f89aa825358a",
        "colab": {
          "base_uri": "https://localhost:8080/",
          "height": 312
        }
      },
      "source": [
        "! nvidia-smi"
      ],
      "execution_count": 0,
      "outputs": [
        {
          "output_type": "stream",
          "text": [
            "Sat May 23 16:57:03 2020       \n",
            "+-----------------------------------------------------------------------------+\n",
            "| NVIDIA-SMI 440.82       Driver Version: 418.67       CUDA Version: 10.1     |\n",
            "|-------------------------------+----------------------+----------------------+\n",
            "| GPU  Name        Persistence-M| Bus-Id        Disp.A | Volatile Uncorr. ECC |\n",
            "| Fan  Temp  Perf  Pwr:Usage/Cap|         Memory-Usage | GPU-Util  Compute M. |\n",
            "|===============================+======================+======================|\n",
            "|   0  Tesla K80           Off  | 00000000:00:04.0 Off |                    0 |\n",
            "| N/A   34C    P8    26W / 149W |      0MiB / 11441MiB |      0%      Default |\n",
            "+-------------------------------+----------------------+----------------------+\n",
            "                                                                               \n",
            "+-----------------------------------------------------------------------------+\n",
            "| Processes:                                                       GPU Memory |\n",
            "|  GPU       PID   Type   Process name                             Usage      |\n",
            "|=============================================================================|\n",
            "|  No running processes found                                                 |\n",
            "+-----------------------------------------------------------------------------+\n"
          ],
          "name": "stdout"
        }
      ]
    },
    {
      "cell_type": "code",
      "metadata": {
        "id": "BsX-oaLbXPrG",
        "colab_type": "code",
        "outputId": "b329ab2b-f643-445e-bf38-79d9db053230",
        "colab": {
          "base_uri": "https://localhost:8080/",
          "height": 124
        }
      },
      "source": [
        "from google.colab import drive\n",
        "drive.mount('/content/gdrive')"
      ],
      "execution_count": 0,
      "outputs": [
        {
          "output_type": "stream",
          "text": [
            "Go to this URL in a browser: https://accounts.google.com/o/oauth2/auth?client_id=947318989803-6bn6qk8qdgf4n4g3pfee6491hc0brc4i.apps.googleusercontent.com&redirect_uri=urn%3aietf%3awg%3aoauth%3a2.0%3aoob&response_type=code&scope=email%20https%3a%2f%2fwww.googleapis.com%2fauth%2fdocs.test%20https%3a%2f%2fwww.googleapis.com%2fauth%2fdrive%20https%3a%2f%2fwww.googleapis.com%2fauth%2fdrive.photos.readonly%20https%3a%2f%2fwww.googleapis.com%2fauth%2fpeopleapi.readonly\n",
            "\n",
            "Enter your authorization code:\n",
            "··········\n",
            "Mounted at /content/gdrive\n"
          ],
          "name": "stdout"
        }
      ]
    },
    {
      "cell_type": "code",
      "metadata": {
        "id": "ymD5LhUiXSlu",
        "colab_type": "code",
        "outputId": "0c270dcf-37e8-40fe-b793-bd73e777fc0d",
        "colab": {
          "base_uri": "https://localhost:8080/",
          "height": 1000
        }
      },
      "source": [
        "import warnings\n",
        "warnings.filterwarnings('ignore')\n",
        "import zipfile\n",
        "from zipfile import ZipFile\n",
        "from pathlib import Path\n",
        "from time import time\n",
        "from datetime import datetime \n",
        "from __future__ import print_function\n",
        "import torch\n",
        "import torchvision\n",
        "from torchvision import transforms\n",
        "from torch.utils.data import DataLoader, Dataset\n",
        "import torch.nn as nn\n",
        "import torch.nn.functional as F\n",
        "import torch.optim as optim\n",
        "import numpy as np\n",
        "from tqdm import tqdm\n",
        "from PIL import Image\n",
        "from tqdm import tqdm_notebook\n",
        "import matplotlib.pyplot as plt\n",
        "import cv2\n",
        "import pkgutil\n",
        "import importlib\n",
        "import os\n",
        "%matplotlib inline\n",
        "%config IPCompleter.greedy=True\n",
        "%reload_ext autoreload\n",
        "import seaborn as sns\n",
        "import io\n",
        "import skimage\n",
        "from skimage.transform import resize\n",
        "from itertools import groupby\n",
        "from tqdm.auto import tqdm\n",
        "import gc\n",
        "sns.set()\n",
        "\n",
        "# install \"apex\" model for mixed precision training if required.. this is needed for LRFinder\n",
        "if pkgutil.find_loader(\"apex\") is None:\n",
        "   print(\"****apex module does not exist..hence installing*****\")\n",
        "   !pip install -U git+https://www.github.com/NVIDIA/apex --no-cache-dir\n",
        "\n",
        "import albumentations\n",
        "print(albumentations.__version__) # check version\n",
        "\n",
        "# This is to install and use albumentations latest package v0.4.5\n",
        "album_version_needed = \"0.4.5\"\n",
        "if albumentations.__version__ != album_version_needed:\n",
        "  !pip install albumentations==0.4.5   # 0.4.5 is the latest albumentation version\n",
        "print('Pytorch version:', torch.__version__)\n",
        "\n",
        "!pip install kornia\n",
        "from kornia.losses import SSIM\n",
        "!git clone https://github.com/Po-Hsun-Su/pytorch-ssim"
      ],
      "execution_count": 0,
      "outputs": [
        {
          "output_type": "stream",
          "text": [
            "****apex module does not exist..hence installing*****\n",
            "Collecting git+https://www.github.com/NVIDIA/apex\n",
            "  Cloning https://www.github.com/NVIDIA/apex to /tmp/pip-req-build-tln6kknw\n",
            "  Running command git clone -q https://www.github.com/NVIDIA/apex /tmp/pip-req-build-tln6kknw\n",
            "  Running command git submodule update --init --recursive -q\n",
            "Building wheels for collected packages: apex\n",
            "  Building wheel for apex (setup.py) ... \u001b[?25l\u001b[?25hdone\n",
            "  Created wheel for apex: filename=apex-0.1-cp36-none-any.whl size=177472 sha256=a469838f0aff9718f47da1ee4915e0949d2b189d4d0aad754517cd9422a7bcca\n",
            "  Stored in directory: /tmp/pip-ephem-wheel-cache-fsmm_9t0/wheels/08/3e/36/a75a9914e497fe42598f9dbe67496b2b300a8851f4d396a285\n",
            "Successfully built apex\n",
            "Installing collected packages: apex\n",
            "Successfully installed apex-0.1\n",
            "0.1.12\n",
            "Collecting albumentations==0.4.5\n",
            "\u001b[?25l  Downloading https://files.pythonhosted.org/packages/8d/40/a343ecacc7e22fe52ab9a16b84dc6165ba05ee17e3729adeb3e2ffa2b37b/albumentations-0.4.5.tar.gz (116kB)\n",
            "\u001b[K     |████████████████████████████████| 122kB 2.8MB/s \n",
            "\u001b[?25hRequirement already satisfied: numpy>=1.11.1 in /usr/local/lib/python3.6/dist-packages (from albumentations==0.4.5) (1.18.4)\n",
            "Requirement already satisfied: scipy in /usr/local/lib/python3.6/dist-packages (from albumentations==0.4.5) (1.4.1)\n",
            "Collecting imgaug<0.2.7,>=0.2.5\n",
            "\u001b[?25l  Downloading https://files.pythonhosted.org/packages/ad/2e/748dbb7bb52ec8667098bae9b585f448569ae520031932687761165419a2/imgaug-0.2.6.tar.gz (631kB)\n",
            "\u001b[K     |████████████████████████████████| 634kB 6.9MB/s \n",
            "\u001b[?25hRequirement already satisfied: PyYAML in /usr/local/lib/python3.6/dist-packages (from albumentations==0.4.5) (3.13)\n",
            "Requirement already satisfied: opencv-python>=4.1.1 in /usr/local/lib/python3.6/dist-packages (from albumentations==0.4.5) (4.1.2.30)\n",
            "Requirement already satisfied: scikit-image>=0.11.0 in /usr/local/lib/python3.6/dist-packages (from imgaug<0.2.7,>=0.2.5->albumentations==0.4.5) (0.16.2)\n",
            "Requirement already satisfied: six in /usr/local/lib/python3.6/dist-packages (from imgaug<0.2.7,>=0.2.5->albumentations==0.4.5) (1.12.0)\n",
            "Requirement already satisfied: imageio>=2.3.0 in /usr/local/lib/python3.6/dist-packages (from scikit-image>=0.11.0->imgaug<0.2.7,>=0.2.5->albumentations==0.4.5) (2.4.1)\n",
            "Requirement already satisfied: networkx>=2.0 in /usr/local/lib/python3.6/dist-packages (from scikit-image>=0.11.0->imgaug<0.2.7,>=0.2.5->albumentations==0.4.5) (2.4)\n",
            "Requirement already satisfied: PyWavelets>=0.4.0 in /usr/local/lib/python3.6/dist-packages (from scikit-image>=0.11.0->imgaug<0.2.7,>=0.2.5->albumentations==0.4.5) (1.1.1)\n",
            "Requirement already satisfied: matplotlib!=3.0.0,>=2.0.0 in /usr/local/lib/python3.6/dist-packages (from scikit-image>=0.11.0->imgaug<0.2.7,>=0.2.5->albumentations==0.4.5) (3.2.1)\n",
            "Requirement already satisfied: pillow>=4.3.0 in /usr/local/lib/python3.6/dist-packages (from scikit-image>=0.11.0->imgaug<0.2.7,>=0.2.5->albumentations==0.4.5) (7.0.0)\n",
            "Requirement already satisfied: decorator>=4.3.0 in /usr/local/lib/python3.6/dist-packages (from networkx>=2.0->scikit-image>=0.11.0->imgaug<0.2.7,>=0.2.5->albumentations==0.4.5) (4.4.2)\n",
            "Requirement already satisfied: pyparsing!=2.0.4,!=2.1.2,!=2.1.6,>=2.0.1 in /usr/local/lib/python3.6/dist-packages (from matplotlib!=3.0.0,>=2.0.0->scikit-image>=0.11.0->imgaug<0.2.7,>=0.2.5->albumentations==0.4.5) (2.4.7)\n",
            "Requirement already satisfied: kiwisolver>=1.0.1 in /usr/local/lib/python3.6/dist-packages (from matplotlib!=3.0.0,>=2.0.0->scikit-image>=0.11.0->imgaug<0.2.7,>=0.2.5->albumentations==0.4.5) (1.2.0)\n",
            "Requirement already satisfied: python-dateutil>=2.1 in /usr/local/lib/python3.6/dist-packages (from matplotlib!=3.0.0,>=2.0.0->scikit-image>=0.11.0->imgaug<0.2.7,>=0.2.5->albumentations==0.4.5) (2.8.1)\n",
            "Requirement already satisfied: cycler>=0.10 in /usr/local/lib/python3.6/dist-packages (from matplotlib!=3.0.0,>=2.0.0->scikit-image>=0.11.0->imgaug<0.2.7,>=0.2.5->albumentations==0.4.5) (0.10.0)\n",
            "Building wheels for collected packages: albumentations, imgaug\n",
            "  Building wheel for albumentations (setup.py) ... \u001b[?25l\u001b[?25hdone\n",
            "  Created wheel for albumentations: filename=albumentations-0.4.5-cp36-none-any.whl size=64378 sha256=e805215b8f50ee77c8e2f99d34f259648252be85e32eefc539a62b1aeb87212f\n",
            "  Stored in directory: /root/.cache/pip/wheels/f0/a0/61/e50f93165a5ec7e7f5d65064e513239505bc4c06d2289557d3\n",
            "  Building wheel for imgaug (setup.py) ... \u001b[?25l\u001b[?25hdone\n",
            "  Created wheel for imgaug: filename=imgaug-0.2.6-cp36-none-any.whl size=654020 sha256=d8c0db728aabe51f29396ea8e1c63ec999efad0277e6bdfb5929f7731ff2ff96\n",
            "  Stored in directory: /root/.cache/pip/wheels/97/ec/48/0d25896c417b715af6236dbcef8f0bed136a1a5e52972fc6d0\n",
            "Successfully built albumentations imgaug\n",
            "Installing collected packages: imgaug, albumentations\n",
            "  Found existing installation: imgaug 0.2.9\n",
            "    Uninstalling imgaug-0.2.9:\n",
            "      Successfully uninstalled imgaug-0.2.9\n",
            "  Found existing installation: albumentations 0.1.12\n",
            "    Uninstalling albumentations-0.1.12:\n",
            "      Successfully uninstalled albumentations-0.1.12\n",
            "Successfully installed albumentations-0.4.5 imgaug-0.2.6\n"
          ],
          "name": "stdout"
        },
        {
          "output_type": "display_data",
          "data": {
            "application/vnd.colab-display-data+json": {
              "pip_warning": {
                "packages": [
                  "albumentations",
                  "imgaug"
                ]
              }
            }
          },
          "metadata": {
            "tags": []
          }
        },
        {
          "output_type": "stream",
          "text": [
            "Pytorch version: 1.5.0+cu101\n",
            "Collecting kornia\n",
            "\u001b[?25l  Downloading https://files.pythonhosted.org/packages/c2/60/f0c174c4a2a40b10b04b37c43f5afee3701cc145b48441a2dc5cf9286c3c/kornia-0.3.1-py2.py3-none-any.whl (158kB)\n",
            "\u001b[K     |████████████████████████████████| 163kB 2.6MB/s \n",
            "\u001b[?25hRequirement already satisfied: numpy in /usr/local/lib/python3.6/dist-packages (from kornia) (1.18.4)\n",
            "Requirement already satisfied: torch==1.5.0 in /usr/local/lib/python3.6/dist-packages (from kornia) (1.5.0+cu101)\n",
            "Requirement already satisfied: future in /usr/local/lib/python3.6/dist-packages (from torch==1.5.0->kornia) (0.16.0)\n",
            "Installing collected packages: kornia\n",
            "Successfully installed kornia-0.3.1\n",
            "Cloning into 'pytorch-ssim'...\n",
            "remote: Enumerating objects: 60, done.\u001b[K\n",
            "remote: Total 60 (delta 0), reused 0 (delta 0), pack-reused 60\u001b[K\n",
            "Unpacking objects: 100% (60/60), done.\n"
          ],
          "name": "stdout"
        }
      ]
    },
    {
      "cell_type": "code",
      "metadata": {
        "id": "somtQlAREo9g",
        "colab_type": "code",
        "outputId": "f1bb1ae4-d82c-446d-b023-3ddb9c25fae7",
        "colab": {
          "base_uri": "https://localhost:8080/",
          "height": 35
        }
      },
      "source": [
        "t1 = time()\n",
        "!unzip -q \"/content/gdrive/My Drive/EVA4P1_S15/FG_BG_Mask_Depth/FG_BG_400K.zip\"\n",
        "!unzip -q \"/content/gdrive/My Drive/EVA4P1_S15/FG_BG_Mask_Depth/FG_BG_Mask_400K.zip\"\n",
        "!unzip -q \"/content/gdrive/My Drive/EVA4P1_S15/FG_BG_Mask_Depth/FG_BG_Depth_400K.zip\"\n",
        "!unzip -q \"/content/gdrive/My Drive/EVA4P1_S15/FG_BG_Mask_Depth/BG_and_Its_Flip.zip\"\n",
        "t2 = time()\n",
        "print(f'FG_BG, Mask & Depth Copy took {(t2-t1)/60:.5f} minutes')"
      ],
      "execution_count": 0,
      "outputs": [
        {
          "output_type": "stream",
          "text": [
            "FG_BG, Mask & Depth Copy took 5.67042 minutes\n"
          ],
          "name": "stdout"
        }
      ]
    },
    {
      "cell_type": "code",
      "metadata": {
        "id": "GcUEtIwzXcfG",
        "colab_type": "code",
        "outputId": "30e36938-f99b-4d30-c988-091db6bd258c",
        "colab": {
          "base_uri": "https://localhost:8080/",
          "height": 35
        }
      },
      "source": [
        "if os.path.exists('/content/FG_BG_Filename_withflip_Logs.txt'):\n",
        "    print('Log file exists')    \n",
        "else:  \n",
        "    !cp '/content/gdrive/My Drive/EVA4P1_S15/FG_BG_Mask_Depth/FG_BG_Filename_withflip_Logs.txt' '/content/'\n",
        "    print('Copied Log File') "
      ],
      "execution_count": 0,
      "outputs": [
        {
          "output_type": "stream",
          "text": [
            "Copied Log File\n"
          ],
          "name": "stdout"
        }
      ]
    },
    {
      "cell_type": "code",
      "metadata": {
        "id": "bFopA0YBXg1G",
        "colab_type": "code",
        "outputId": "1d41eb20-4129-4c68-e5e8-77a921a9426a",
        "colab": {
          "base_uri": "https://localhost:8080/",
          "height": 69
        }
      },
      "source": [
        "log_fg_bg = open('/content/FG_BG_Filename_withflip_Logs.txt',\"r\")\n",
        "content_list = log_fg_bg.readlines()\n",
        "print('No: of records in log_fg_bg:',len(content_list))\n",
        "print(content_list[0])\n",
        "log_fg_bg.close()\n",
        "\n",
        "data_root = Path('/content')\n",
        "f1, f2, f3, f4 = data_root/'FG_BG_400K', data_root/'BG_and_Its_Flip', data_root/'FG_BG_Mask_400K',  \\\n",
        "                 data_root/'FG_BG_Depth_0_400K'"
      ],
      "execution_count": 0,
      "outputs": [
        {
          "output_type": "stream",
          "text": [
            "No: of records in log_fg_bg: 400000\n",
            "Img_fg_bg_1.jpg,Img21.jpg,Image41.png,(192, 192, 108, 156, 51, 3, 159, 3, 51, 159, 159, 159)\n",
            "\n"
          ],
          "name": "stdout"
        }
      ]
    },
    {
      "cell_type": "code",
      "metadata": {
        "id": "VPglYPf5XqNX",
        "colab_type": "code",
        "outputId": "c0f06ac3-8b20-474d-9175-c65cd6115310",
        "colab": {
          "base_uri": "https://localhost:8080/",
          "height": 87
        }
      },
      "source": [
        "print(len(list(f1.iterdir())))\n",
        "print(len(list(f2.iterdir())))\n",
        "print(len(list(f3.iterdir())))\n",
        "print(len(list(f4.iterdir())))"
      ],
      "execution_count": 0,
      "outputs": [
        {
          "output_type": "stream",
          "text": [
            "400000\n",
            "200\n",
            "400000\n",
            "400000\n"
          ],
          "name": "stdout"
        }
      ]
    },
    {
      "cell_type": "code",
      "metadata": {
        "id": "gR5nA64cXxNq",
        "colab_type": "code",
        "colab": {}
      },
      "source": [
        "bs   = 96\n",
        "bs_small = 8\n",
        "rows = 5\n",
        "prnt, save = 1500, 500\n",
        "t0, t20k, t40k, t80k, t120k, t160k, t200k, t240k, t280k, t320k, t400k  = 0, 20000, 40000, 80000, 120000, 160000, \\\n",
        "                                                                                                 200000, \\\n",
        "                                                                                    240000, 280000, 320000, \\\n",
        "                                                                                                    400000                       "
      ],
      "execution_count": 0,
      "outputs": []
    },
    {
      "cell_type": "code",
      "metadata": {
        "id": "GX5hziJRumm3",
        "colab_type": "code",
        "colab": {}
      },
      "source": [
        "maskdepth_transform_mini = transforms.Compose([transforms.Resize((64,64)),\n",
        "                                      transforms.ToTensor(),])\n",
        "bg_transform_mini = transforms.Compose([transforms.Resize((64,64)),\n",
        "                                       transforms.ColorJitter(brightness =0.05,contrast=0.05,saturation=0.05,hue=0.05),\n",
        "                                       transforms.ToTensor(),\n",
        "                                       ])\n",
        "fg_bg_transform_mini = transforms.Compose([transforms.Resize((64,64)),\n",
        "                                       transforms.ColorJitter(brightness =0.05,contrast=0.05,saturation=0.05,hue=0.05),\n",
        "                                       transforms.ToTensor(),\n",
        "                                       ])"
      ],
      "execution_count": 0,
      "outputs": []
    },
    {
      "cell_type": "code",
      "metadata": {
        "id": "VW544V3yX9AY",
        "colab_type": "code",
        "colab": {}
      },
      "source": [
        "maskdepth_transform_small = transforms.Compose([transforms.Resize((96,96)),\n",
        "                                      transforms.ToTensor(),])\n",
        "bg_transform_small = transforms.Compose([transforms.Resize((96,96)),\n",
        "                                       transforms.ColorJitter(brightness =0.05,contrast=0.05,saturation=0.05,hue=0.05),\n",
        "                                       transforms.ToTensor(),\n",
        "                                       ])\n",
        "fg_bg_transform_small = transforms.Compose([transforms.Resize((96,96)),\n",
        "                                       transforms.ColorJitter(brightness =0.05,contrast=0.05,saturation=0.05,hue=0.05),\n",
        "                                       transforms.ToTensor(),\n",
        "                                       ])"
      ],
      "execution_count": 0,
      "outputs": []
    },
    {
      "cell_type": "code",
      "metadata": {
        "id": "0G9HlMniYL98",
        "colab_type": "code",
        "colab": {}
      },
      "source": [
        "maskdepth_transform_orig = transforms.Compose([transforms.Resize((192,192)),\n",
        "                                      transforms.ToTensor(),])\n",
        "bg_transform_orig = transforms.Compose([#transforms.Resize((96,96)),\n",
        "                                       transforms.ColorJitter(brightness =0.05,contrast=0.05,saturation=0.05,hue=0.05),\n",
        "                                       transforms.ToTensor(),\n",
        "                                       ])\n",
        "fg_bg_transform_orig = transforms.Compose([#transforms.Resize((96,96)),\n",
        "                                       transforms.ColorJitter(brightness =0.05,contrast=0.05,saturation=0.05,hue=0.05),\n",
        "                                       transforms.ToTensor(),\n",
        "                                       ])"
      ],
      "execution_count": 0,
      "outputs": []
    },
    {
      "cell_type": "code",
      "metadata": {
        "id": "zhF8vNh6YoHg",
        "colab_type": "code",
        "colab": {}
      },
      "source": [
        "class Makedata(Dataset):\n",
        "  def __init__(self,image_path,content_list, start_rec, end_rec, transform1, transform2, transform3, transform4, do_transform=True):\n",
        "    self.interim      = list(image_path.glob('*.jpg'))\n",
        "    self.start_rec    = start_rec\n",
        "    self.end_rec      = end_rec\n",
        "    self.f1_files     = self.interim[start_rec:end_rec]\n",
        "    #self.f1_files     = list(f1.glob('*.jpg'))\n",
        "    self.content_list = content_list\n",
        "    self.fg_bg_transform   = transform1 \n",
        "    self.bg_transform      = transform2\n",
        "    self.mask_transform    = transform3\n",
        "    self.depth_transform   = transform4\n",
        "    self.do_transform      = do_transform\n",
        "\n",
        "  def __len__(self):\n",
        "    return len(self.f1_files)  \n",
        "\n",
        "  def __getitem__(self,index):\n",
        "    fg_bg_name   = self.f1_files[index].stem\n",
        "    fg_bg_idx    = fg_bg_name.split('_')[-1]\n",
        "    bg_name      = '/content/BG_and_Its_Flip/' + self.content_list[int(fg_bg_idx)-1].split(',')[1]\n",
        "    mask_name    = '/content/FG_BG_Mask_400K/' + 'Img_fg_bg_mask' + str(fg_bg_idx) + '.jpg'\n",
        "    depth_name   = '/content/FG_BG_Depth_0_400K/' + 'Img_fg_bg_' + str(fg_bg_idx) + '_depth.jpg'\n",
        "    f1_image = Image.open(self.f1_files[index])  \n",
        "    f2_image = Image.open(f'{bg_name}')\n",
        "    f3_image = Image.open(f'{mask_name}')\n",
        "    f4_image = Image.open(f'{depth_name}')\n",
        "\n",
        "    if self.do_transform:\n",
        "      f1_image = self.fg_bg_transform(f1_image)\n",
        "      f2_image = self.bg_transform(f2_image)\n",
        "      f3_image = self.mask_transform(f3_image)\n",
        "      f4_image = self.depth_transform(f4_image)\n",
        "\n",
        "    return {'f1':f1_image, 'f2':f2_image, 'f3':f3_image, 'f4':f4_image}"
      ],
      "execution_count": 0,
      "outputs": []
    },
    {
      "cell_type": "code",
      "metadata": {
        "id": "PJjLTlX9ac9p",
        "colab_type": "code",
        "colab": {}
      },
      "source": [
        "train_ds_mini  = Makedata(f1, content_list, t0, t280k, \\\n",
        "                          fg_bg_transform_mini, bg_transform_mini, maskdepth_transform_mini, maskdepth_transform_mini)\n",
        "train_ds_small = Makedata(f1, content_list, t0, t280k, \n",
        "                          fg_bg_transform_small, bg_transform_small, maskdepth_transform_small, maskdepth_transform_small)\n",
        "train_ds_orig  = Makedata(f1, content_list, t0, t280k, \n",
        "                          fg_bg_transform_orig, bg_transform_orig, maskdepth_transform_orig, maskdepth_transform_orig)\n",
        "test_ds_orig   = Makedata(f1, content_list, t280k, t400k, \n",
        "                          fg_bg_transform_orig, bg_transform_orig, maskdepth_transform_orig, maskdepth_transform_orig)"
      ],
      "execution_count": 0,
      "outputs": []
    },
    {
      "cell_type": "code",
      "metadata": {
        "id": "8pQpX8WXBCvO",
        "colab_type": "code",
        "colab": {}
      },
      "source": [
        "train_dl_mini  = DataLoader(train_ds_mini, batch_size = bs, shuffle = True, pin_memory = True)\n",
        "train_dl_small = DataLoader(train_ds_small, batch_size = bs, shuffle = True, pin_memory = True)\n",
        "train_dl_orig  = DataLoader(train_ds_orig, batch_size = bs_small, shuffle = True, pin_memory = True)\n",
        "test_dl_orig   = DataLoader(test_ds_orig, batch_size = bs_small, shuffle = True, pin_memory = True )"
      ],
      "execution_count": 0,
      "outputs": []
    },
    {
      "cell_type": "code",
      "metadata": {
        "id": "grbsEvhubrWv",
        "colab_type": "code",
        "colab": {}
      },
      "source": [
        "images_mini  = next(iter(train_dl_mini))\n",
        "images_small = next(iter(train_dl_small))\n",
        "images_orig  = next(iter(train_dl_orig))\n",
        "images_test  = next(iter(test_dl_orig))"
      ],
      "execution_count": 0,
      "outputs": []
    },
    {
      "cell_type": "code",
      "metadata": {
        "id": "apoKSrpCBY9f",
        "colab_type": "code",
        "outputId": "47770664-cd32-4cae-c9a8-d28488d916f0",
        "colab": {
          "base_uri": "https://localhost:8080/",
          "height": 87
        }
      },
      "source": [
        "[(k, v.shape) for k, v in images_mini.items()]"
      ],
      "execution_count": 0,
      "outputs": [
        {
          "output_type": "execute_result",
          "data": {
            "text/plain": [
              "[('f1', torch.Size([96, 3, 64, 64])),\n",
              " ('f2', torch.Size([96, 3, 64, 64])),\n",
              " ('f3', torch.Size([96, 1, 64, 64])),\n",
              " ('f4', torch.Size([96, 1, 64, 64]))]"
            ]
          },
          "metadata": {
            "tags": []
          },
          "execution_count": 17
        }
      ]
    },
    {
      "cell_type": "code",
      "metadata": {
        "id": "RSIEU7q0bvK3",
        "colab_type": "code",
        "outputId": "7f479480-656a-4154-b07a-e434fc001adc",
        "colab": {
          "base_uri": "https://localhost:8080/",
          "height": 87
        }
      },
      "source": [
        "[(k, v.shape) for k, v in images_small.items()]"
      ],
      "execution_count": 0,
      "outputs": [
        {
          "output_type": "execute_result",
          "data": {
            "text/plain": [
              "[('f1', torch.Size([96, 3, 96, 96])),\n",
              " ('f2', torch.Size([96, 3, 96, 96])),\n",
              " ('f3', torch.Size([96, 1, 96, 96])),\n",
              " ('f4', torch.Size([96, 1, 96, 96]))]"
            ]
          },
          "metadata": {
            "tags": []
          },
          "execution_count": 18
        }
      ]
    },
    {
      "cell_type": "code",
      "metadata": {
        "id": "QPz_NluP9bvA",
        "colab_type": "code",
        "outputId": "138044c0-fe9a-4c1e-a8b8-6294dd306097",
        "colab": {
          "base_uri": "https://localhost:8080/",
          "height": 87
        }
      },
      "source": [
        "[(k, v.shape) for k, v in images_orig.items()]"
      ],
      "execution_count": 0,
      "outputs": [
        {
          "output_type": "execute_result",
          "data": {
            "text/plain": [
              "[('f1', torch.Size([8, 3, 192, 192])),\n",
              " ('f2', torch.Size([8, 3, 192, 192])),\n",
              " ('f3', torch.Size([8, 1, 192, 192])),\n",
              " ('f4', torch.Size([8, 1, 192, 192]))]"
            ]
          },
          "metadata": {
            "tags": []
          },
          "execution_count": 19
        }
      ]
    },
    {
      "cell_type": "code",
      "metadata": {
        "id": "iasvuNLOJTMQ",
        "colab_type": "code",
        "outputId": "8601fa60-f726-4f28-dc48-013f757bec3a",
        "colab": {
          "base_uri": "https://localhost:8080/",
          "height": 87
        }
      },
      "source": [
        "[(k, v.shape) for k, v in images_test.items()]"
      ],
      "execution_count": 0,
      "outputs": [
        {
          "output_type": "execute_result",
          "data": {
            "text/plain": [
              "[('f1', torch.Size([8, 3, 192, 192])),\n",
              " ('f2', torch.Size([8, 3, 192, 192])),\n",
              " ('f3', torch.Size([8, 1, 192, 192])),\n",
              " ('f4', torch.Size([8, 1, 192, 192]))]"
            ]
          },
          "metadata": {
            "tags": []
          },
          "execution_count": 20
        }
      ]
    },
    {
      "cell_type": "code",
      "metadata": {
        "id": "2uvSA-w5b335",
        "colab_type": "code",
        "colab": {}
      },
      "source": [
        "imgs = images_test['f1']"
      ],
      "execution_count": 0,
      "outputs": []
    },
    {
      "cell_type": "code",
      "metadata": {
        "id": "KzzRfXNab6wH",
        "colab_type": "code",
        "colab": {}
      },
      "source": [
        "def show(tensors, figsize= (10,10), *args, **kwargs):\n",
        "  grid_tensor = torchvision.utils.make_grid(tensors, *args, **kwargs)  \n",
        "  grid_image  = grid_tensor.permute(1, 2, 0)\n",
        "  plt.figure(figsize = figsize)\n",
        "  plt.imshow(grid_image)\n",
        "  plt.xticks([])  \n",
        "  plt.yticks([])\n",
        "  plt.show()"
      ],
      "execution_count": 0,
      "outputs": []
    },
    {
      "cell_type": "code",
      "metadata": {
        "id": "iJ-r9ZjHcMnL",
        "colab_type": "code",
        "colab": {}
      },
      "source": [
        "def draw_show_and_save(tensors, name, figsize=(15,15), *args, **kwargs):\n",
        "  try:\n",
        "    tensors = tensors.detach().cpu()\n",
        "  except:\n",
        "    pass\n",
        "  grid_tensor = torchvision.utils.make_grid(tensors, *args, **kwargs)\n",
        "  grid_image  = grid_tensor.permute(1, 2, 0)\n",
        "  plt.figure(figsize = figsize)\n",
        "  plt.imshow(grid_image)\n",
        "  plt.xticks([])  \n",
        "  plt.yticks([])\n",
        "\n",
        "  plt.savefig(name, bbox_inches='tight')\n",
        "  plt.show()"
      ],
      "execution_count": 0,
      "outputs": []
    },
    {
      "cell_type": "code",
      "metadata": {
        "id": "o0DjMw86xezh",
        "colab_type": "code",
        "colab": {}
      },
      "source": [
        "def draw_and_save(tensors, name, figsize=(15,15), *args, **kwargs):\n",
        "  try:\n",
        "    tensors = tensors.detach().cpu()\n",
        "  except:\n",
        "    pass\n",
        "  grid_tensor = torchvision.utils.make_grid(tensors, *args, **kwargs)\n",
        "  grid_image  = grid_tensor.permute(1, 2, 0)\n",
        "  plt.figure(figsize = figsize)\n",
        "  plt.imshow(grid_image)\n",
        "  plt.xticks([])  \n",
        "  plt.yticks([])\n",
        "\n",
        "  plt.savefig(name, bbox_inches='tight')\n",
        "  plt.close()\n",
        "  #plt.show()"
      ],
      "execution_count": 0,
      "outputs": []
    },
    {
      "cell_type": "code",
      "metadata": {
        "id": "DhJiayXIczhZ",
        "colab_type": "code",
        "outputId": "da83a25d-6cb8-4af6-97d4-1129398394e3",
        "colab": {
          "base_uri": "https://localhost:8080/",
          "height": 255
        }
      },
      "source": [
        "show(imgs, nrow=rows)"
      ],
      "execution_count": 0,
      "outputs": [
        {
          "output_type": "display_data",
          "data": {
            "image/png": "[encoded data removed]",
            "text/plain": [
              "<Figure size 720x720 with 1 Axes>"
            ]
          },
          "metadata": {
            "tags": []
          }
        }
      ]
    },
    {
      "cell_type": "code",
      "metadata": {
        "id": "RbBBY4gec8ZO",
        "colab_type": "code",
        "colab": {}
      },
      "source": [
        "class DownSize(nn.Module):\n",
        "  def __init__(self,inchannels,outchannels):\n",
        "    super(DownSize, self).__init__()\n",
        "\n",
        "    self.conv1  = nn.Conv2d(inchannels, outchannels, kernel_size=3, stride=2, padding=1, bias=False)\n",
        "    self.conv12 = nn.Conv2d(outchannels, outchannels, kernel_size=1, stride=1, padding=0, bias=False)\n",
        "    self.bn1 = nn.BatchNorm2d(outchannels)\n",
        "    self.relu = nn.ReLU(inplace=False)\n",
        "\n",
        "    self.conv2  = nn.Conv2d(outchannels, outchannels, kernel_size=3, stride=1, padding=1, bias=False)\n",
        "    self.conv22 = nn.Conv2d(outchannels, outchannels, kernel_size=1, stride=1, padding=0, bias=False)\n",
        "    self.bn2 = nn.BatchNorm2d(outchannels)\n",
        "\n",
        "    self.conv1x1down = nn.Conv2d(inchannels, outchannels,kernel_size=1, stride=2, padding=0, bias=False)\n",
        "\n",
        "  def forward(self,x):\n",
        "    identity = self.conv1x1down(x)\n",
        "    out = self.conv1(x)\n",
        "    out = self.conv12(out)\n",
        "    out = self.bn1(out)\n",
        "    out = self.relu(out)\n",
        "    out = self.conv2(out)\n",
        "    out = self.conv22(out)\n",
        "    out = self.bn2(out)\n",
        "\n",
        "    out += identity\n",
        "    out = self.relu(out)\n",
        "\n",
        "    return out "
      ],
      "execution_count": 0,
      "outputs": []
    },
    {
      "cell_type": "code",
      "metadata": {
        "id": "PlH-jdV9j4Op",
        "colab_type": "code",
        "colab": {}
      },
      "source": [
        "class UpSize(nn.Module):\n",
        "  def __init__(self, inchannels, outchannels):\n",
        "    super(UpSize, self).__init__()\n",
        "\n",
        "    self.conv1 = nn.Conv2d(outchannels, outchannels, kernel_size=3, stride=1, padding=1, bias=False)\n",
        "    self.conv12 = nn.Conv2d(outchannels, outchannels, kernel_size=1, stride=1, padding=0, bias=False)\n",
        "    self.bn1 = nn.BatchNorm2d(outchannels)\n",
        "    self.relu = nn.ReLU(inplace = False)\n",
        "\n",
        "    self.conv2 = nn.Conv2d(outchannels, outchannels, kernel_size=3, stride=1, padding=1, bias=False)\n",
        "    self.conv22 = nn.Conv2d(outchannels, outchannels, kernel_size=1, stride=1, padding=0, bias=False)\n",
        "    self.bn2 = nn.BatchNorm2d(outchannels)\n",
        "\n",
        "    self.conv1x1down = nn.ConvTranspose2d(inchannels, outchannels, kernel_size=3, stride=1, padding=1, bias=False)\n",
        "\n",
        "  def forward(self, x):\n",
        "    identity = self.conv1x1down(x)\n",
        "    out = self.conv1(identity)\n",
        "    out = self.conv12(out)\n",
        "    out = self.bn1(out)\n",
        "    out = self.relu(out)\n",
        "    out = self.conv2(out)\n",
        "    out = self.conv22(out)\n",
        "    out = self.bn2(out)\n",
        "\n",
        "    out = self.relu(out)  \n",
        "    return out"
      ],
      "execution_count": 0,
      "outputs": []
    },
    {
      "cell_type": "code",
      "metadata": {
        "id": "Mwi46bmCnAaa",
        "colab_type": "code",
        "colab": {}
      },
      "source": [
        "class BGDepth(nn.Module):\n",
        "  def __init__(self):\n",
        "    super(BGDepth, self).__init__()\n",
        "\n",
        "\n",
        "    self.convA = nn.Sequential(nn.Conv2d(in_channels=6,out_channels=32,kernel_size=(3,3),stride=1, \n",
        "                                              padding=1, bias= False),\n",
        "                                    nn.BatchNorm2d(32),\n",
        "                                    nn.ReLU())\n",
        "    self.convB = nn.Sequential(nn.Conv2d(in_channels=32,out_channels=32,kernel_size=(3,3),stride=1,\n",
        "                                              padding=1,bias=False,groups=32),\n",
        "                                    nn.Conv2d(in_channels=32,out_channels=64,kernel_size=(1,1),stride=1,\n",
        "                                              padding=0,bias=False),\n",
        "                                    nn.BatchNorm2d(64),\n",
        "                                    nn.ReLU())\n",
        "    self.convC = nn.Sequential(nn.Conv2d(in_channels=64,out_channels=128,kernel_size=(3,3),stride=1,\n",
        "                                              padding=1,bias=False),\n",
        "                                    nn.BatchNorm2d(128),\n",
        "                                    nn.ReLU())\n",
        "    self.convD = nn.Sequential(nn.Conv2d(in_channels=128,out_channels=64,kernel_size=(3,3),stride=1,\n",
        "                                              padding=1,bias=False))\n",
        "    self.convE = nn.Sequential(nn.Conv2d(in_channels=64,out_channels=1,kernel_size=(3,3),stride=1,\n",
        "                                              padding=1,bias=False))    \n",
        "\n",
        "\n",
        "    self.blck1 = DownSize(64,128)\n",
        "    self.blck2 = DownSize(128,256)\n",
        "    self.blck3 = DownSize(256,256)\n",
        "    self.blck4 = DownSize(256,256) \n",
        "    self.blck5 = UpSize(256, 256)\n",
        "    self.blck6 = UpSize(256, 256)\n",
        "    self.blck7 = UpSize(256, 128)\n",
        "    self.blck8 = UpSize(128, 64)\n",
        "\n",
        "    self.convLast = nn.Sequential(nn.Conv2d(64, 1, kernel_size=1, stride=1, padding=0, bias=False),)\n",
        "\n",
        "  def forward(self, imgdata):\n",
        "    fg_bg = imgdata['f1']\n",
        "    bg    = imgdata['f2']\n",
        "    #fg_bg = y\n",
        "    #bg    = y\n",
        "\n",
        "    f     = torch.cat([fg_bg,bg], dim=1)  # (192,192,6)\n",
        "\n",
        "    outA = self.convA(f)             #192 (192,192,32)\n",
        "    outB = self.convB(outA)          #192 (192,192,64)\n",
        "    outC = self.convC(outB)          #192 (192,192,128)\n",
        "    outD = self.convD(outC)          #192 (192,192,64)\n",
        "    outMask = self.convE(outD)       #192 (192,192,1)\n",
        "\t  \n",
        "    outAD = self.convA(f)            #192 (192,192,32)\n",
        "    outBD = self.convB(outAD)        #192 (192,192,64)\n",
        "    outCD = self.convC(outBD)        #192 (192,192,128)  \n",
        "    outDD = self.convD(outCD)        #192 (192,192,64)\n",
        "    down1 = self.blck1(outD)         #96  (96,96,128)\n",
        "    down2 = self.blck2(down1)        #48  (48,48,256)\n",
        "    down3 = self.blck3(down2)        #24  (24,24,512)\n",
        "    down4 = self.blck4(down3)        #12  (12,12,512) \n",
        "\n",
        "    scale1 = nn.functional.interpolate(down4, scale_factor=2, mode='bilinear')  #(24,24,1024)\n",
        "\n",
        "    up1 = self.blck5(scale1)   #(24,24,512)         \n",
        "    up1 += down3               #(24,24,512)\n",
        "    scale2 = nn.functional.interpolate(up1, scale_factor=2, mode='bilinear') #(48,48,512)\n",
        "    up2 = self.blck6(scale2) #(48,48,256)\n",
        "    up2 += down2             #(48,48,256)\n",
        "    scale3 = nn.functional.interpolate(up2, scale_factor=2, mode='bilinear') #(96,96,256)\n",
        "    up3 = self.blck7(scale3) #(96,96,128)\n",
        "    up3 += down1             #(96,96,128)\n",
        "    scale4 = nn.functional.interpolate(up3, scale_factor=2, mode='bilinear')  #(192,192,128)\n",
        "    up4 = self.blck8(scale4)        #(192,192,64)\n",
        "    outDepth = self.convLast(up4)   #(192,192,1)\n",
        "\n",
        "    return outMask, outDepth"
      ],
      "execution_count": 0,
      "outputs": []
    },
    {
      "cell_type": "code",
      "metadata": {
        "id": "Nzp6AcVdyBwL",
        "colab_type": "code",
        "outputId": "60ea2ff3-0e2d-4fa0-dd33-626d8976051d",
        "colab": {
          "base_uri": "https://localhost:8080/",
          "height": 1000
        }
      },
      "source": [
        "model    = BGDepth()\n",
        "use_cuda = torch.cuda.is_available()\n",
        "model.device = torch.device(\"cuda\" if use_cuda else \"cpu\")\n",
        "model.to(model.device)"
      ],
      "execution_count": 0,
      "outputs": [
        {
          "output_type": "execute_result",
          "data": {
            "text/plain": [
              "BGDepth(\n",
              "  (convA): Sequential(\n",
              "    (0): Conv2d(6, 32, kernel_size=(3, 3), stride=(1, 1), padding=(1, 1), bias=False)\n",
              "    (1): BatchNorm2d(32, eps=1e-05, momentum=0.1, affine=True, track_running_stats=True)\n",
              "    (2): ReLU()\n",
              "  )\n",
              "  (convB): Sequential(\n",
              "    (0): Conv2d(32, 32, kernel_size=(3, 3), stride=(1, 1), padding=(1, 1), groups=32, bias=False)\n",
              "    (1): Conv2d(32, 64, kernel_size=(1, 1), stride=(1, 1), bias=False)\n",
              "    (2): BatchNorm2d(64, eps=1e-05, momentum=0.1, affine=True, track_running_stats=True)\n",
              "    (3): ReLU()\n",
              "  )\n",
              "  (convC): Sequential(\n",
              "    (0): Conv2d(64, 128, kernel_size=(3, 3), stride=(1, 1), padding=(1, 1), bias=False)\n",
              "    (1): BatchNorm2d(128, eps=1e-05, momentum=0.1, affine=True, track_running_stats=True)\n",
              "    (2): ReLU()\n",
              "  )\n",
              "  (convD): Sequential(\n",
              "    (0): Conv2d(128, 64, kernel_size=(3, 3), stride=(1, 1), padding=(1, 1), bias=False)\n",
              "  )\n",
              "  (convE): Sequential(\n",
              "    (0): Conv2d(64, 1, kernel_size=(3, 3), stride=(1, 1), padding=(1, 1), bias=False)\n",
              "  )\n",
              "  (blck1): DownSize(\n",
              "    (conv1): Conv2d(64, 128, kernel_size=(3, 3), stride=(2, 2), padding=(1, 1), bias=False)\n",
              "    (conv12): Conv2d(128, 128, kernel_size=(1, 1), stride=(1, 1), bias=False)\n",
              "    (bn1): BatchNorm2d(128, eps=1e-05, momentum=0.1, affine=True, track_running_stats=True)\n",
              "    (relu): ReLU()\n",
              "    (conv2): Conv2d(128, 128, kernel_size=(3, 3), stride=(1, 1), padding=(1, 1), bias=False)\n",
              "    (conv22): Conv2d(128, 128, kernel_size=(1, 1), stride=(1, 1), bias=False)\n",
              "    (bn2): BatchNorm2d(128, eps=1e-05, momentum=0.1, affine=True, track_running_stats=True)\n",
              "    (conv1x1down): Conv2d(64, 128, kernel_size=(1, 1), stride=(2, 2), bias=False)\n",
              "  )\n",
              "  (blck2): DownSize(\n",
              "    (conv1): Conv2d(128, 256, kernel_size=(3, 3), stride=(2, 2), padding=(1, 1), bias=False)\n",
              "    (conv12): Conv2d(256, 256, kernel_size=(1, 1), stride=(1, 1), bias=False)\n",
              "    (bn1): BatchNorm2d(256, eps=1e-05, momentum=0.1, affine=True, track_running_stats=True)\n",
              "    (relu): ReLU()\n",
              "    (conv2): Conv2d(256, 256, kernel_size=(3, 3), stride=(1, 1), padding=(1, 1), bias=False)\n",
              "    (conv22): Conv2d(256, 256, kernel_size=(1, 1), stride=(1, 1), bias=False)\n",
              "    (bn2): BatchNorm2d(256, eps=1e-05, momentum=0.1, affine=True, track_running_stats=True)\n",
              "    (conv1x1down): Conv2d(128, 256, kernel_size=(1, 1), stride=(2, 2), bias=False)\n",
              "  )\n",
              "  (blck3): DownSize(\n",
              "    (conv1): Conv2d(256, 256, kernel_size=(3, 3), stride=(2, 2), padding=(1, 1), bias=False)\n",
              "    (conv12): Conv2d(256, 256, kernel_size=(1, 1), stride=(1, 1), bias=False)\n",
              "    (bn1): BatchNorm2d(256, eps=1e-05, momentum=0.1, affine=True, track_running_stats=True)\n",
              "    (relu): ReLU()\n",
              "    (conv2): Conv2d(256, 256, kernel_size=(3, 3), stride=(1, 1), padding=(1, 1), bias=False)\n",
              "    (conv22): Conv2d(256, 256, kernel_size=(1, 1), stride=(1, 1), bias=False)\n",
              "    (bn2): BatchNorm2d(256, eps=1e-05, momentum=0.1, affine=True, track_running_stats=True)\n",
              "    (conv1x1down): Conv2d(256, 256, kernel_size=(1, 1), stride=(2, 2), bias=False)\n",
              "  )\n",
              "  (blck4): DownSize(\n",
              "    (conv1): Conv2d(256, 256, kernel_size=(3, 3), stride=(2, 2), padding=(1, 1), bias=False)\n",
              "    (conv12): Conv2d(256, 256, kernel_size=(1, 1), stride=(1, 1), bias=False)\n",
              "    (bn1): BatchNorm2d(256, eps=1e-05, momentum=0.1, affine=True, track_running_stats=True)\n",
              "    (relu): ReLU()\n",
              "    (conv2): Conv2d(256, 256, kernel_size=(3, 3), stride=(1, 1), padding=(1, 1), bias=False)\n",
              "    (conv22): Conv2d(256, 256, kernel_size=(1, 1), stride=(1, 1), bias=False)\n",
              "    (bn2): BatchNorm2d(256, eps=1e-05, momentum=0.1, affine=True, track_running_stats=True)\n",
              "    (conv1x1down): Conv2d(256, 256, kernel_size=(1, 1), stride=(2, 2), bias=False)\n",
              "  )\n",
              "  (blck5): UpSize(\n",
              "    (conv1): Conv2d(256, 256, kernel_size=(3, 3), stride=(1, 1), padding=(1, 1), bias=False)\n",
              "    (conv12): Conv2d(256, 256, kernel_size=(1, 1), stride=(1, 1), bias=False)\n",
              "    (bn1): BatchNorm2d(256, eps=1e-05, momentum=0.1, affine=True, track_running_stats=True)\n",
              "    (relu): ReLU()\n",
              "    (conv2): Conv2d(256, 256, kernel_size=(3, 3), stride=(1, 1), padding=(1, 1), bias=False)\n",
              "    (conv22): Conv2d(256, 256, kernel_size=(1, 1), stride=(1, 1), bias=False)\n",
              "    (bn2): BatchNorm2d(256, eps=1e-05, momentum=0.1, affine=True, track_running_stats=True)\n",
              "    (conv1x1down): ConvTranspose2d(256, 256, kernel_size=(3, 3), stride=(1, 1), padding=(1, 1), bias=False)\n",
              "  )\n",
              "  (blck6): UpSize(\n",
              "    (conv1): Conv2d(256, 256, kernel_size=(3, 3), stride=(1, 1), padding=(1, 1), bias=False)\n",
              "    (conv12): Conv2d(256, 256, kernel_size=(1, 1), stride=(1, 1), bias=False)\n",
              "    (bn1): BatchNorm2d(256, eps=1e-05, momentum=0.1, affine=True, track_running_stats=True)\n",
              "    (relu): ReLU()\n",
              "    (conv2): Conv2d(256, 256, kernel_size=(3, 3), stride=(1, 1), padding=(1, 1), bias=False)\n",
              "    (conv22): Conv2d(256, 256, kernel_size=(1, 1), stride=(1, 1), bias=False)\n",
              "    (bn2): BatchNorm2d(256, eps=1e-05, momentum=0.1, affine=True, track_running_stats=True)\n",
              "    (conv1x1down): ConvTranspose2d(256, 256, kernel_size=(3, 3), stride=(1, 1), padding=(1, 1), bias=False)\n",
              "  )\n",
              "  (blck7): UpSize(\n",
              "    (conv1): Conv2d(128, 128, kernel_size=(3, 3), stride=(1, 1), padding=(1, 1), bias=False)\n",
              "    (conv12): Conv2d(128, 128, kernel_size=(1, 1), stride=(1, 1), bias=False)\n",
              "    (bn1): BatchNorm2d(128, eps=1e-05, momentum=0.1, affine=True, track_running_stats=True)\n",
              "    (relu): ReLU()\n",
              "    (conv2): Conv2d(128, 128, kernel_size=(3, 3), stride=(1, 1), padding=(1, 1), bias=False)\n",
              "    (conv22): Conv2d(128, 128, kernel_size=(1, 1), stride=(1, 1), bias=False)\n",
              "    (bn2): BatchNorm2d(128, eps=1e-05, momentum=0.1, affine=True, track_running_stats=True)\n",
              "    (conv1x1down): ConvTranspose2d(256, 128, kernel_size=(3, 3), stride=(1, 1), padding=(1, 1), bias=False)\n",
              "  )\n",
              "  (blck8): UpSize(\n",
              "    (conv1): Conv2d(64, 64, kernel_size=(3, 3), stride=(1, 1), padding=(1, 1), bias=False)\n",
              "    (conv12): Conv2d(64, 64, kernel_size=(1, 1), stride=(1, 1), bias=False)\n",
              "    (bn1): BatchNorm2d(64, eps=1e-05, momentum=0.1, affine=True, track_running_stats=True)\n",
              "    (relu): ReLU()\n",
              "    (conv2): Conv2d(64, 64, kernel_size=(3, 3), stride=(1, 1), padding=(1, 1), bias=False)\n",
              "    (conv22): Conv2d(64, 64, kernel_size=(1, 1), stride=(1, 1), bias=False)\n",
              "    (bn2): BatchNorm2d(64, eps=1e-05, momentum=0.1, affine=True, track_running_stats=True)\n",
              "    (conv1x1down): ConvTranspose2d(128, 64, kernel_size=(3, 3), stride=(1, 1), padding=(1, 1), bias=False)\n",
              "  )\n",
              "  (convLast): Sequential(\n",
              "    (0): Conv2d(64, 1, kernel_size=(1, 1), stride=(1, 1), bias=False)\n",
              "  )\n",
              ")"
            ]
          },
          "metadata": {
            "tags": []
          },
          "execution_count": 41
        }
      ]
    },
    {
      "cell_type": "code",
      "metadata": {
        "id": "9fgGPrATyZhT",
        "colab_type": "code",
        "outputId": "8f8d7778-cf89-4bef-eb47-7c731834a5a4",
        "colab": {
          "base_uri": "https://localhost:8080/",
          "height": 1000
        }
      },
      "source": [
        "from torchsummary import summary\n",
        "summary(model, input_size=(3,192,192))"
      ],
      "execution_count": 0,
      "outputs": [
        {
          "output_type": "stream",
          "text": [
            "----------------------------------------------------------------\n",
            "        Layer (type)               Output Shape         Param #\n",
            "================================================================\n",
            "            Conv2d-1         [-1, 32, 192, 192]           1,728\n",
            "       BatchNorm2d-2         [-1, 32, 192, 192]              64\n",
            "              ReLU-3         [-1, 32, 192, 192]               0\n",
            "            Conv2d-4         [-1, 32, 192, 192]             288\n",
            "            Conv2d-5         [-1, 64, 192, 192]           2,048\n",
            "       BatchNorm2d-6         [-1, 64, 192, 192]             128\n",
            "              ReLU-7         [-1, 64, 192, 192]               0\n",
            "            Conv2d-8        [-1, 128, 192, 192]          73,728\n",
            "       BatchNorm2d-9        [-1, 128, 192, 192]             256\n",
            "             ReLU-10        [-1, 128, 192, 192]               0\n",
            "           Conv2d-11         [-1, 64, 192, 192]          73,728\n",
            "           Conv2d-12          [-1, 1, 192, 192]             576\n",
            "           Conv2d-13         [-1, 32, 192, 192]           1,728\n",
            "      BatchNorm2d-14         [-1, 32, 192, 192]              64\n",
            "             ReLU-15         [-1, 32, 192, 192]               0\n",
            "           Conv2d-16         [-1, 32, 192, 192]             288\n",
            "           Conv2d-17         [-1, 64, 192, 192]           2,048\n",
            "      BatchNorm2d-18         [-1, 64, 192, 192]             128\n",
            "             ReLU-19         [-1, 64, 192, 192]               0\n",
            "           Conv2d-20        [-1, 128, 192, 192]          73,728\n",
            "      BatchNorm2d-21        [-1, 128, 192, 192]             256\n",
            "             ReLU-22        [-1, 128, 192, 192]               0\n",
            "           Conv2d-23         [-1, 64, 192, 192]          73,728\n",
            "           Conv2d-24          [-1, 128, 96, 96]           8,192\n",
            "           Conv2d-25          [-1, 128, 96, 96]          73,728\n",
            "           Conv2d-26          [-1, 128, 96, 96]          16,384\n",
            "      BatchNorm2d-27          [-1, 128, 96, 96]             256\n",
            "             ReLU-28          [-1, 128, 96, 96]               0\n",
            "           Conv2d-29          [-1, 128, 96, 96]         147,456\n",
            "           Conv2d-30          [-1, 128, 96, 96]          16,384\n",
            "      BatchNorm2d-31          [-1, 128, 96, 96]             256\n",
            "             ReLU-32          [-1, 128, 96, 96]               0\n",
            "         DownSize-33          [-1, 128, 96, 96]               0\n",
            "           Conv2d-34          [-1, 256, 48, 48]          32,768\n",
            "           Conv2d-35          [-1, 256, 48, 48]         294,912\n",
            "           Conv2d-36          [-1, 256, 48, 48]          65,536\n",
            "      BatchNorm2d-37          [-1, 256, 48, 48]             512\n",
            "             ReLU-38          [-1, 256, 48, 48]               0\n",
            "           Conv2d-39          [-1, 256, 48, 48]         589,824\n",
            "           Conv2d-40          [-1, 256, 48, 48]          65,536\n",
            "      BatchNorm2d-41          [-1, 256, 48, 48]             512\n",
            "             ReLU-42          [-1, 256, 48, 48]               0\n",
            "         DownSize-43          [-1, 256, 48, 48]               0\n",
            "           Conv2d-44          [-1, 256, 24, 24]          65,536\n",
            "           Conv2d-45          [-1, 256, 24, 24]         589,824\n",
            "           Conv2d-46          [-1, 256, 24, 24]          65,536\n",
            "      BatchNorm2d-47          [-1, 256, 24, 24]             512\n",
            "             ReLU-48          [-1, 256, 24, 24]               0\n",
            "           Conv2d-49          [-1, 256, 24, 24]         589,824\n",
            "           Conv2d-50          [-1, 256, 24, 24]          65,536\n",
            "      BatchNorm2d-51          [-1, 256, 24, 24]             512\n",
            "             ReLU-52          [-1, 256, 24, 24]               0\n",
            "         DownSize-53          [-1, 256, 24, 24]               0\n",
            "           Conv2d-54          [-1, 256, 12, 12]          65,536\n",
            "           Conv2d-55          [-1, 256, 12, 12]         589,824\n",
            "           Conv2d-56          [-1, 256, 12, 12]          65,536\n",
            "      BatchNorm2d-57          [-1, 256, 12, 12]             512\n",
            "             ReLU-58          [-1, 256, 12, 12]               0\n",
            "           Conv2d-59          [-1, 256, 12, 12]         589,824\n",
            "           Conv2d-60          [-1, 256, 12, 12]          65,536\n",
            "      BatchNorm2d-61          [-1, 256, 12, 12]             512\n",
            "             ReLU-62          [-1, 256, 12, 12]               0\n",
            "         DownSize-63          [-1, 256, 12, 12]               0\n",
            "  ConvTranspose2d-64          [-1, 256, 24, 24]         589,824\n",
            "           Conv2d-65          [-1, 256, 24, 24]         589,824\n",
            "           Conv2d-66          [-1, 256, 24, 24]          65,536\n",
            "      BatchNorm2d-67          [-1, 256, 24, 24]             512\n",
            "             ReLU-68          [-1, 256, 24, 24]               0\n",
            "           Conv2d-69          [-1, 256, 24, 24]         589,824\n",
            "           Conv2d-70          [-1, 256, 24, 24]          65,536\n",
            "      BatchNorm2d-71          [-1, 256, 24, 24]             512\n",
            "             ReLU-72          [-1, 256, 24, 24]               0\n",
            "           UpSize-73          [-1, 256, 24, 24]               0\n",
            "  ConvTranspose2d-74          [-1, 256, 48, 48]         589,824\n",
            "           Conv2d-75          [-1, 256, 48, 48]         589,824\n",
            "           Conv2d-76          [-1, 256, 48, 48]          65,536\n",
            "      BatchNorm2d-77          [-1, 256, 48, 48]             512\n",
            "             ReLU-78          [-1, 256, 48, 48]               0\n",
            "           Conv2d-79          [-1, 256, 48, 48]         589,824\n",
            "           Conv2d-80          [-1, 256, 48, 48]          65,536\n",
            "      BatchNorm2d-81          [-1, 256, 48, 48]             512\n",
            "             ReLU-82          [-1, 256, 48, 48]               0\n",
            "           UpSize-83          [-1, 256, 48, 48]               0\n",
            "  ConvTranspose2d-84          [-1, 128, 96, 96]         294,912\n",
            "           Conv2d-85          [-1, 128, 96, 96]         147,456\n",
            "           Conv2d-86          [-1, 128, 96, 96]          16,384\n",
            "      BatchNorm2d-87          [-1, 128, 96, 96]             256\n",
            "             ReLU-88          [-1, 128, 96, 96]               0\n",
            "           Conv2d-89          [-1, 128, 96, 96]         147,456\n",
            "           Conv2d-90          [-1, 128, 96, 96]          16,384\n",
            "      BatchNorm2d-91          [-1, 128, 96, 96]             256\n",
            "             ReLU-92          [-1, 128, 96, 96]               0\n",
            "           UpSize-93          [-1, 128, 96, 96]               0\n",
            "  ConvTranspose2d-94         [-1, 64, 192, 192]          73,728\n",
            "           Conv2d-95         [-1, 64, 192, 192]          36,864\n",
            "           Conv2d-96         [-1, 64, 192, 192]           4,096\n",
            "      BatchNorm2d-97         [-1, 64, 192, 192]             128\n",
            "             ReLU-98         [-1, 64, 192, 192]               0\n",
            "           Conv2d-99         [-1, 64, 192, 192]          36,864\n",
            "          Conv2d-100         [-1, 64, 192, 192]           4,096\n",
            "     BatchNorm2d-101         [-1, 64, 192, 192]             128\n",
            "            ReLU-102         [-1, 64, 192, 192]               0\n",
            "          UpSize-103         [-1, 64, 192, 192]               0\n",
            "          Conv2d-104          [-1, 1, 192, 192]              64\n",
            "================================================================\n",
            "Total params: 8,953,536\n",
            "Trainable params: 8,953,536\n",
            "Non-trainable params: 0\n",
            "----------------------------------------------------------------\n",
            "Input size (MB): 0.42\n",
            "Forward/backward pass size (MB): 907.88\n",
            "Params size (MB): 34.16\n",
            "Estimated Total Size (MB): 942.45\n",
            "----------------------------------------------------------------\n"
          ],
          "name": "stdout"
        }
      ]
    },
    {
      "cell_type": "code",
      "metadata": {
        "id": "WiW4zlljquvM",
        "colab_type": "code",
        "colab": {}
      },
      "source": [
        "criterion1 = nn.BCEWithLogitsLoss()\n",
        "kernel_size = 3\n",
        "criterion2 = SSIM(kernel_size, reduction = 'mean')"
      ],
      "execution_count": 0,
      "outputs": []
    },
    {
      "cell_type": "code",
      "metadata": {
        "id": "OEgzOZ2xybla",
        "colab_type": "code",
        "colab": {}
      },
      "source": [
        "optim = torch.optim.SGD(model.parameters(), lr=0.001, momentum = 0.9, weight_decay = 1e-5)"
      ],
      "execution_count": 0,
      "outputs": []
    },
    {
      "cell_type": "code",
      "metadata": {
        "id": "0thKIHDYy6RA",
        "colab_type": "code",
        "colab": {}
      },
      "source": [
        "def train(model, criterion1, criterion2, device, train_loader, optimizer, epoch, batch_size):\n",
        "  model.train()\n",
        "  pbar = tqdm(train_loader)\n",
        "  num_batches = len(train_loader.dataset)/batch_size\n",
        "  path_name = '/content/gdrive/My Drive/plots_0523_V8A/'\n",
        "\n",
        "  for batch_idx, data in enumerate(pbar):\n",
        "    data['f1'] = data['f1'].to(device)\n",
        "    data['f2'] = data['f2'].to(device)\n",
        "    data['f3'] = data['f3'].to(device)\n",
        "    data['f4'] = data['f4'].to(device)    \n",
        "\n",
        "    optimizer.zero_grad()\n",
        "    output = model(data)\n",
        "\n",
        " # breakpoint()\n",
        "\n",
        "    loss1 = criterion1(output[0], data['f3'])\n",
        "    loss2 = criterion2(output[1], data['f4'])\n",
        "    loss  = 2*loss1 + loss2\n",
        "\n",
        "    pbar.set_description(desc = f'{int(epoch)} {int(batch_idx)} l={loss.item():.4f} l1={loss1.item():.5f} l2={loss2.item():.5f}')   \n",
        "    loss.backward()\n",
        "    #loss2.backward()\n",
        "    optimizer.step()\n",
        "    \n",
        "    saved = False\n",
        "    if batch_idx == 0 or batch_idx == int(num_batches-1):\n",
        "        print('Epoch, Batch_idx:',epoch, batch_idx)\n",
        "        draw_show_and_save(output[0].detach().cpu(), f'{path_name}{epoch}_{batch_idx}_MP_{loss.item():.5f}.jpg')\n",
        "        draw_show_and_save(data['f3'].detach().cpu(), f'{path_name}{epoch}_{batch_idx}_MA_{loss.item():.5f}.jpg')\n",
        "        draw_show_and_save(output[1].detach().cpu(), f'{path_name}{epoch}_{batch_idx}_DP_{loss.item():.5f}.jpg')\n",
        "        draw_show_and_save(data['f4'].detach().cpu(), f'{path_name}{epoch}_{batch_idx}_DA_{loss.item():.5f}.jpg')\n",
        "        draw_show_and_save(data['f1'].detach().cpu(), f'{path_name}{epoch}_{batch_idx}_FGBG_{loss.item():.5f}.jpg')      \n",
        "        saved = True\n",
        "\n",
        "    if batch_idx % save == 0 and not saved:\n",
        "        print('Train Epoch: {} Batch_ID: {} [{}/{} ({:.0f}%)]\\tLoss: {:.6f}'.format(\n",
        "               epoch, batch_idx, batch_idx * batch_size, len(train_loader.dataset), \n",
        "               (100. * batch_idx / len(train_loader)),\n",
        "               loss))\n",
        "        draw_and_save(output[0].detach().cpu(), f'{path_name}{epoch}_{batch_idx}_MP_{loss.item():.5f}.jpg')\n",
        "        draw_and_save(data['f3'].detach().cpu(), f'{path_name}{epoch}_{batch_idx}_MA_{loss.item():.5f}.jpg')\n",
        "        draw_and_save(output[1].detach().cpu(), f'{path_name}{epoch}_{batch_idx}_DP_{loss.item():.5f}.jpg')\n",
        "        draw_and_save(data['f4'].detach().cpu(), f'{path_name}{epoch}_{batch_idx}_DA_{loss.item():.5f}.jpg')\n",
        "        draw_and_save(data['f1'].detach().cpu(), f'{path_name}{epoch}_{batch_idx}_FGBG_{loss.item():.5f}.jpg')   \n",
        "      \n",
        "    path = f'/content/gdrive/My Drive/FG_Depth_Prediction_V8A.pt'\n",
        "    if batch_idx % 1000 == 0:\n",
        "      torch.save(model.state_dict(),path)\n",
        "      print('MODEL SAVED:',path, 'Epoch & Batch-ID:', epoch, batch_idx)"
      ],
      "execution_count": 0,
      "outputs": []
    },
    {
      "cell_type": "code",
      "metadata": {
        "id": "9HfRkou6Jsom",
        "colab_type": "code",
        "colab": {}
      },
      "source": [
        "def test(model, criterion1, criterion2, device, test_loader, epoch):\n",
        "  model.eval()\n",
        "  test_loss_lst = []\n",
        "  test_loss1, test_loss2, test_loss = 0, 0, 0\n",
        "  pbar = tqdm(test_loader)\n",
        "  path_name = '/content/gdrive/My Drive/plots_0522_V7B/'  \n",
        "\n",
        "  with torch.no_grad():\n",
        "    for batch_idx, data in enumerate(pbar):\n",
        "      data['f1'] = data['f1'].to(device)\n",
        "      data['f2'] = data['f2'].to(device)\n",
        "      data['f3'] = data['f3'].to(device)\n",
        "      data['f4'] = data['f4'].to(device)          \n",
        "\n",
        "      output = model(data)\n",
        "\n",
        "  # breakpoint()\n",
        "\n",
        "      loss1 = criterion1(output[0], data['f3'])\n",
        "      loss2 = criterion2(output[1], data['f4'])\n",
        "      loss  = 1.5*loss1 + loss2\n",
        "      test_loss1 += loss1\n",
        "      test_loss2 += loss2\n",
        "      test_loss  += loss\n",
        "\n",
        "      pbar.set_description(desc = f'{int(epoch)} {int(batch_idx)} tl={loss.item():.4f} tl1={loss1.item():.5f} tl2={loss2.item():.5f}')   \n",
        "      \n",
        "      if batch_idx % save == 0 and not saved:\n",
        "          print('Test Epoch: {} [{}/{} ({:.0f}%)]\\tLoss: {:.6f}'.format(\n",
        "                epoch, batch_idx * len(data), len(test_loader.dataset), (100. * batch_idx / len(test_loader)),\n",
        "                test_loss))\n",
        "          draw_and_save(output[0].detach().cpu(), f'{path_name}Test_{epoch}_{batch_idx}_MP_{loss.item():.5f}.jpg')\n",
        "          draw_and_save(data['f3'].detach().cpu(), f'{path_name}Test_{epoch}_{batch_idx}_MA_{loss.item():.5f}.jpg')\n",
        "          draw_and_save(output[1].detach().cpu(), f'{path_name}Test_{epoch}_{batch_idx}_DP_{loss.item():.5f}.jpg')\n",
        "          draw_and_save(data['f4'].detach().cpu(), f'{path_name}Test_{epoch}_{batch_idx}_DA_{loss.item():.5f}.jpg')\n",
        "          draw_and_save(data['f1'].detach().cpu(), f'{path_name}Test_{epoch}_{batch_idx}_FGBG_{loss.item():.5f}.jpg')       \n",
        "    \n",
        "  test_loss /= len(test_loader.dataset)\n",
        "  test_loss_lst.append(test_loss)"
      ],
      "execution_count": 0,
      "outputs": []
    },
    {
      "cell_type": "code",
      "metadata": {
        "id": "Axb3qffm1eRb",
        "colab_type": "code",
        "colab": {}
      },
      "source": [
        "from torch.optim.lr_scheduler import StepLR\n",
        "scheduler = StepLR(optim, step_size=2, gamma=0.1)"
      ],
      "execution_count": 0,
      "outputs": []
    },
    {
      "cell_type": "code",
      "metadata": {
        "id": "tYVJlNUEQ4OD",
        "colab_type": "code",
        "outputId": "59a46d48-26a7-4862-b18b-705d43ada394",
        "colab": {
          "base_uri": "https://localhost:8080/",
          "height": 35
        }
      },
      "source": [
        "import os\n",
        "path_del   = '/content/plots/'\n",
        "k = 0\n",
        "for del_file in os.listdir(path_del):\n",
        "    os.remove(f'{path_del}{del_file}')\n",
        "    k += 1\n",
        "print('total deleted from Plots:',k)"
      ],
      "execution_count": 0,
      "outputs": [
        {
          "output_type": "stream",
          "text": [
            "total deleted from Plots: 45\n"
          ],
          "name": "stdout"
        }
      ]
    },
    {
      "cell_type": "code",
      "metadata": {
        "id": "ty71AebR1Pz4",
        "colab_type": "code",
        "outputId": "b275440b-743a-464c-b387-38fdee6ce212",
        "colab": {
          "base_uri": "https://localhost:8080/",
          "height": 35
        }
      },
      "source": [
        "path = f'/content/gdrive/My Drive/FG_Depth_Prediction.pt'\n",
        "model.load_state_dict(torch.load(path))"
      ],
      "execution_count": 0,
      "outputs": [
        {
          "output_type": "execute_result",
          "data": {
            "text/plain": [
              "<All keys matched successfully>"
            ]
          },
          "metadata": {
            "tags": []
          },
          "execution_count": 36
        }
      ]
    },
    {
      "cell_type": "code",
      "metadata": {
        "id": "RrXMgQFP4AHU",
        "colab_type": "code",
        "outputId": "a32ace2c-92b1-4da5-ad56-15631053dfb6",
        "colab": {
          "base_uri": "https://localhost:8080/",
          "height": 1000,
          "referenced_widgets": [
            "17ea58e7d4824793b7ca764bf0733490",
            "8be7f7179a5d46bb88033191f28bfe71",
            "ddb0062ff38b4512995d9d1f306c37fd",
            "3017c04933a64e4da5f44953c5a11f94",
            "8b04081e77a44c42827fd22005269144",
            "bb7f57b7ebd24fe88d07dae4b23fa3eb",
            "7b5a4f2ae3fb4df49ae59d63a50f92d9",
            "c358c0fe3e104c2fbd3b400a7419d2d6",
            "45e80387b8c44ae4b3ec53dbb0e4234f",
            "7f95cdd738be445ba6094cde96f2b818",
            "38248fe1917f4f58a2b1b9c8a620d82f",
            "60dd5b7083df4466814cdabc3a3d3ad8",
            "b6db496d5a3b4470af6ed63e2ddb852c",
            "5ac9c536b3dd40049f1aceb4f532cc38",
            "94202e175f4d4e41955e6060b9960b06",
            "a3cd83944a384756b9cc2200360092aa",
            "5ebb8d17299145afa203dd52e325553b",
            "587615e96a4e4aaeaa3bf221d38bd8c8",
            "80aacda6108049568758a47cc77fb538",
            "fb6a81288e694ede8db59c57ae94f1d6",
            "35b7ec00f77e48ffbac08d4efb168b88",
            "440c78d97e2e406980a398adc72705ed",
            "22f9f55c13a84456b7a501d89f1061f3",
            "c1457a4c57d9478a83bac718cfa4e21b",
            "dddd95bbd03e4d07955ff52bba158b9c",
            "23d21e75885b4ba1b4e221c535cabc9e",
            "7efc77ce61764a2fa709b9fa2ac8bad9",
            "a00fa152b79742db856e85fe2101d360",
            "26f4ec8d532e4f84b4a34acfd1bf2cff",
            "42afccc1359b4ebeb3f9f9f149540a75",
            "76250a80873b4733bf1f0210bc642088",
            "9f146dd4ae1447209cf7d01442ae31ce",
            "5a109b8c0306423e83d080a128551665",
            "1feef2688365431eb119b22948c231a9",
            "ed5fdf0b0cd942ca92ea523873dfef3e",
            "e2870c6787e9402a97d8c5c3ebf3cfad",
            "b0a3f5442c054eb49e23705d80aa1e48",
            "fa8f4e6a6a904857b0fbadcf51ecf8c5",
            "331b794488b74b89b42599d362f5d4ae",
            "5a13697026fd4b368aea8970a2795a6e"
          ]
        }
      },
      "source": [
        "for epoch in range(1,7):\n",
        "  if epoch < 5:\n",
        "     train(model, criterion1, criterion2, model.device, train_dl_mini, optim, epoch, bs)\n",
        "  elif epoch < 7:\n",
        "     train(model, criterion1, criterion2, model.device, train_dl_small, optim, epoch, bs)\n",
        "  else:\n",
        "     train(model, criterion1, criterion2, model.device, train_dl_orig, optim, epoch, bs_small)    \n",
        "         \n",
        "  #test(model, device, test_loader, epoch)\n",
        "  scheduler.step()  "
      ],
      "execution_count": 0,
      "outputs": []
    },
    {
      "cell_type": "code",
      "metadata": {
        "id": "PL7B6IFDs5dJ",
        "colab_type": "code",
        "colab": {}
      },
      "source": [
        ""
      ],
      "execution_count": 0,
      "outputs": []
    }
  ]
}