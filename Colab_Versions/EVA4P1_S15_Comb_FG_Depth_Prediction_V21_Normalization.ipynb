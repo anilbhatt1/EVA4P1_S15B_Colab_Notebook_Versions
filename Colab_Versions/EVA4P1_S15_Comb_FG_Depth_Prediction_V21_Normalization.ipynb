{
  "nbformat": 4,
  "nbformat_minor": 0,
  "metadata": {
    "colab": {
      "name": "EVA4P1_S15_Comb_FG_Depth_Prediction_V21_Normalization.ipynb",
      "provenance": [],
      "collapsed_sections": []
    },
    "kernelspec": {
      "name": "python3",
      "display_name": "Python 3"
    },
    "accelerator": "GPU"
  },
  "cells": [
    {
      "cell_type": "code",
      "metadata": {
        "id": "gZ9sM8csWAaQ",
        "colab_type": "code",
        "outputId": "a7032f93-9cee-49a6-ec47-16cf8cfe7820",
        "colab": {
          "base_uri": "https://localhost:8080/",
          "height": 312
        }
      },
      "source": [
        "! nvidia-smi"
      ],
      "execution_count": 1,
      "outputs": [
        {
          "output_type": "stream",
          "text": [
            "Wed Jun  3 08:14:42 2020       \n",
            "+-----------------------------------------------------------------------------+\n",
            "| NVIDIA-SMI 440.82       Driver Version: 418.67       CUDA Version: 10.1     |\n",
            "|-------------------------------+----------------------+----------------------+\n",
            "| GPU  Name        Persistence-M| Bus-Id        Disp.A | Volatile Uncorr. ECC |\n",
            "| Fan  Temp  Perf  Pwr:Usage/Cap|         Memory-Usage | GPU-Util  Compute M. |\n",
            "|===============================+======================+======================|\n",
            "|   0  Tesla K80           Off  | 00000000:00:04.0 Off |                    0 |\n",
            "| N/A   57C    P8    30W / 149W |      0MiB / 11441MiB |      0%      Default |\n",
            "+-------------------------------+----------------------+----------------------+\n",
            "                                                                               \n",
            "+-----------------------------------------------------------------------------+\n",
            "| Processes:                                                       GPU Memory |\n",
            "|  GPU       PID   Type   Process name                             Usage      |\n",
            "|=============================================================================|\n",
            "|  No running processes found                                                 |\n",
            "+-----------------------------------------------------------------------------+\n"
          ],
          "name": "stdout"
        }
      ]
    },
    {
      "cell_type": "code",
      "metadata": {
        "id": "GkJil2APWK1n",
        "colab_type": "code",
        "outputId": "d7b74ac9-e4da-4144-e411-ba4e0f6e26fb",
        "colab": {
          "base_uri": "https://localhost:8080/",
          "height": 124
        }
      },
      "source": [
        "from google.colab import drive\n",
        "drive.mount('/content/gdrive')"
      ],
      "execution_count": 2,
      "outputs": [
        {
          "output_type": "stream",
          "text": [
            "Go to this URL in a browser: https://accounts.google.com/o/oauth2/auth?client_id=947318989803-6bn6qk8qdgf4n4g3pfee6491hc0brc4i.apps.googleusercontent.com&redirect_uri=urn%3aietf%3awg%3aoauth%3a2.0%3aoob&response_type=code&scope=email%20https%3a%2f%2fwww.googleapis.com%2fauth%2fdocs.test%20https%3a%2f%2fwww.googleapis.com%2fauth%2fdrive%20https%3a%2f%2fwww.googleapis.com%2fauth%2fdrive.photos.readonly%20https%3a%2f%2fwww.googleapis.com%2fauth%2fpeopleapi.readonly\n",
            "\n",
            "Enter your authorization code:\n",
            "··········\n",
            "Mounted at /content/gdrive\n"
          ],
          "name": "stdout"
        }
      ]
    },
    {
      "cell_type": "code",
      "metadata": {
        "id": "9ftTiFRiWRMc",
        "colab_type": "code",
        "outputId": "03440ab5-e895-40b4-d4f6-6f7904a8d990",
        "colab": {
          "base_uri": "https://localhost:8080/",
          "height": 193
        }
      },
      "source": [
        "import warnings\n",
        "warnings.filterwarnings('ignore')\n",
        "import zipfile\n",
        "from zipfile import ZipFile\n",
        "from pathlib import Path\n",
        "from time import time\n",
        "from datetime import datetime \n",
        "from __future__ import print_function\n",
        "import torch\n",
        "import torchvision\n",
        "from torchvision import transforms\n",
        "from torch.utils.data import DataLoader, Dataset\n",
        "import torch.nn as nn\n",
        "import torch.nn.functional as F\n",
        "import torch.optim as optim\n",
        "import numpy as np\n",
        "from tqdm import tqdm\n",
        "from PIL import Image\n",
        "from tqdm import tqdm_notebook\n",
        "import matplotlib.pyplot as plt\n",
        "import cv2\n",
        "import pkgutil\n",
        "import importlib\n",
        "import os\n",
        "%matplotlib inline\n",
        "%config IPCompleter.greedy=True\n",
        "%reload_ext autoreload\n",
        "import seaborn as sns\n",
        "import io\n",
        "import skimage\n",
        "from skimage.transform import resize\n",
        "from itertools import groupby\n",
        "from tqdm.auto import tqdm\n",
        "import gc\n",
        "sns.set()\n",
        "\n",
        "#import albumentations\n",
        "#print(albumentations.__version__) # check version\n",
        "\n",
        "# This is to install and use albumentations latest package v0.4.5\n",
        "#album_version_needed = \"0.4.5\"\n",
        "#if albumentations.__version__ != album_version_needed:\n",
        "#  !pip install albumentations==0.4.5   # 0.4.5 is the latest albumentation version\n",
        "print('Pytorch version:', torch.__version__)\n",
        "\n",
        "!pip install kornia\n",
        "from kornia.losses import SSIM\n",
        "from kornia.losses import DiceLoss"
      ],
      "execution_count": 3,
      "outputs": [
        {
          "output_type": "stream",
          "text": [
            "Pytorch version: 1.5.0+cu101\n",
            "Collecting kornia\n",
            "\u001b[?25l  Downloading https://files.pythonhosted.org/packages/c2/60/f0c174c4a2a40b10b04b37c43f5afee3701cc145b48441a2dc5cf9286c3c/kornia-0.3.1-py2.py3-none-any.whl (158kB)\n",
            "\u001b[K     |████████████████████████████████| 163kB 3.5MB/s \n",
            "\u001b[?25hRequirement already satisfied: numpy in /usr/local/lib/python3.6/dist-packages (from kornia) (1.18.4)\n",
            "Requirement already satisfied: torch==1.5.0 in /usr/local/lib/python3.6/dist-packages (from kornia) (1.5.0+cu101)\n",
            "Requirement already satisfied: future in /usr/local/lib/python3.6/dist-packages (from torch==1.5.0->kornia) (0.16.0)\n",
            "Installing collected packages: kornia\n",
            "Successfully installed kornia-0.3.1\n"
          ],
          "name": "stdout"
        }
      ]
    },
    {
      "cell_type": "markdown",
      "metadata": {
        "id": "ryw6xJHabr6P",
        "colab_type": "text"
      },
      "source": [
        "### Unzip FG_BG, Mask, Depth and corresponding BG images from gdrive"
      ]
    },
    {
      "cell_type": "code",
      "metadata": {
        "id": "CSdM6C_yWVn0",
        "colab_type": "code",
        "outputId": "380309b5-25f8-4d3d-8760-91e6fb2e75d1",
        "colab": {
          "base_uri": "https://localhost:8080/",
          "height": 35
        }
      },
      "source": [
        "t1 = time()\n",
        "!unzip -q \"/content/gdrive/My Drive/EVA4P1_S15/FG_BG_Mask_Depth/FG_BG_400K.zip\"\n",
        "!unzip -q \"/content/gdrive/My Drive/EVA4P1_S15/FG_BG_Mask_Depth/FG_BG_Mask_400K.zip\"\n",
        "!unzip -q \"/content/gdrive/My Drive/EVA4P1_S15/FG_BG_Mask_Depth/FG_BG_Depth_400K.zip\"\n",
        "!unzip -q \"/content/gdrive/My Drive/EVA4P1_S15/FG_BG_Mask_Depth/BG_and_Its_Flip.zip\"\n",
        "t2 = time()\n",
        "print(f'FG_BG, Mask & Depth Copy took {(t2-t1)/60:.5f} minutes')"
      ],
      "execution_count": 4,
      "outputs": [
        {
          "output_type": "stream",
          "text": [
            "FG_BG, Mask & Depth Copy took 5.57509 minutes\n"
          ],
          "name": "stdout"
        }
      ]
    },
    {
      "cell_type": "markdown",
      "metadata": {
        "id": "GpxgXh-Pb3io",
        "colab_type": "text"
      },
      "source": [
        "### Copying Log file that contains FG_BG file names, their path in gdrive & corresponding BG file name from which they were made "
      ]
    },
    {
      "cell_type": "code",
      "metadata": {
        "id": "oIJN4rz4WWWV",
        "colab_type": "code",
        "outputId": "b6196455-29c7-4596-b923-56ab681d9c63",
        "colab": {
          "base_uri": "https://localhost:8080/",
          "height": 35
        }
      },
      "source": [
        "if os.path.exists('/content/FG_BG_Filename_withflip_Logs.txt'):\n",
        "    print('Log file exists')    \n",
        "else:  \n",
        "    !cp '/content/gdrive/My Drive/EVA4P1_S15/FG_BG_Mask_Depth/FG_BG_Filename_withflip_Logs.txt' '/content/'\n",
        "    print('Copied Log File')"
      ],
      "execution_count": 5,
      "outputs": [
        {
          "output_type": "stream",
          "text": [
            "Copied Log File\n"
          ],
          "name": "stdout"
        }
      ]
    },
    {
      "cell_type": "markdown",
      "metadata": {
        "id": "-ldmOB9fb17X",
        "colab_type": "text"
      },
      "source": [
        "### Copying SRC libraries from Github to Colab."
      ]
    },
    {
      "cell_type": "code",
      "metadata": {
        "id": "365ZadqFWZ-c",
        "colab_type": "code",
        "outputId": "63342dc0-a904-42d0-c7f3-d67d64f1fa1e",
        "colab": {
          "base_uri": "https://localhost:8080/",
          "height": 139
        }
      },
      "source": [
        "# Copying the code from github to colab\n",
        "os.chdir('/content/')\n",
        "!git clone https://github.com/anilbhatt1/EVA4P1_S15B_Depth_FG_Detection"
      ],
      "execution_count": 6,
      "outputs": [
        {
          "output_type": "stream",
          "text": [
            "Cloning into 'EVA4P1_S15B_Depth_FG_Detection'...\n",
            "remote: Enumerating objects: 18, done.\u001b[K\n",
            "remote: Counting objects: 100% (18/18), done.\u001b[K\n",
            "remote: Compressing objects: 100% (18/18), done.\u001b[K\n",
            "remote: Total 459 (delta 10), reused 0 (delta 0), pack-reused 441\u001b[K\n",
            "Receiving objects: 100% (459/459), 14.90 MiB | 23.87 MiB/s, done.\n",
            "Resolving deltas: 100% (227/227), done.\n"
          ],
          "name": "stdout"
        }
      ]
    },
    {
      "cell_type": "code",
      "metadata": {
        "id": "a2YKMJZ7WcCW",
        "colab_type": "code",
        "outputId": "07b3f8f6-deec-410f-a0ea-6b58579908b1",
        "colab": {
          "base_uri": "https://localhost:8080/",
          "height": 52
        }
      },
      "source": [
        "%cd '/content/EVA4P1_S15B_Depth_FG_Detection/src/losses'\n",
        "! ls"
      ],
      "execution_count": 7,
      "outputs": [
        {
          "output_type": "stream",
          "text": [
            "/content/EVA4P1_S15B_Depth_FG_Detection/src/losses\n",
            "Test1.py  Test2.py  Test.py  Train1.py\tTrain2.py  Train.py\n"
          ],
          "name": "stdout"
        }
      ]
    },
    {
      "cell_type": "markdown",
      "metadata": {
        "id": "0xhECrP-cPBP",
        "colab_type": "text"
      },
      "source": [
        "### Importing modules from Colab data folder to Colab session "
      ]
    },
    {
      "cell_type": "code",
      "metadata": {
        "id": "dBOiObzIWeNN",
        "colab_type": "code",
        "colab": {}
      },
      "source": [
        "os.chdir('/content/EVA4P1_S15B_Depth_FG_Detection/')\n",
        "import src\n",
        "from src.dataset import datatransforms as dtf\n",
        "from src.dataset import makedata as md\n",
        "from src.dataset import make1data as md1\n",
        "from src.dataset import Alb_data_transforms as Alb\n",
        "from src.models  import S15_FGDepth_models as ntwk\n",
        "from src.losses  import Train as Train\n",
        "from src.losses  import Test  as Test\n",
        "from src.losses  import Train1 as Train1\n",
        "from src.losses  import Test1  as Test1\n",
        "from src.losses  import Train2 as Train2\n",
        "from src.losses  import Test2  as Test2\n",
        "from src.utils   import Freeze_Layers as Freeze"
      ],
      "execution_count": 0,
      "outputs": []
    },
    {
      "cell_type": "markdown",
      "metadata": {
        "id": "47tdnjOucXK2",
        "colab_type": "text"
      },
      "source": [
        "### Creating a list - content_list for FG_BG log file. This content_list will be used to create dataloader to pick-up input images randomly for both training and testing"
      ]
    },
    {
      "cell_type": "code",
      "metadata": {
        "id": "8ShOH6sMWgJT",
        "colab_type": "code",
        "outputId": "dd8657c7-2076-4cb2-d518-d333dc435b4e",
        "colab": {
          "base_uri": "https://localhost:8080/",
          "height": 69
        }
      },
      "source": [
        "log_fg_bg = open('/content/FG_BG_Filename_withflip_Logs.txt',\"r\")\n",
        "content_list = log_fg_bg.readlines()\n",
        "print('No: of records in log_fg_bg:',len(content_list))\n",
        "print(content_list[0])\n",
        "log_fg_bg.close()\n",
        "\n",
        "data_root = Path('/content')\n",
        "f1, f2, f3, f4 = data_root/'FG_BG_400K', data_root/'BG_and_Its_Flip', data_root/'FG_BG_Mask_400K',  \\\n",
        "                 data_root/'FG_BG_Depth_0_400K'"
      ],
      "execution_count": 9,
      "outputs": [
        {
          "output_type": "stream",
          "text": [
            "No: of records in log_fg_bg: 400000\n",
            "Img_fg_bg_1.jpg,Img21.jpg,Image41.png,(192, 192, 108, 156, 51, 3, 159, 3, 51, 159, 159, 159)\n",
            "\n"
          ],
          "name": "stdout"
        }
      ]
    },
    {
      "cell_type": "code",
      "metadata": {
        "id": "5W7O91zfWiUk",
        "colab_type": "code",
        "colab": {}
      },
      "source": [
        "bs_small  = 96\n",
        "bs_medium = 96\n",
        "bs_large  = 16\n",
        "bs_test   = 96\n",
        "bs_display= 8\n",
        "rows = 5\n",
        "img_save, model_save = 1500, 500\n",
        "t0k, t10k, t80k, t160k, t220k, t260k, t280k, t360k, t390k, t400k  = 0, 10000, 80000, 160000, 220000,\\\n",
        "                                                                             260000, 280000, 360000,\\\n",
        "                                                                                     390000, 400000"
      ],
      "execution_count": 0,
      "outputs": []
    },
    {
      "cell_type": "markdown",
      "metadata": {
        "id": "kfNA1teHcklW",
        "colab_type": "text"
      },
      "source": [
        "### Creating tranforms. For test data, GT mask & GT depth only 'To Tensor' & 'Resize' is used."
      ]
    },
    {
      "cell_type": "code",
      "metadata": {
        "id": "rOVqm2bxy1MK",
        "colab_type": "code",
        "colab": {}
      },
      "source": [
        "import albumentations as A\n",
        "lst = [(64,64),(96,96),(192,192)]\n",
        "fg_bg_mean, fg_bg_stdev                    = [0.56670278, 0.49779153, 0.43632878], [0.25049532, 0.2468085, 0.25520498]\n",
        "mask_mean,  mask_stdev                     = [0.20249742], [0.39961225]\n",
        "depth_mean, depth_stdev                    = [0.32939295], [0.24930712]\n",
        "bg_mean, bg_stdev                          = [0.58245822, 0.51269352, 0.43691653], [0.24252189, 0.24318804, 0.25401604]\n",
        "#fg_bg_mean, fg_bg_stdev                    = [144.5, 126.9, 111.26], [63.88, 62.94, 65.08]\n",
        "#mask_mean,  mask_stdev                     = [51.6], [101.9]\n",
        "#depth_mean, depth_stdev                    = [83.995], [63.57]\n",
        "#bg_mean, bg_stdev                          = [148.53, 130.74, 111.41], [61.84, 62.01, 64.77]\n",
        "fg_bg_transforms, bg_transforms, mask_transforms, depth_transforms = {}, {}, {}, {}\n",
        "test_fg_bg_transforms, test_bg_transforms                          = {}, {}\n",
        "for i in range(len(lst)):\n",
        "    ht, wd = lst[i]\n",
        "    cut_out_size = int(ht/4)\n",
        "    fg_bg_transforms[\"t_{0}\".format(i)] = Alb.Albumentations_transform([A.Resize(ht,wd,always_apply=True,p=1),\n",
        "                                                                     A.IAAAdditiveGaussianNoise(),\n",
        "                                                                     A.RGBShift(r_shift_limit=50, g_shift_limit=50, b_shift_limit=50, p=0.5),\n",
        "                                                                     A.Normalize(mean=fg_bg_mean, std=fg_bg_stdev),\n",
        "                                                                     A.Cutout(num_holes=1,max_h_size=cut_out_size,max_w_size=cut_out_size),])\n",
        "    bg_transforms[\"t_{0}\".format(i)]    = Alb.Albumentations_transform([A.Resize(ht,wd,always_apply=True,p=1),\n",
        "                                                                     A.IAAAdditiveGaussianNoise(),\n",
        "                                                                     A.RGBShift(r_shift_limit=50, g_shift_limit=50, b_shift_limit=50, p=0.5),\n",
        "                                                                     A.Normalize(mean=bg_mean, std=bg_stdev),])\n",
        "    mask_transforms[\"t_{0}\".format(i)]  = Alb.Albumentations_transform([A.Resize(ht,wd,always_apply=True,p=1),\n",
        "                                                                     A.Normalize(mean=mask_mean, std=mask_stdev),])\n",
        "    depth_transforms[\"t_{0}\".format(i)] = Alb.Albumentations_transform([A.Resize(ht,wd,always_apply=True,p=1),\n",
        "                                                                     A.Normalize(mean=depth_mean, std=depth_stdev),])\n",
        "    test_fg_bg_transforms[\"t_{0}\" .format(i)]  = Alb.Albumentations_transform([A.Resize(ht,wd,always_apply=True,p=1),\n",
        "                                                                              A.Normalize(mean=fg_bg_mean, std=fg_bg_stdev),])\n",
        "    test_bg_transforms[\"t_{0}\" .format(i)]        = Alb.Albumentations_transform([A.Resize(ht,wd,always_apply=True,p=1),\n",
        "                                                                              A.Normalize(mean=bg_mean, std=bg_stdev),])"
      ],
      "execution_count": 0,
      "outputs": []
    },
    {
      "cell_type": "code",
      "metadata": {
        "id": "IyPn7v5wCnKD",
        "colab_type": "code",
        "outputId": "11da8946-ddc6-47db-8d94-0e8b4e257088",
        "colab": {
          "base_uri": "https://localhost:8080/",
          "height": 141
        }
      },
      "source": [
        "print(fg_bg_transforms)\n",
        "print(bg_transforms)\n",
        "print(mask_transforms)\n",
        "print(depth_transforms)\n",
        "print(test_fg_bg_transforms)\n",
        "print(test_bg_transforms)"
      ],
      "execution_count": 12,
      "outputs": [
        {
          "output_type": "stream",
          "text": [
            "{'t_0': <src.dataset.Alb_data_transforms.Albumentations_transform object at 0x7f1b7f3780b8>, 't_1': <src.dataset.Alb_data_transforms.Albumentations_transform object at 0x7f1b7f3789b0>, 't_2': <src.dataset.Alb_data_transforms.Albumentations_transform object at 0x7f1b7f3772e8>}\n",
            "{'t_0': <src.dataset.Alb_data_transforms.Albumentations_transform object at 0x7f1b7f378278>, 't_1': <src.dataset.Alb_data_transforms.Albumentations_transform object at 0x7f1b7f378b70>, 't_2': <src.dataset.Alb_data_transforms.Albumentations_transform object at 0x7f1b7f3774a8>}\n",
            "{'t_0': <src.dataset.Alb_data_transforms.Albumentations_transform object at 0x7f1b7f3783c8>, 't_1': <src.dataset.Alb_data_transforms.Albumentations_transform object at 0x7f1b7f378cc0>, 't_2': <src.dataset.Alb_data_transforms.Albumentations_transform object at 0x7f1b7f3775f8>}\n",
            "{'t_0': <src.dataset.Alb_data_transforms.Albumentations_transform object at 0x7f1b7f378518>, 't_1': <src.dataset.Alb_data_transforms.Albumentations_transform object at 0x7f1b7f378e10>, 't_2': <src.dataset.Alb_data_transforms.Albumentations_transform object at 0x7f1b7f377748>}\n",
            "{'t_0': <src.dataset.Alb_data_transforms.Albumentations_transform object at 0x7f1b7f378668>, 't_1': <src.dataset.Alb_data_transforms.Albumentations_transform object at 0x7f1b7f378f60>, 't_2': <src.dataset.Alb_data_transforms.Albumentations_transform object at 0x7f1b7f377898>}\n",
            "{'t_0': <src.dataset.Alb_data_transforms.Albumentations_transform object at 0x7f1b7f3787b8>, 't_1': <src.dataset.Alb_data_transforms.Albumentations_transform object at 0x7f1b7f3770f0>, 't_2': <src.dataset.Alb_data_transforms.Albumentations_transform object at 0x7f1b7f3779e8>}\n"
          ],
          "name": "stdout"
        }
      ]
    },
    {
      "cell_type": "markdown",
      "metadata": {
        "id": "mdfVmZfWdT-O",
        "colab_type": "text"
      },
      "source": [
        "### Creating dataloader using content_list. Since total 280K images are present in training set, 5 cohorts are created to manage the training volume.\n",
        "- 0 - 80k    -> size 64x64    \n",
        "- 80k - 160k -> size 64x64    \n",
        "- 160k -220k -> size 64x64    \n",
        "- 220k -260k -> size 96x96    \n",
        "- 260k -280k -> size 192x192  \n",
        "- 280k -400k -> size 64x64 -> Test dataset"
      ]
    },
    {
      "cell_type": "code",
      "metadata": {
        "id": "NMDOfnAr_f5-",
        "colab_type": "code",
        "colab": {}
      },
      "source": [
        "train_ds_mini_1    = md1.Make1data(f1, content_list, 0, 1000,  \n",
        "                             fg_bg_transforms['t_0'],bg_transforms['t_0'],mask_transforms['t_0'],depth_transforms['t_0'])\n",
        "train_ds_mini_2    = md1.Make1data(f1, content_list, 1000, 2000,  \n",
        "                             fg_bg_transforms['t_0'],bg_transforms['t_0'],mask_transforms['t_0'],depth_transforms['t_0'])\n",
        "train_ds_mini_3    = md1.Make1data(f1, content_list, t160k, t220k,  \n",
        "                             fg_bg_transforms['t_0'],bg_transforms['t_0'],mask_transforms['t_0'],depth_transforms['t_0'])\n",
        "train_ds_medium    = md1.Make1data(f1, content_list, t220k, t260k,  \n",
        "                             fg_bg_transforms['t_1'],bg_transforms['t_1'],mask_transforms['t_1'],depth_transforms['t_1'])\n",
        "train_ds_large   = md1.Make1data(f1, content_list, t260k, t280k,  \n",
        "                             fg_bg_transforms['t_2'],bg_transforms['t_2'],mask_transforms['t_2'],depth_transforms['t_2'])\n",
        "test_ds          = md1.Make1data(f1, content_list, t280k, t400k,  \n",
        "                             test_fg_bg_transforms['t_0'],test_bg_transforms['t_0'],mask_transforms['t_0'],depth_transforms['t_0'])"
      ],
      "execution_count": 0,
      "outputs": []
    },
    {
      "cell_type": "code",
      "metadata": {
        "id": "B0cZRNZVFrO-",
        "colab_type": "code",
        "colab": {}
      },
      "source": [
        "train_dl_mini_1  = DataLoader(train_ds_mini_1, batch_size = bs_small,shuffle = True, pin_memory = True)\n",
        "train_dl_mini_2  = DataLoader(train_ds_mini_2, batch_size = bs_small,shuffle = True, pin_memory = True)\n",
        "train_dl_mini_3  = DataLoader(train_ds_mini_3, batch_size = bs_small,  shuffle = True, pin_memory = True)\n",
        "train_dl_medium  = DataLoader(train_ds_medium, batch_size = bs_medium, shuffle = True, pin_memory = True)\n",
        "train_dl_large   = DataLoader(train_ds_large,  batch_size = bs_large, shuffle = True, pin_memory = True)\n",
        "test_dl          = DataLoader(test_ds,         batch_size = bs_test,  shuffle = True, pin_memory = True)"
      ],
      "execution_count": 0,
      "outputs": []
    },
    {
      "cell_type": "code",
      "metadata": {
        "id": "GwEG4q15CpW7",
        "colab_type": "code",
        "colab": {}
      },
      "source": [
        "test_ds_display = md1.Make1data(f1, content_list, 399000, 400000,  \n",
        "                  test_fg_bg_transforms['t_0'],test_bg_transforms['t_0'],mask_transforms['t_0'],depth_transforms['t_0'])\n",
        "test_dl_display = DataLoader(test_ds_display, batch_size = bs_display,  shuffle = True, pin_memory = True)"
      ],
      "execution_count": 0,
      "outputs": []
    },
    {
      "cell_type": "markdown",
      "metadata": {
        "id": "Nzb6rpkIeG_B",
        "colab_type": "text"
      },
      "source": [
        "### To check if batch & sizes are coming correctly & whether dataloader and transforms are working as expected"
      ]
    },
    {
      "cell_type": "code",
      "metadata": {
        "id": "lSXrGV2aHHYw",
        "colab_type": "code",
        "colab": {}
      },
      "source": [
        "images_mini_1 = next(iter(train_dl_mini_1))\n",
        "images_mini_2 = next(iter(train_dl_mini_2))\n",
        "images_mini_3 = next(iter(train_dl_mini_3))\n",
        "images_medium = next(iter(train_dl_medium))\n",
        "images_large  = next(iter(train_dl_large))\n",
        "images_test   = next(iter(test_dl))"
      ],
      "execution_count": 0,
      "outputs": []
    },
    {
      "cell_type": "code",
      "metadata": {
        "id": "LtFLGucvJHFA",
        "colab_type": "code",
        "outputId": "ddcca1ac-947e-4420-a38a-cb33b08c6a1a",
        "colab": {
          "base_uri": "https://localhost:8080/",
          "height": 141
        }
      },
      "source": [
        "print('B1:',[(k, v.shape) for k, v in images_mini_1.items()])\n",
        "print('B2:',[(k, v.shape) for k, v in images_mini_2.items()])\n",
        "print('B3:',[(k, v.shape) for k, v in images_mini_3.items()])\n",
        "print('B4:',[(k, v.shape) for k, v in images_medium.items()])\n",
        "print('B5:',[(k, v.shape) for k, v in images_large.items()])\n",
        "print('B6:',[(k, v.shape) for k, v in images_test.items()])"
      ],
      "execution_count": 17,
      "outputs": [
        {
          "output_type": "stream",
          "text": [
            "B1: [('f1', torch.Size([96, 3, 64, 64])), ('f2', torch.Size([96, 3, 64, 64])), ('f3', torch.Size([96, 1, 64, 64])), ('f4', torch.Size([96, 1, 64, 64]))]\n",
            "B2: [('f1', torch.Size([96, 3, 64, 64])), ('f2', torch.Size([96, 3, 64, 64])), ('f3', torch.Size([96, 1, 64, 64])), ('f4', torch.Size([96, 1, 64, 64]))]\n",
            "B3: [('f1', torch.Size([96, 3, 64, 64])), ('f2', torch.Size([96, 3, 64, 64])), ('f3', torch.Size([96, 1, 64, 64])), ('f4', torch.Size([96, 1, 64, 64]))]\n",
            "B4: [('f1', torch.Size([96, 3, 96, 96])), ('f2', torch.Size([96, 3, 96, 96])), ('f3', torch.Size([96, 1, 96, 96])), ('f4', torch.Size([96, 1, 96, 96]))]\n",
            "B5: [('f1', torch.Size([16, 3, 192, 192])), ('f2', torch.Size([16, 3, 192, 192])), ('f3', torch.Size([16, 1, 192, 192])), ('f4', torch.Size([16, 1, 192, 192]))]\n",
            "B6: [('f1', torch.Size([96, 3, 64, 64])), ('f2', torch.Size([96, 3, 64, 64])), ('f3', torch.Size([96, 1, 64, 64])), ('f4', torch.Size([96, 1, 64, 64]))]\n"
          ],
          "name": "stdout"
        }
      ]
    },
    {
      "cell_type": "markdown",
      "metadata": {
        "id": "uClLYQlieL4J",
        "colab_type": "text"
      },
      "source": [
        "### To display images created out of dataloader & transform to ensure images are coming out for display correctly"
      ]
    },
    {
      "cell_type": "code",
      "metadata": {
        "id": "LhIlGRCwVUbp",
        "colab_type": "code",
        "colab": {}
      },
      "source": [
        "imgs = images_mini_1['f3']"
      ],
      "execution_count": 0,
      "outputs": []
    },
    {
      "cell_type": "code",
      "metadata": {
        "id": "sRv6-HnOViYJ",
        "colab_type": "code",
        "colab": {}
      },
      "source": [
        "def show(tensors, mean, stdev, figsize= (10,10), *args, **kwargs):\n",
        "\n",
        "  tensor_mean   = mean\n",
        "  tensor_stdev  = stdev\n",
        "  for i in range(tensors.shape[0]):\n",
        "      if tensors.shape[1] ==3:\n",
        "        for j in range(0,3):  \n",
        "          tensors[i,j] = ((tensors[i,j] * tensor_stdev[j]) + tensor_mean[j])\n",
        "      if tensors.shape[1] ==1:\n",
        "        for j in range(0,1):  \n",
        "          tensors[i,j] = ((tensors[i,j] * tensor_stdev[j]) + tensor_mean[j])\n",
        "\n",
        "  grid_tensor = torchvision.utils.make_grid(tensors, *args, **kwargs)  \n",
        "  grid_image  = grid_tensor.permute(1, 2, 0)\n",
        "  plt.figure(figsize = figsize)\n",
        "  plt.imshow(grid_image)\n",
        "  plt.xticks([])  \n",
        "  plt.yticks([])\n",
        "  plt.show()"
      ],
      "execution_count": 0,
      "outputs": []
    },
    {
      "cell_type": "code",
      "metadata": {
        "id": "wdL1teF-VlNV",
        "colab_type": "code",
        "outputId": "1bf8a343-5feb-4a3c-f882-ece42a984722",
        "colab": {
          "base_uri": "https://localhost:8080/",
          "height": 575
        }
      },
      "source": [
        "show(imgs, mask_mean, mask_stdev, nrow=rows)"
      ],
      "execution_count": 20,
      "outputs": [
        {
          "output_type": "display_data",
          "data": {
            "image/png": "[encoded data removed]",
            "text/plain": [
              "<Figure size 720x720 with 1 Axes>"
            ]
          },
          "metadata": {
            "tags": []
          }
        }
      ]
    },
    {
      "cell_type": "markdown",
      "metadata": {
        "id": "jINiT241dXTs",
        "colab_type": "text"
      },
      "source": [
        "### Initializing the model and assigning it to Cuda"
      ]
    },
    {
      "cell_type": "code",
      "metadata": {
        "id": "k1kkYfEEXCWA",
        "colab_type": "code",
        "outputId": "ad64c161-2a88-4bda-ccc9-f4b88c96d981",
        "colab": {
          "base_uri": "https://localhost:8080/",
          "height": 1000
        }
      },
      "source": [
        "model = ntwk.FGDepth()\n",
        "use_cuda = torch.cuda.is_available()\n",
        "model.device = torch.device(\"cuda\" if use_cuda else \"cpu\")\n",
        "model.to(model.device)"
      ],
      "execution_count": 21,
      "outputs": [
        {
          "output_type": "execute_result",
          "data": {
            "text/plain": [
              "FGDepth(\n",
              "  (convA): Sequential(\n",
              "    (0): Conv2d(6, 32, kernel_size=(3, 3), stride=(1, 1), padding=(1, 1), bias=False)\n",
              "    (1): BatchNorm2d(32, eps=1e-05, momentum=0.1, affine=True, track_running_stats=True)\n",
              "    (2): ReLU()\n",
              "  )\n",
              "  (convB): Sequential(\n",
              "    (0): Conv2d(32, 32, kernel_size=(3, 3), stride=(1, 1), padding=(1, 1), groups=32, bias=False)\n",
              "    (1): Conv2d(32, 64, kernel_size=(1, 1), stride=(1, 1), bias=False)\n",
              "    (2): BatchNorm2d(64, eps=1e-05, momentum=0.1, affine=True, track_running_stats=True)\n",
              "    (3): ReLU()\n",
              "  )\n",
              "  (convC): Sequential(\n",
              "    (0): Conv2d(64, 128, kernel_size=(3, 3), stride=(1, 1), padding=(1, 1), bias=False)\n",
              "    (1): BatchNorm2d(128, eps=1e-05, momentum=0.1, affine=True, track_running_stats=True)\n",
              "    (2): ReLU()\n",
              "  )\n",
              "  (convD): Sequential(\n",
              "    (0): Conv2d(128, 64, kernel_size=(3, 3), stride=(1, 1), padding=(1, 1), bias=False)\n",
              "  )\n",
              "  (convE): Sequential(\n",
              "    (0): Conv2d(64, 1, kernel_size=(3, 3), stride=(1, 1), padding=(1, 1), bias=False)\n",
              "  )\n",
              "  (blck1): DownSize(\n",
              "    (conv1): Conv2d(64, 128, kernel_size=(3, 3), stride=(2, 2), padding=(1, 1), bias=False)\n",
              "    (conv12): Conv2d(128, 128, kernel_size=(1, 1), stride=(1, 1), bias=False)\n",
              "    (bn1): BatchNorm2d(128, eps=1e-05, momentum=0.1, affine=True, track_running_stats=True)\n",
              "    (relu): ReLU()\n",
              "    (conv2): Conv2d(128, 128, kernel_size=(3, 3), stride=(1, 1), padding=(1, 1), bias=False)\n",
              "    (conv22): Conv2d(128, 128, kernel_size=(1, 1), stride=(1, 1), bias=False)\n",
              "    (bn2): BatchNorm2d(128, eps=1e-05, momentum=0.1, affine=True, track_running_stats=True)\n",
              "    (conv1x1down): Conv2d(64, 128, kernel_size=(1, 1), stride=(2, 2), bias=False)\n",
              "  )\n",
              "  (blck2): DownSize(\n",
              "    (conv1): Conv2d(128, 256, kernel_size=(3, 3), stride=(2, 2), padding=(1, 1), bias=False)\n",
              "    (conv12): Conv2d(256, 256, kernel_size=(1, 1), stride=(1, 1), bias=False)\n",
              "    (bn1): BatchNorm2d(256, eps=1e-05, momentum=0.1, affine=True, track_running_stats=True)\n",
              "    (relu): ReLU()\n",
              "    (conv2): Conv2d(256, 256, kernel_size=(3, 3), stride=(1, 1), padding=(1, 1), bias=False)\n",
              "    (conv22): Conv2d(256, 256, kernel_size=(1, 1), stride=(1, 1), bias=False)\n",
              "    (bn2): BatchNorm2d(256, eps=1e-05, momentum=0.1, affine=True, track_running_stats=True)\n",
              "    (conv1x1down): Conv2d(128, 256, kernel_size=(1, 1), stride=(2, 2), bias=False)\n",
              "  )\n",
              "  (blck3): DownSize(\n",
              "    (conv1): Conv2d(256, 256, kernel_size=(3, 3), stride=(2, 2), padding=(1, 1), bias=False)\n",
              "    (conv12): Conv2d(256, 256, kernel_size=(1, 1), stride=(1, 1), bias=False)\n",
              "    (bn1): BatchNorm2d(256, eps=1e-05, momentum=0.1, affine=True, track_running_stats=True)\n",
              "    (relu): ReLU()\n",
              "    (conv2): Conv2d(256, 256, kernel_size=(3, 3), stride=(1, 1), padding=(1, 1), bias=False)\n",
              "    (conv22): Conv2d(256, 256, kernel_size=(1, 1), stride=(1, 1), bias=False)\n",
              "    (bn2): BatchNorm2d(256, eps=1e-05, momentum=0.1, affine=True, track_running_stats=True)\n",
              "    (conv1x1down): Conv2d(256, 256, kernel_size=(1, 1), stride=(2, 2), bias=False)\n",
              "  )\n",
              "  (blck4): DownSize(\n",
              "    (conv1): Conv2d(256, 256, kernel_size=(3, 3), stride=(2, 2), padding=(1, 1), bias=False)\n",
              "    (conv12): Conv2d(256, 256, kernel_size=(1, 1), stride=(1, 1), bias=False)\n",
              "    (bn1): BatchNorm2d(256, eps=1e-05, momentum=0.1, affine=True, track_running_stats=True)\n",
              "    (relu): ReLU()\n",
              "    (conv2): Conv2d(256, 256, kernel_size=(3, 3), stride=(1, 1), padding=(1, 1), bias=False)\n",
              "    (conv22): Conv2d(256, 256, kernel_size=(1, 1), stride=(1, 1), bias=False)\n",
              "    (bn2): BatchNorm2d(256, eps=1e-05, momentum=0.1, affine=True, track_running_stats=True)\n",
              "    (conv1x1down): Conv2d(256, 256, kernel_size=(1, 1), stride=(2, 2), bias=False)\n",
              "  )\n",
              "  (blck5): UpSize(\n",
              "    (conv1): Conv2d(256, 256, kernel_size=(3, 3), stride=(1, 1), padding=(1, 1), bias=False)\n",
              "    (conv12): Conv2d(256, 256, kernel_size=(1, 1), stride=(1, 1), bias=False)\n",
              "    (bn1): BatchNorm2d(256, eps=1e-05, momentum=0.1, affine=True, track_running_stats=True)\n",
              "    (relu): ReLU()\n",
              "    (conv2): Conv2d(256, 256, kernel_size=(3, 3), stride=(1, 1), padding=(1, 1), bias=False)\n",
              "    (conv22): Conv2d(256, 256, kernel_size=(1, 1), stride=(1, 1), bias=False)\n",
              "    (bn2): BatchNorm2d(256, eps=1e-05, momentum=0.1, affine=True, track_running_stats=True)\n",
              "    (conv1x1down): ConvTranspose2d(256, 256, kernel_size=(3, 3), stride=(1, 1), padding=(1, 1), bias=False)\n",
              "  )\n",
              "  (blck6): UpSize(\n",
              "    (conv1): Conv2d(256, 256, kernel_size=(3, 3), stride=(1, 1), padding=(1, 1), bias=False)\n",
              "    (conv12): Conv2d(256, 256, kernel_size=(1, 1), stride=(1, 1), bias=False)\n",
              "    (bn1): BatchNorm2d(256, eps=1e-05, momentum=0.1, affine=True, track_running_stats=True)\n",
              "    (relu): ReLU()\n",
              "    (conv2): Conv2d(256, 256, kernel_size=(3, 3), stride=(1, 1), padding=(1, 1), bias=False)\n",
              "    (conv22): Conv2d(256, 256, kernel_size=(1, 1), stride=(1, 1), bias=False)\n",
              "    (bn2): BatchNorm2d(256, eps=1e-05, momentum=0.1, affine=True, track_running_stats=True)\n",
              "    (conv1x1down): ConvTranspose2d(256, 256, kernel_size=(3, 3), stride=(1, 1), padding=(1, 1), bias=False)\n",
              "  )\n",
              "  (blck7): UpSize(\n",
              "    (conv1): Conv2d(128, 128, kernel_size=(3, 3), stride=(1, 1), padding=(1, 1), bias=False)\n",
              "    (conv12): Conv2d(128, 128, kernel_size=(1, 1), stride=(1, 1), bias=False)\n",
              "    (bn1): BatchNorm2d(128, eps=1e-05, momentum=0.1, affine=True, track_running_stats=True)\n",
              "    (relu): ReLU()\n",
              "    (conv2): Conv2d(128, 128, kernel_size=(3, 3), stride=(1, 1), padding=(1, 1), bias=False)\n",
              "    (conv22): Conv2d(128, 128, kernel_size=(1, 1), stride=(1, 1), bias=False)\n",
              "    (bn2): BatchNorm2d(128, eps=1e-05, momentum=0.1, affine=True, track_running_stats=True)\n",
              "    (conv1x1down): ConvTranspose2d(256, 128, kernel_size=(3, 3), stride=(1, 1), padding=(1, 1), bias=False)\n",
              "  )\n",
              "  (blck8): UpSize(\n",
              "    (conv1): Conv2d(64, 64, kernel_size=(3, 3), stride=(1, 1), padding=(1, 1), bias=False)\n",
              "    (conv12): Conv2d(64, 64, kernel_size=(1, 1), stride=(1, 1), bias=False)\n",
              "    (bn1): BatchNorm2d(64, eps=1e-05, momentum=0.1, affine=True, track_running_stats=True)\n",
              "    (relu): ReLU()\n",
              "    (conv2): Conv2d(64, 64, kernel_size=(3, 3), stride=(1, 1), padding=(1, 1), bias=False)\n",
              "    (conv22): Conv2d(64, 64, kernel_size=(1, 1), stride=(1, 1), bias=False)\n",
              "    (bn2): BatchNorm2d(64, eps=1e-05, momentum=0.1, affine=True, track_running_stats=True)\n",
              "    (conv1x1down): ConvTranspose2d(128, 64, kernel_size=(3, 3), stride=(1, 1), padding=(1, 1), bias=False)\n",
              "  )\n",
              "  (convLast): Sequential(\n",
              "    (0): Conv2d(64, 1, kernel_size=(1, 1), stride=(1, 1), bias=False)\n",
              "  )\n",
              ")"
            ]
          },
          "metadata": {
            "tags": []
          },
          "execution_count": 21
        }
      ]
    },
    {
      "cell_type": "markdown",
      "metadata": {
        "id": "4YmPd9c4dcjo",
        "colab_type": "text"
      },
      "source": [
        "### Defining Freeze class. We are using transfer learning & hence this class will be used to freeze the layers as required."
      ]
    },
    {
      "cell_type": "code",
      "metadata": {
        "id": "KJcwSgduXEGW",
        "colab_type": "code",
        "colab": {}
      },
      "source": [
        "freezer = Freeze.Freezer()"
      ],
      "execution_count": 0,
      "outputs": []
    },
    {
      "cell_type": "code",
      "metadata": {
        "id": "3h8IRA53oJGB",
        "colab_type": "code",
        "colab": {}
      },
      "source": [
        "for name, module in model.named_modules():\n",
        "    print('name:',name)"
      ],
      "execution_count": 0,
      "outputs": []
    },
    {
      "cell_type": "markdown",
      "metadata": {
        "id": "m6Kx5hTxdlEF",
        "colab_type": "text"
      },
      "source": [
        "### Defining Loss Criterion & creating scheduler"
      ]
    },
    {
      "cell_type": "code",
      "metadata": {
        "id": "FrKfOUuJXGPA",
        "colab_type": "code",
        "colab": {}
      },
      "source": [
        "criterion1  = nn.BCEWithLogitsLoss()\n",
        "#criterion1  = DiceLoss()\n",
        "kernel_size = 3\n",
        "#criterion1  = SSIM(kernel_size, reduction = 'mean')\n",
        "criterion2  = SSIM(kernel_size, reduction = 'mean')\n",
        "\n",
        "optim = torch.optim.SGD(model.parameters(), lr=0.01, momentum = 0.9, weight_decay = 1e-5)\n",
        "\n",
        "from torch.optim.lr_scheduler import StepLR\n",
        "scheduler = StepLR(optim, step_size=2, gamma=0.1)"
      ],
      "execution_count": 0,
      "outputs": []
    },
    {
      "cell_type": "markdown",
      "metadata": {
        "id": "09RWnhbDdpn-",
        "colab_type": "text"
      },
      "source": [
        "### Defining train & test loss classes"
      ]
    },
    {
      "cell_type": "code",
      "metadata": {
        "id": "-GeO6iIrXH-b",
        "colab_type": "code",
        "colab": {}
      },
      "source": [
        "train_loss_fn = Train2.Training_loss1()\n",
        "test_loss_fn  = Test2.Testing_loss1()"
      ],
      "execution_count": 0,
      "outputs": []
    },
    {
      "cell_type": "markdown",
      "metadata": {
        "id": "BJRO8Y9XduZ-",
        "colab_type": "text"
      },
      "source": [
        "### Reloading model from last saved weights that are present in gdrive"
      ]
    },
    {
      "cell_type": "code",
      "metadata": {
        "id": "mS_Q6nHNXKHF",
        "colab_type": "code",
        "outputId": "730b7e82-99ab-4eb4-8749-a6f85ac2c3d6",
        "colab": {
          "base_uri": "https://localhost:8080/",
          "height": 35
        }
      },
      "source": [
        "path = f'/content/gdrive/My Drive/FG_Depth_Prediction_0531V19A.pt'\n",
        "model.load_state_dict(torch.load(path))"
      ],
      "execution_count": 25,
      "outputs": [
        {
          "output_type": "execute_result",
          "data": {
            "text/plain": [
              "<All keys matched successfully>"
            ]
          },
          "metadata": {
            "tags": []
          },
          "execution_count": 25
        }
      ]
    },
    {
      "cell_type": "code",
      "metadata": {
        "id": "B_46egmcXMM5",
        "colab_type": "code",
        "colab": {}
      },
      "source": [
        "path_name       = '/content/gdrive/My Drive/plots_0602_V20C/'\n",
        "path_model_save = f'/content/gdrive/My Drive/FG_Depth_Prediction_0602V20C.pt'\n",
        "\n",
        "file_name  = 'train_log.txt'\n",
        "log_file    = open(f'{path_name}{file_name}','w')\n",
        "log_file.close()\n",
        "file_name  = 'test_log.txt'\n",
        "log_file   = open(f'{path_name}{file_name}','w') \n",
        "log_file.close()    "
      ],
      "execution_count": 0,
      "outputs": []
    },
    {
      "cell_type": "markdown",
      "metadata": {
        "id": "TulgUgKldzng",
        "colab_type": "text"
      },
      "source": [
        "### Train & Test the model"
      ]
    },
    {
      "cell_type": "code",
      "metadata": {
        "id": "js5UjKCIXVqu",
        "colab_type": "code",
        "outputId": "07345b6e-c67f-4dab-c764-21afd18af14a",
        "colab": {
          "base_uri": "https://localhost:8080/",
          "height": 488
        }
      },
      "source": [
        "train_loss_all, train_mask_loss_all, train_depth_loss_all, train_mask_iou_all, train_depth_iou_all = [], [], [], [], []\n",
        "test_loss_all,  test_mask_loss_all,  test_depth_loss_all,  test_mask_iou_all,  test_depth_iou_all  = [], [], [], [], []\n",
        "\n",
        "for epoch in range(1,3):\n",
        "  train_loss, train_mask_loss, train_depth_loss, train_mask_iou, train_depth_iou = 0, 0, 0, 0, 0\n",
        "  test_loss,  test_mask_loss,  test_depth_loss,  test_mask_iou,  test_depth_iou  = 0, 0, 0, 0, 0\n",
        "  if epoch < 2:\n",
        "     batch_size, loader = bs_small, train_dl_mini_1\n",
        "     #freezer.freeze_mask_layers(model)\n",
        "  elif epoch < 3:\n",
        "     batch_size, loader  = bs_small, train_dl_mini_2\n",
        "     #freezer.freeze_depth_layers(model)   \n",
        "  elif epoch < 4:\n",
        "     batch_size, loader = bs_small,  train_dl_mini_1\n",
        "     freezer.freeze_depth_layers(model)\n",
        "  elif epoch < 5:\n",
        "     batch_size, loader  = bs_small, train_dl_mini_2\n",
        "     freezer.freeze_depth_layers(model)   \n",
        "\n",
        "  train_loss, train_mask_loss, train_depth_loss, train_mask_iou, train_depth_iou = train_loss_fn.train_loss_calc( \\\n",
        "                                                           model, model.device, loader,\\\n",
        "                                                           optim, epoch, criterion1, criterion2, batch_size, path_name, \\\n",
        "                                                           path_model_save, scheduler, model_save, img_save)\n",
        "  batch_size, loader = bs_display, test_dl_display\n",
        "  test_loss, test_mask_loss, test_depth_loss, test_mask_iou, test_depth_iou = test_loss_fn.test_loss_calc(             \\\n",
        "                                                         model, model.device, loader, optim,                           \\\n",
        "                                                         epoch, criterion1, criterion2, batch_size, path_name,         \\\n",
        "                                                         scheduler, img_save)\n",
        "  scheduler.step()\n",
        "\n",
        "  train_loss_all.append(train_loss.item()), train_mask_loss_all.append(train_mask_loss.item()), train_depth_loss_all.append(train_depth_loss.item())\n",
        "  test_loss_all.append(test_loss.item()),   test_mask_loss_all.append(test_mask_loss.item()),   test_depth_loss_all.append(test_depth_loss.item())\n",
        "  train_mask_iou_all.append(train_mask_iou), train_depth_iou_all.append(train_depth_iou)\n",
        "  test_mask_iou_all.append(test_mask_iou),   test_depth_iou_all.append(test_depth_iou)\n",
        "\n",
        "  gc.collect()"
      ],
      "execution_count": 27,
      "outputs": [
        {
          "output_type": "stream",
          "text": [
            "TR1|0|-2.390|0.431|0.644|0.598:   0%|          | 0/11 [00:01<?, ?it/s]Clipping input data to the valid range for imshow with RGB data ([0..1] for floats or [0..255] for integers).\n"
          ],
          "name": "stderr"
        },
        {
          "output_type": "stream",
          "text": [
            "Train Epoch:1 Batch_ID: 0 [0/1000 (0%)]\tLoss:-4.35001 Mask_Loss:-2.39042 Dpth_Loss:0.43084 Mask_IOU:0.64446 Dpth_IOU: 0.59787\n"
          ],
          "name": "stdout"
        },
        {
          "output_type": "stream",
          "text": [
            "\rTR1|0|-2.390|0.431|0.644|0.598:   9%|▉         | 1/11 [00:04<00:43,  4.34s/it]"
          ],
          "name": "stderr"
        },
        {
          "output_type": "stream",
          "text": [
            "MODEL SAVED: /content/gdrive/My Drive/FG_Depth_Prediction_0602V20C.pt Epoch & Batch-ID: 1 0\n"
          ],
          "name": "stdout"
        },
        {
          "output_type": "stream",
          "text": [
            "TR1|9|-2230.622|0.450|0.138|0.223:  82%|████████▏ | 9/11 [00:15<00:02,  1.45s/it]Clipping input data to the valid range for imshow with RGB data ([0..1] for floats or [0..255] for integers).\n"
          ],
          "name": "stderr"
        },
        {
          "output_type": "stream",
          "text": [
            "Train Epoch:1 Batch_ID: 9 [864/1000 (82%)]\tLoss:-4460.79297 Mask_Loss:-2230.62158 Dpth_Loss:0.45009 Mask_IOU:0.13787 Dpth_IOU: 0.22331\n"
          ],
          "name": "stdout"
        },
        {
          "output_type": "stream",
          "text": [
            "TR1|10|-11945.913|0.454|0.192|0.254: 100%|██████████| 11/11 [00:18<00:00,  1.68s/it]\n",
            "TS1|0|666357.000|0.475|0.197|0.333:   0%|          | 0/125 [00:00<?, ?it/s]Clipping input data to the valid range for imshow with RGB data ([0..1] for floats or [0..255] for integers).\n"
          ],
          "name": "stderr"
        },
        {
          "output_type": "stream",
          "text": [
            "Test Epoch: 1 [0/1000 (0%)]\tTest_Loss: 1332714.500000 Mask_Loss: 666357.00000 Dpth_Loss: 0.47491 Mask_IOU: 0.19735 Dpth_IOU: 0.33328\n"
          ],
          "name": "stdout"
        },
        {
          "output_type": "stream",
          "text": [
            "Clipping input data to the valid range for imshow with RGB data ([0..1] for floats or [0..255] for integers).\n",
            "TS1|124|835657.000|0.481|0.226|0.207:  99%|█████████▉| 124/125 [00:16<00:00,  8.45it/s] Clipping input data to the valid range for imshow with RGB data ([0..1] for floats or [0..255] for integers).\n"
          ],
          "name": "stderr"
        },
        {
          "output_type": "stream",
          "text": [
            "Test Epoch: 1 [496/1000 (99%)]\tTest_Loss: 1671314.500000 Mask_Loss: 835657.00000 Dpth_Loss: 0.48057 Mask_IOU: 0.22564 Dpth_IOU: 0.20670\n"
          ],
          "name": "stdout"
        },
        {
          "output_type": "stream",
          "text": [
            "Clipping input data to the valid range for imshow with RGB data ([0..1] for floats or [0..255] for integers).\n",
            "TS1|124|835657.000|0.481|0.226|0.207: 100%|██████████| 125/125 [00:16<00:00,  7.49it/s]\n",
            "TR2|0|-13949.312|0.450|0.093|0.236:   0%|          | 0/11 [00:01<?, ?it/s]Clipping input data to the valid range for imshow with RGB data ([0..1] for floats or [0..255] for integers).\n"
          ],
          "name": "stderr"
        },
        {
          "output_type": "stream",
          "text": [
            "Train Epoch:2 Batch_ID: 0 [0/1000 (0%)]\tLoss:-27898.17578 Mask_Loss:-13949.31250 Dpth_Loss:0.44954 Mask_IOU:0.09290 Dpth_IOU: 0.23606\n"
          ],
          "name": "stdout"
        },
        {
          "output_type": "stream",
          "text": [
            "\rTR2|0|-13949.312|0.450|0.093|0.236:   9%|▉         | 1/11 [00:03<00:36,  3.66s/it]"
          ],
          "name": "stderr"
        },
        {
          "output_type": "stream",
          "text": [
            "MODEL SAVED: /content/gdrive/My Drive/FG_Depth_Prediction_0602V20C.pt Epoch & Batch-ID: 2 0\n"
          ],
          "name": "stdout"
        },
        {
          "output_type": "stream",
          "text": [
            "TR2|9|-27324.777|0.439|0.000|0.297:  82%|████████▏ | 9/11 [00:15<00:02,  1.41s/it]Clipping input data to the valid range for imshow with RGB data ([0..1] for floats or [0..255] for integers).\n"
          ],
          "name": "stderr"
        },
        {
          "output_type": "stream",
          "text": [
            "Train Epoch:2 Batch_ID: 9 [864/1000 (82%)]\tLoss:-54649.11719 Mask_Loss:-27324.77734 Dpth_Loss:0.43940 Mask_IOU:0.00000 Dpth_IOU: 0.29719\n"
          ],
          "name": "stdout"
        },
        {
          "output_type": "stream",
          "text": [
            "TR2|10|-150760.312|0.439|0.000|0.290: 100%|██████████| 11/11 [00:17<00:00,  1.63s/it]\n",
            "TS2|0|10029000.000|0.500|0.000|0.372:   0%|          | 0/125 [00:00<?, ?it/s]Clipping input data to the valid range for imshow with RGB data ([0..1] for floats or [0..255] for integers).\n"
          ],
          "name": "stderr"
        },
        {
          "output_type": "stream",
          "text": [
            "Test Epoch: 2 [0/1000 (0%)]\tTest_Loss: 20058000.000000 Mask_Loss: 10029000.00000 Dpth_Loss: 0.49988 Mask_IOU: 0.00000 Dpth_IOU: 0.37225\n"
          ],
          "name": "stdout"
        },
        {
          "output_type": "stream",
          "text": [
            "Clipping input data to the valid range for imshow with RGB data ([0..1] for floats or [0..255] for integers).\n",
            "TS2|124|22652302.000|0.500|0.000|0.295:  98%|█████████▊| 123/125 [00:12<00:00, 10.32it/s]Clipping input data to the valid range for imshow with RGB data ([0..1] for floats or [0..255] for integers).\n"
          ],
          "name": "stderr"
        },
        {
          "output_type": "stream",
          "text": [
            "Test Epoch: 2 [496/1000 (99%)]\tTest_Loss: 45304604.000000 Mask_Loss: 22652302.00000 Dpth_Loss: 0.49994 Mask_IOU: 0.00000 Dpth_IOU: 0.29532\n"
          ],
          "name": "stdout"
        },
        {
          "output_type": "stream",
          "text": [
            "Clipping input data to the valid range for imshow with RGB data ([0..1] for floats or [0..255] for integers).\n",
            "TS2|124|22652302.000|0.500|0.000|0.295: 100%|██████████| 125/125 [00:13<00:00,  9.44it/s]\n"
          ],
          "name": "stderr"
        }
      ]
    },
    {
      "cell_type": "code",
      "metadata": {
        "id": "9P1B90boXex8",
        "colab_type": "code",
        "colab": {}
      },
      "source": [
        "print('train_loss_all:',train_loss_all)\n",
        "print('train_mask_loss_all:',train_mask_loss_all)\n",
        "print('train_depth_loss_all:',train_depth_loss_all)\n",
        "print('train_mask_iou_all:',train_mask_iou_all)\n",
        "print('train_depth_iou_all:',train_depth_iou_all)\n",
        "print('test_loss_all:',test_loss_all)\n",
        "print('test_mask_loss_all:',test_mask_loss_all)\n",
        "print('test_depth_loss_all:',test_depth_loss_all)\n",
        "print('test_mask_iou_all:',test_mask_iou_all)\n",
        "print('test_depth_iou_all:',test_depth_iou_all)"
      ],
      "execution_count": 0,
      "outputs": []
    },
    {
      "cell_type": "code",
      "metadata": {
        "id": "11S4MBY2Xh7F",
        "colab_type": "code",
        "colab": {}
      },
      "source": [
        " \n",
        "figure = plt.figure(figsize=(25,5))\n",
        "\n",
        "plt.subplot(1,5,1)\n",
        "plt.title(\"Loss Plot\")\n",
        "plt.plot(train_loss_all,label='Train Loss')\n",
        "plt.plot(test_loss_all, label='Test Loss')\n",
        "plt.legend(loc=\"best\")\n",
        "\n",
        "plt.subplot(1,5,2)\n",
        "plt.title(\"Mask Losses\")\n",
        "plt.plot(train_mask_loss_all,label='Train Mask Loss')\n",
        "plt.plot(test_mask_loss_all, label='Test Mask Loss')\n",
        "plt.legend(loc=\"best\")\n",
        "\n",
        "plt.subplot(1,5,3)\n",
        "plt.title(\"Depth Losses\")\n",
        "plt.plot(train_depth_loss_all,label='Train Depth Loss')\n",
        "plt.plot(test_depth_loss_all, label='Test Depth Loss')\n",
        "plt.legend(loc=\"best\")\n",
        "\n",
        "plt.subplot(1,5,4)\n",
        "plt.title(\"Mask IOU\")\n",
        "plt.plot(train_mask_iou_all,label='Train Mask IOU')\n",
        "plt.plot(test_mask_iou_all, label='Test Mask IOU')\n",
        "plt.legend(loc=\"best\")\n",
        "\n",
        "plt.subplot(1,5,5)\n",
        "plt.title(\"Depth IOU\")\n",
        "plt.plot(train_depth_iou_all,label='Train Depth IOU')\n",
        "plt.plot(test_depth_iou_all, label='Test Depth IOU')\n",
        "plt.legend(loc=\"best\")"
      ],
      "execution_count": 0,
      "outputs": []
    },
    {
      "cell_type": "code",
      "metadata": {
        "id": "00a2tFeHVF2q",
        "colab_type": "code",
        "colab": {}
      },
      "source": [
        "test_ds_display = md1.Make1data(f1, content_list, 390000, t400k,  \n",
        "                  test_fg_bg_transforms['t_0'],test_bg_transforms['t_0'],mask_transforms['t_0'],depth_transforms['t_0'])\n",
        "test_dl_display = DataLoader(test_ds_display, batch_size = 8,  shuffle = True, pin_memory = True)\n",
        "batch_size, loader = 8, test_dl_display\n",
        "epoch = 11\n",
        "test_loss, test_mask_loss, test_depth_loss, test_mask_iou, test_depth_iou = test_loss_fn.test_loss_calc(             \\\n",
        "                                                         model, model.device, loader, optim,                           \\\n",
        "                                                         epoch, criterion1, criterion2, batch_size, path_name,         \\\n",
        "                                                         scheduler, img_save)"
      ],
      "execution_count": 0,
      "outputs": []
    },
    {
      "cell_type": "code",
      "metadata": {
        "id": "a9N3h4nEXsIs",
        "colab_type": "code",
        "colab": {}
      },
      "source": [
        ""
      ],
      "execution_count": 0,
      "outputs": []
    }
  ]
}